{
 "cells": [
  {
   "cell_type": "markdown",
   "id": "1bc074b5-ca29-4dea-b260-1f3206d2a4f0",
   "metadata": {},
   "source": [
    "# <b><u>Konkrete Fragen</u></b>"
   ]
  },
  {
   "cell_type": "markdown",
   "id": "ceffc4b7",
   "metadata": {},
   "source": [
    "| Studierende:    | Achim Duong | Lukas Grüßinger | Ferdinand Schuh | Ben Dondelinger|\n",
    "| --------- | ------------- | ------------- | ------------- | ------------- |\n"
   ]
  },
  {
   "cell_type": "markdown",
   "id": "50401a13-da21-459b-9d50-9072a366871d",
   "metadata": {},
   "source": [
    "Das Trinkgeldverhalten ist ein Schlüsselindikator für die Zufriedenheit der Kunden und Zusteller. Neben den generellen Einflussfaktoren wie Tageszeit oder Bestellhistorie könnten auch die bestellten Produkte selbst eine wichtige Rolle spielen. So könnte etwa die Wahl bestimmter Kategorien oder spezifischer Produkte einen Einfluss auf die Bereitschaft der Kunden haben, ein Trinkgeld zu geben. Ein besseres Verständnis dieser Zusammenhänge bietet nicht nur die Möglichkeit, das Kundenerlebnis gezielt zu verbessern, sondern könnte auch dabei helfen, gezielte Marketing- und Dispositionsstrategien zu entwickeln.\n",
    "\n",
    "In unserer Analyse untersuchen wir daher, ob das Trinkgeldverhalten mit den bestellten Produktkategorien (Departments) zusammenhängt, welche Produkte die Wahrscheinlichkeit eines Trinkgeldes besonders beeinflussen und ob diese Effekte unabhängig von den Departments bestehen. Diese Erkenntnisse bilden eine solide Grundlage für datengetriebene Entscheidungen in den operativen und strategischen Geschäftsbereichen."
   ]
  },
  {
   "cell_type": "markdown",
   "id": "57b6eb69",
   "metadata": {},
   "source": [
    "## <b>Inhaltsverzeichnis</b>\n",
    "\n",
    "<ul>\n",
    "  <li><a href=\"#datenvorbereitung\" style=\"color:white;\">1. Datenvorbereitung</a>\n",
    "    <ul>\n",
    "      <li><a href=\"#bibliotheken\" style=\"color:white;\">Bibliotheken</a></li>\n",
    "      <li><a href=\"#daten-einlesen\" style=\"color:white;\">Daten einlesen</a></li>\n",
    "    </ul>\n",
    "  </li>\n",
    "  <li><a href=\"#konkrete-fragen-der-stakeholder\" style=\"color:white;\">2. Konkrete Fragen der Stakeholder</a>\n",
    "    <ul>\n",
    "      <li><a href=\"#abhängigkeit-des-trinkgeldverhaltens-zu-früheren-bestellungen\" style=\"color:white;\">Abhängigkeit des Trinkgeldverhaltens zu früheren Bestellungen</a>\n",
    "        <ul>\n",
    "          <li><a href=\"#zusammenhang-zur-vorhergehenden-bestellung\" style=\"color:white;\">Zusammenhang zur vorhergehenden Bestellung</a></li>\n",
    "          <li><a href=\"#zusammenhang-zur-vor-vorhergehenden-bestellung\" style=\"color:white;\">Zusammenhang zur vor-vorhergehenden Bestellung</a></li>\n",
    "          <li><a href=\"#direkter-zusammenhang-zur-vor-vorhergehenden-bestellung-über-vorhergehende-bestellung-hinaus\" style=\"color:white;\">Direkter Zusammenhang zur vor-vorhergehenden Bestellung über vorhergehende Bestellung hinaus</a></li>\n",
    "        </ul>\n",
    "      </li>\n",
    "      <li><a href=\"#abhängigkeit-des-trinkgeldverhaltens-zu-den-produkten-und-departments\" style=\"color:white;\">Abhängigkeit des Trinkgeldverhaltens zu den Produkten und Departments</a>\n",
    "        <ul>\n",
    "          <li><a href=\"#zusammenhang-zu-departments\" style=\"color:white;\">Zusammenhang zu Departments</a></li>\n",
    "          <li><a href=\"#produkte-mit-starkem-einfluss-auf-das-trinkgeldverhalten\" style=\"color:white;\">Produkte mit starkem Einfluss auf das Trinkgeldverhalten</a></li>\n",
    "          <li><a href=\"#direkter-zusammenhang-zu-produkten-über-entsprechende-departments-hinaus\" style=\"color:white;\">Direkter Zusammenhang zu Produkten über entsprechende Departments hinaus</a></li>\n",
    "        </ul>\n",
    "      </li>\n",
    "      <li><a href=\"#abhängigkeit-des-trinkgeldverhaltens-zur-tageszeit-wochentag-und-zeitabstand-zu-vorheriger-bestellung\" style=\"color:white;\">Abhängigkeit des Trinkgeldverhaltens zur Tageszeit Wochentag und Zeitabstand zu vorheriger Bestellung</a></li>\n",
    "              <ul>\n",
    "          <li><a href=\"#zusammenhang-zur-tageszeit\" style=\"color:white;\">Zusammenhang zur Tageszeit</a></li>\n",
    "          <li><a href=\"#zusammenhang-zum-wochentag\" style=\"color:white;\">Zusammenhang zum Wochentag</a></li>\n",
    "          <li><a href=\"#zusammenhang-zum-zeitabstand-zur-vorherigen-bestellung\" style=\"color:white;\">Zusammenhang zum Zeitabstand zur vorherigen Bestellung</a></li>\n",
    "        </ul>\n",
    "    </ul>\n",
    "  </li>\n",
    "  <li><a href=\"#zusammenfassung\" style=\"color:white;\">3. Zusammenfassung</a>\n",
    "  </li>\n",
    "</ul>\n"
   ]
  },
  {
   "cell_type": "markdown",
   "id": "55cde75c",
   "metadata": {},
   "source": [
    "## **Datenvorbereitung**"
   ]
  },
  {
   "cell_type": "markdown",
   "id": "ef5bd1b3-8d56-47e1-8f1a-1a38859233cd",
   "metadata": {
    "tags": []
   },
   "source": [
    "### Bibliotheken"
   ]
  },
  {
   "cell_type": "code",
   "execution_count": 56,
   "id": "ff977122-b688-49ea-94c0-6a3d64f392f5",
   "metadata": {},
   "outputs": [],
   "source": [
    "# importieren der benötigten Bibliotheken\n",
    "import pandas as pd # Datenverarbeitung\n",
    "import numpy as np \n",
    "import plotly.express as px # Visualisierung\n",
    "from scipy.stats import chi2_contingency, chi2 # Chi-Quadrat-Test\n",
    "import os # Dateipfade"
   ]
  },
  {
   "cell_type": "markdown",
   "id": "4c0971a7-a59a-4d6b-8a07-fe273c00bab3",
   "metadata": {},
   "source": [
    "### Daten einlesen"
   ]
  },
  {
   "cell_type": "code",
   "execution_count": 57,
   "id": "a617c934-0126-451f-b7b5-5a0b379c4c00",
   "metadata": {},
   "outputs": [],
   "source": [
    "# Pfade zu den Dateien\n",
    "os.chdir(\"Datensätze\")\n",
    "\n",
    "df_aisles = pd.read_csv(\"aisles.csv.zip\",)\n",
    "df_departments = pd.read_csv(\"departments.csv.zip\")\n",
    "df_order_products = pd.read_csv(\"order_products_s.csv.zip\")\n",
    "df_oders_s = pd.read_csv(\"orders_s.csv.zip\")\n",
    "df_products = pd.read_csv(\"products.csv.zip\")\n",
    "df_tips = pd.read_csv(\"tips.csv.zip\")\n",
    "\n",
    "os.chdir(\"..\")"
   ]
  },
  {
   "cell_type": "markdown",
   "id": "5f270f5e-8315-492c-88eb-78754031ad7c",
   "metadata": {},
   "source": [
    "## **Konkrete Fragen der Stakeholder**"
   ]
  },
  {
   "cell_type": "markdown",
   "id": "1e1fb87e",
   "metadata": {},
   "source": [
    "### **Abhängigkeit des Trinkgeldverhaltens zu früheren Bestellungen**\n"
   ]
  },
  {
   "cell_type": "markdown",
   "id": "910fed10",
   "metadata": {},
   "source": [
    "<u>Leitfrage:</u> Hängt die Wahrscheinlichkeit, dass bei einer Bestellung Trinkgeld gegeben wird, vom Trinkgeldverhalten bei früheren Bestellungen desselben Bestellers ab?"
   ]
  },
  {
   "cell_type": "markdown",
   "id": "bbe36e2d-35da-486c-b520-332fe8597056",
   "metadata": {},
   "source": [
    "#### **Zusammenhang zur vorhergehenden Bestellung**"
   ]
  },
  {
   "cell_type": "markdown",
   "id": "81bcc1cf",
   "metadata": {},
   "source": [
    "Frage: Gibt es einen Zusammenhang bezüglich der vorhergehenden Bestellung?"
   ]
  },
  {
   "cell_type": "code",
   "execution_count": 59,
   "id": "ce9822f9-e2c3-49b2-a0ba-05fc87f8c3e9",
   "metadata": {},
   "outputs": [],
   "source": [
    "# Mergen von Tips und Orders nach order_id\n",
    "df_tips_orders = pd.merge(df_tips, df_oders_s, on=\"order_id\", how=\"inner\")\n",
    "df_tips_orders = df_tips_orders[[\"order_id\", \"user_id\", \"tip\"]]"
   ]
  },
  {
   "cell_type": "code",
   "execution_count": 60,
   "id": "017a54ff-fcc5-47bf-a2ce-6221602bc9d6",
   "metadata": {},
   "outputs": [],
   "source": [
    "# Vorherige Order nach user_id hinzufügen\n",
    "df_tips_orders[\"pre_tip\"] = df_tips_orders.groupby(\"user_id\")[\"tip\"].shift(1)"
   ]
  },
  {
   "cell_type": "code",
   "execution_count": 61,
   "id": "9525e93f-6859-4080-831f-a9e09ee758bb",
   "metadata": {},
   "outputs": [
    {
     "data": {
      "application/vnd.plotly.v1+json": {
       "config": {
        "plotlyServerURL": "https://plot.ly"
       },
       "data": [
        {
         "coloraxis": "coloraxis",
         "hovertemplate": "x: %{x}<br>y: %{y}<br>color: %{z}<extra></extra>",
         "name": "0",
         "texttemplate": "%{z}",
         "type": "heatmap",
         "x": [
          "Trinkgeld vorher",
          "Kein Trinkgeld vorher"
         ],
         "xaxis": "x",
         "y": [
          "Trinkgeld",
          "Kein Trinkgeld"
         ],
         "yaxis": "y",
         "z": [
          [
           679280,
           197972
          ],
          [
           195929,
           496736
          ]
         ]
        }
       ],
       "layout": {
        "coloraxis": {
         "colorbar": {
          "title": {
           "text": "Häufigkeit"
          }
         },
         "colorscale": [
          [
           0,
           "rgb(247,251,255)"
          ],
          [
           0.125,
           "rgb(222,235,247)"
          ],
          [
           0.25,
           "rgb(198,219,239)"
          ],
          [
           0.375,
           "rgb(158,202,225)"
          ],
          [
           0.5,
           "rgb(107,174,214)"
          ],
          [
           0.625,
           "rgb(66,146,198)"
          ],
          [
           0.75,
           "rgb(33,113,181)"
          ],
          [
           0.875,
           "rgb(8,81,156)"
          ],
          [
           1,
           "rgb(8,48,107)"
          ]
         ]
        },
        "margin": {
         "t": 60
        },
        "template": {
         "data": {
          "bar": [
           {
            "error_x": {
             "color": "#2a3f5f"
            },
            "error_y": {
             "color": "#2a3f5f"
            },
            "marker": {
             "line": {
              "color": "#E5ECF6",
              "width": 0.5
             },
             "pattern": {
              "fillmode": "overlay",
              "size": 10,
              "solidity": 0.2
             }
            },
            "type": "bar"
           }
          ],
          "barpolar": [
           {
            "marker": {
             "line": {
              "color": "#E5ECF6",
              "width": 0.5
             },
             "pattern": {
              "fillmode": "overlay",
              "size": 10,
              "solidity": 0.2
             }
            },
            "type": "barpolar"
           }
          ],
          "carpet": [
           {
            "aaxis": {
             "endlinecolor": "#2a3f5f",
             "gridcolor": "white",
             "linecolor": "white",
             "minorgridcolor": "white",
             "startlinecolor": "#2a3f5f"
            },
            "baxis": {
             "endlinecolor": "#2a3f5f",
             "gridcolor": "white",
             "linecolor": "white",
             "minorgridcolor": "white",
             "startlinecolor": "#2a3f5f"
            },
            "type": "carpet"
           }
          ],
          "choropleth": [
           {
            "colorbar": {
             "outlinewidth": 0,
             "ticks": ""
            },
            "type": "choropleth"
           }
          ],
          "contour": [
           {
            "colorbar": {
             "outlinewidth": 0,
             "ticks": ""
            },
            "colorscale": [
             [
              0,
              "#0d0887"
             ],
             [
              0.1111111111111111,
              "#46039f"
             ],
             [
              0.2222222222222222,
              "#7201a8"
             ],
             [
              0.3333333333333333,
              "#9c179e"
             ],
             [
              0.4444444444444444,
              "#bd3786"
             ],
             [
              0.5555555555555556,
              "#d8576b"
             ],
             [
              0.6666666666666666,
              "#ed7953"
             ],
             [
              0.7777777777777778,
              "#fb9f3a"
             ],
             [
              0.8888888888888888,
              "#fdca26"
             ],
             [
              1,
              "#f0f921"
             ]
            ],
            "type": "contour"
           }
          ],
          "contourcarpet": [
           {
            "colorbar": {
             "outlinewidth": 0,
             "ticks": ""
            },
            "type": "contourcarpet"
           }
          ],
          "heatmap": [
           {
            "colorbar": {
             "outlinewidth": 0,
             "ticks": ""
            },
            "colorscale": [
             [
              0,
              "#0d0887"
             ],
             [
              0.1111111111111111,
              "#46039f"
             ],
             [
              0.2222222222222222,
              "#7201a8"
             ],
             [
              0.3333333333333333,
              "#9c179e"
             ],
             [
              0.4444444444444444,
              "#bd3786"
             ],
             [
              0.5555555555555556,
              "#d8576b"
             ],
             [
              0.6666666666666666,
              "#ed7953"
             ],
             [
              0.7777777777777778,
              "#fb9f3a"
             ],
             [
              0.8888888888888888,
              "#fdca26"
             ],
             [
              1,
              "#f0f921"
             ]
            ],
            "type": "heatmap"
           }
          ],
          "heatmapgl": [
           {
            "colorbar": {
             "outlinewidth": 0,
             "ticks": ""
            },
            "colorscale": [
             [
              0,
              "#0d0887"
             ],
             [
              0.1111111111111111,
              "#46039f"
             ],
             [
              0.2222222222222222,
              "#7201a8"
             ],
             [
              0.3333333333333333,
              "#9c179e"
             ],
             [
              0.4444444444444444,
              "#bd3786"
             ],
             [
              0.5555555555555556,
              "#d8576b"
             ],
             [
              0.6666666666666666,
              "#ed7953"
             ],
             [
              0.7777777777777778,
              "#fb9f3a"
             ],
             [
              0.8888888888888888,
              "#fdca26"
             ],
             [
              1,
              "#f0f921"
             ]
            ],
            "type": "heatmapgl"
           }
          ],
          "histogram": [
           {
            "marker": {
             "pattern": {
              "fillmode": "overlay",
              "size": 10,
              "solidity": 0.2
             }
            },
            "type": "histogram"
           }
          ],
          "histogram2d": [
           {
            "colorbar": {
             "outlinewidth": 0,
             "ticks": ""
            },
            "colorscale": [
             [
              0,
              "#0d0887"
             ],
             [
              0.1111111111111111,
              "#46039f"
             ],
             [
              0.2222222222222222,
              "#7201a8"
             ],
             [
              0.3333333333333333,
              "#9c179e"
             ],
             [
              0.4444444444444444,
              "#bd3786"
             ],
             [
              0.5555555555555556,
              "#d8576b"
             ],
             [
              0.6666666666666666,
              "#ed7953"
             ],
             [
              0.7777777777777778,
              "#fb9f3a"
             ],
             [
              0.8888888888888888,
              "#fdca26"
             ],
             [
              1,
              "#f0f921"
             ]
            ],
            "type": "histogram2d"
           }
          ],
          "histogram2dcontour": [
           {
            "colorbar": {
             "outlinewidth": 0,
             "ticks": ""
            },
            "colorscale": [
             [
              0,
              "#0d0887"
             ],
             [
              0.1111111111111111,
              "#46039f"
             ],
             [
              0.2222222222222222,
              "#7201a8"
             ],
             [
              0.3333333333333333,
              "#9c179e"
             ],
             [
              0.4444444444444444,
              "#bd3786"
             ],
             [
              0.5555555555555556,
              "#d8576b"
             ],
             [
              0.6666666666666666,
              "#ed7953"
             ],
             [
              0.7777777777777778,
              "#fb9f3a"
             ],
             [
              0.8888888888888888,
              "#fdca26"
             ],
             [
              1,
              "#f0f921"
             ]
            ],
            "type": "histogram2dcontour"
           }
          ],
          "mesh3d": [
           {
            "colorbar": {
             "outlinewidth": 0,
             "ticks": ""
            },
            "type": "mesh3d"
           }
          ],
          "parcoords": [
           {
            "line": {
             "colorbar": {
              "outlinewidth": 0,
              "ticks": ""
             }
            },
            "type": "parcoords"
           }
          ],
          "pie": [
           {
            "automargin": true,
            "type": "pie"
           }
          ],
          "scatter": [
           {
            "fillpattern": {
             "fillmode": "overlay",
             "size": 10,
             "solidity": 0.2
            },
            "type": "scatter"
           }
          ],
          "scatter3d": [
           {
            "line": {
             "colorbar": {
              "outlinewidth": 0,
              "ticks": ""
             }
            },
            "marker": {
             "colorbar": {
              "outlinewidth": 0,
              "ticks": ""
             }
            },
            "type": "scatter3d"
           }
          ],
          "scattercarpet": [
           {
            "marker": {
             "colorbar": {
              "outlinewidth": 0,
              "ticks": ""
             }
            },
            "type": "scattercarpet"
           }
          ],
          "scattergeo": [
           {
            "marker": {
             "colorbar": {
              "outlinewidth": 0,
              "ticks": ""
             }
            },
            "type": "scattergeo"
           }
          ],
          "scattergl": [
           {
            "marker": {
             "colorbar": {
              "outlinewidth": 0,
              "ticks": ""
             }
            },
            "type": "scattergl"
           }
          ],
          "scattermapbox": [
           {
            "marker": {
             "colorbar": {
              "outlinewidth": 0,
              "ticks": ""
             }
            },
            "type": "scattermapbox"
           }
          ],
          "scatterpolar": [
           {
            "marker": {
             "colorbar": {
              "outlinewidth": 0,
              "ticks": ""
             }
            },
            "type": "scatterpolar"
           }
          ],
          "scatterpolargl": [
           {
            "marker": {
             "colorbar": {
              "outlinewidth": 0,
              "ticks": ""
             }
            },
            "type": "scatterpolargl"
           }
          ],
          "scatterternary": [
           {
            "marker": {
             "colorbar": {
              "outlinewidth": 0,
              "ticks": ""
             }
            },
            "type": "scatterternary"
           }
          ],
          "surface": [
           {
            "colorbar": {
             "outlinewidth": 0,
             "ticks": ""
            },
            "colorscale": [
             [
              0,
              "#0d0887"
             ],
             [
              0.1111111111111111,
              "#46039f"
             ],
             [
              0.2222222222222222,
              "#7201a8"
             ],
             [
              0.3333333333333333,
              "#9c179e"
             ],
             [
              0.4444444444444444,
              "#bd3786"
             ],
             [
              0.5555555555555556,
              "#d8576b"
             ],
             [
              0.6666666666666666,
              "#ed7953"
             ],
             [
              0.7777777777777778,
              "#fb9f3a"
             ],
             [
              0.8888888888888888,
              "#fdca26"
             ],
             [
              1,
              "#f0f921"
             ]
            ],
            "type": "surface"
           }
          ],
          "table": [
           {
            "cells": {
             "fill": {
              "color": "#EBF0F8"
             },
             "line": {
              "color": "white"
             }
            },
            "header": {
             "fill": {
              "color": "#C8D4E3"
             },
             "line": {
              "color": "white"
             }
            },
            "type": "table"
           }
          ]
         },
         "layout": {
          "annotationdefaults": {
           "arrowcolor": "#2a3f5f",
           "arrowhead": 0,
           "arrowwidth": 1
          },
          "autotypenumbers": "strict",
          "coloraxis": {
           "colorbar": {
            "outlinewidth": 0,
            "ticks": ""
           }
          },
          "colorscale": {
           "diverging": [
            [
             0,
             "#8e0152"
            ],
            [
             0.1,
             "#c51b7d"
            ],
            [
             0.2,
             "#de77ae"
            ],
            [
             0.3,
             "#f1b6da"
            ],
            [
             0.4,
             "#fde0ef"
            ],
            [
             0.5,
             "#f7f7f7"
            ],
            [
             0.6,
             "#e6f5d0"
            ],
            [
             0.7,
             "#b8e186"
            ],
            [
             0.8,
             "#7fbc41"
            ],
            [
             0.9,
             "#4d9221"
            ],
            [
             1,
             "#276419"
            ]
           ],
           "sequential": [
            [
             0,
             "#0d0887"
            ],
            [
             0.1111111111111111,
             "#46039f"
            ],
            [
             0.2222222222222222,
             "#7201a8"
            ],
            [
             0.3333333333333333,
             "#9c179e"
            ],
            [
             0.4444444444444444,
             "#bd3786"
            ],
            [
             0.5555555555555556,
             "#d8576b"
            ],
            [
             0.6666666666666666,
             "#ed7953"
            ],
            [
             0.7777777777777778,
             "#fb9f3a"
            ],
            [
             0.8888888888888888,
             "#fdca26"
            ],
            [
             1,
             "#f0f921"
            ]
           ],
           "sequentialminus": [
            [
             0,
             "#0d0887"
            ],
            [
             0.1111111111111111,
             "#46039f"
            ],
            [
             0.2222222222222222,
             "#7201a8"
            ],
            [
             0.3333333333333333,
             "#9c179e"
            ],
            [
             0.4444444444444444,
             "#bd3786"
            ],
            [
             0.5555555555555556,
             "#d8576b"
            ],
            [
             0.6666666666666666,
             "#ed7953"
            ],
            [
             0.7777777777777778,
             "#fb9f3a"
            ],
            [
             0.8888888888888888,
             "#fdca26"
            ],
            [
             1,
             "#f0f921"
            ]
           ]
          },
          "colorway": [
           "#636efa",
           "#EF553B",
           "#00cc96",
           "#ab63fa",
           "#FFA15A",
           "#19d3f3",
           "#FF6692",
           "#B6E880",
           "#FF97FF",
           "#FECB52"
          ],
          "font": {
           "color": "#2a3f5f"
          },
          "geo": {
           "bgcolor": "white",
           "lakecolor": "white",
           "landcolor": "#E5ECF6",
           "showlakes": true,
           "showland": true,
           "subunitcolor": "white"
          },
          "hoverlabel": {
           "align": "left"
          },
          "hovermode": "closest",
          "mapbox": {
           "style": "light"
          },
          "paper_bgcolor": "white",
          "plot_bgcolor": "#E5ECF6",
          "polar": {
           "angularaxis": {
            "gridcolor": "white",
            "linecolor": "white",
            "ticks": ""
           },
           "bgcolor": "#E5ECF6",
           "radialaxis": {
            "gridcolor": "white",
            "linecolor": "white",
            "ticks": ""
           }
          },
          "scene": {
           "xaxis": {
            "backgroundcolor": "#E5ECF6",
            "gridcolor": "white",
            "gridwidth": 2,
            "linecolor": "white",
            "showbackground": true,
            "ticks": "",
            "zerolinecolor": "white"
           },
           "yaxis": {
            "backgroundcolor": "#E5ECF6",
            "gridcolor": "white",
            "gridwidth": 2,
            "linecolor": "white",
            "showbackground": true,
            "ticks": "",
            "zerolinecolor": "white"
           },
           "zaxis": {
            "backgroundcolor": "#E5ECF6",
            "gridcolor": "white",
            "gridwidth": 2,
            "linecolor": "white",
            "showbackground": true,
            "ticks": "",
            "zerolinecolor": "white"
           }
          },
          "shapedefaults": {
           "line": {
            "color": "#2a3f5f"
           }
          },
          "ternary": {
           "aaxis": {
            "gridcolor": "white",
            "linecolor": "white",
            "ticks": ""
           },
           "baxis": {
            "gridcolor": "white",
            "linecolor": "white",
            "ticks": ""
           },
           "bgcolor": "#E5ECF6",
           "caxis": {
            "gridcolor": "white",
            "linecolor": "white",
            "ticks": ""
           }
          },
          "title": {
           "x": 0.05
          },
          "xaxis": {
           "automargin": true,
           "gridcolor": "white",
           "linecolor": "white",
           "ticks": "",
           "title": {
            "standoff": 15
           },
           "zerolinecolor": "white",
           "zerolinewidth": 2
          },
          "yaxis": {
           "automargin": true,
           "gridcolor": "white",
           "linecolor": "white",
           "ticks": "",
           "title": {
            "standoff": 15
           },
           "zerolinecolor": "white",
           "zerolinewidth": 2
          }
         }
        },
        "title": {
         "font": {
          "size": 18
         },
         "text": "<b>Vierfeldertafel der Trinkgeldverteilung</b><br>Analyse des Trinkgeldverhaltens basierend auf vorheriger Bestellung<br>",
         "x": 0.5
        },
        "width": 900,
        "xaxis": {
         "anchor": "y",
         "constrain": "domain",
         "domain": [
          0,
          1
         ],
         "scaleanchor": "y"
        },
        "yaxis": {
         "anchor": "x",
         "autorange": "reversed",
         "constrain": "domain",
         "domain": [
          0,
          1
         ]
        }
       }
      }
     },
     "metadata": {},
     "output_type": "display_data"
    }
   ],
   "source": [
    "# Vierfeldertafel erstellen\n",
    "vierfeldertafel_preorder = pd.crosstab(df_tips_orders.tip, df_tips_orders.pre_tip)\n",
    "vierfeldertafel_preorder.index = [\"Trinkgeld\", \"Kein Trinkgeld\"]\n",
    "vierfeldertafel_preorder.columns = [\"Trinkgeld vorher\", \"Kein Trinkgeld vorher\"]\n",
    "\n",
    "# Heatmap-Darstellung\n",
    "fig_vierfeldertafel_preorder = px.imshow(\n",
    "    vierfeldertafel_preorder.values,  # Werte der Tafel\n",
    "    x=vierfeldertafel_preorder.columns,  # Spaltennamen als x-Achse\n",
    "    y=vierfeldertafel_preorder.index,    # Zeilennamen als y-Achse\n",
    "    color_continuous_scale=\"Blues\",  # Farbschema\n",
    "    text_auto=True,  # Zahlen direkt in die Heatmap schreiben\n",
    "    #template=\"plotly_dark\",  # Dunkles Design\n",
    "    width=900,  # Breite des Plots\n",
    ")\n",
    "\n",
    "fig_vierfeldertafel_preorder.update_layout(\n",
    "    title=\"<b>Vierfeldertafel der Trinkgeldverteilung</b><br>Analyse des Trinkgeldverhaltens basierend auf vorheriger Bestellung<br>\",  # Titel\n",
    "    title_font=dict(size=18),  # Größerer Titel\n",
    "    title_x=0.5,               # Titel horizontal zentrieren\n",
    "    coloraxis_colorbar=dict(title=\"Häufigkeit\")  # Farbskala beschriften\n",
    ")\n",
    "\n",
    "# Diagramm anzeigen\n",
    "fig_vierfeldertafel_preorder.show()"
   ]
  },
  {
   "cell_type": "markdown",
   "id": "275de905-63c3-4a67-8ec0-c5b4ea5bc842",
   "metadata": {
    "tags": []
   },
   "source": [
    "##### Erste Interpretation\n",
    "- Kunden, welche bei der Bestellung Trinkgeld gegeben haben, haben das bei der vorherigen Bestellung tendenziell auch gemacht.\n",
    "- Kunden, welche bei der Bestellung kein Trinkgeld gegeben haben, haben das bei der vorherigen Bestellung auch nicht gemacht.\n",
    "\n",
    "=> Kunden weisen bei dem Trinkgeldverhalten ein ähnliches Verhalten auf"
   ]
  },
  {
   "cell_type": "markdown",
   "id": "9c6c665c-d471-4fa2-99c0-a04057ed9b8c",
   "metadata": {
    "tags": []
   },
   "source": [
    "##### Stochastische Überprüfung\n",
    "- Variablen sind Diskret und Nominalskaliert, da beide Spalten Bools sind.\n",
    "- Sehr große Stichprobengröße (n > 1.5M)\n",
    "  \n",
    "=> Chi-Quadrat zur Überprüfung der Abhängigkeit\n",
    "\n",
    "* <u> Nullhypothese H0:</u> Es besteht kein Zusammenhang zwischen Trinkgeldverhalten der jetzigen zur vorherigen Bestellung.\n",
    "* <u>Alternativhypothese H1:</u> Es besteht ein Zusammenhang zwischen Trinkgeldverhalten der jetzigen zur vorherigen Bestellung.\n",
    "* Freiheitsgrad = (Anzahl Spalten - 1) * (Anzahl Zeilen - 1)\n",
    "* Signifikanzniveau = 0.05\n",
    "* Kritischen Wert aus Signifikanzniveau und Freiheitsgrad bestimmen."
   ]
  },
  {
   "cell_type": "code",
   "execution_count": 62,
   "id": "1b669c2e-8f0e-4e9a-a6fa-885154df58e6",
   "metadata": {},
   "outputs": [
    {
     "name": "stdout",
     "output_type": "stream",
     "text": [
      "Freiheitsgrad: 1\n",
      "Kritischer Wert: 3.84\n"
     ]
    }
   ],
   "source": [
    "freiheitsgrad = (vierfeldertafel_preorder.shape[0]- 1) * (vierfeldertafel_preorder.shape[1] - 1)\n",
    "signifikanz = 0.05\n",
    "critical_value = chi2.ppf(1 - signifikanz, freiheitsgrad)\n",
    "print(f\"Freiheitsgrad: {freiheitsgrad}\")\n",
    "print(f\"Kritischer Wert: {round(critical_value,2)}\")"
   ]
  },
  {
   "cell_type": "code",
   "execution_count": 63,
   "id": "814854c2-19eb-4037-a74d-5d9755719e7e",
   "metadata": {},
   "outputs": [
    {
     "name": "stdout",
     "output_type": "stream",
     "text": [
      "Chi-Quadrat-Test: 378959.08 > 3.84\n",
      "Es besteht ein signifikanter Zusammenhang zwischen den Variablen.\n",
      "p-Wert: 0.0\n"
     ]
    }
   ],
   "source": [
    "# Chi-Quadrat-Test\n",
    "chisquare, p, _, _ = chi2_contingency(vierfeldertafel_preorder)\n",
    "\n",
    "if chisquare > critical_value:\n",
    "    print(f\"Chi-Quadrat-Test: {round(chisquare,2)} > {round(critical_value,2)}\")\n",
    "    print(\"Es besteht ein signifikanter Zusammenhang zwischen den Variablen.\")\n",
    "else:\n",
    "    print(f\"Chi-Quadrat-Test: {round(chisquare,2)} < {round(critical_value,2)}\")\n",
    "    print(\"Es besteht kein signifikanter Zusammenhang zwischen den Variablen.\")\n",
    "print(f\"p-Wert: {round(p, 4)}\")"
   ]
  },
  {
   "cell_type": "markdown",
   "id": "fdfdccde-196d-4f1e-b384-a571c4dd810a",
   "metadata": {},
   "source": [
    "#### **Zusammenhang zur vor-vorhergehenden Bestellung**"
   ]
  },
  {
   "cell_type": "markdown",
   "id": "c58a0e4e",
   "metadata": {},
   "source": [
    "Frage: Gibt es einen Zusammenhang bezüglich der vor-vorhergehenden Bestellung? "
   ]
  },
  {
   "cell_type": "code",
   "execution_count": 64,
   "id": "46b9bbb0-5bb1-48cc-a798-16a8d39022f0",
   "metadata": {},
   "outputs": [],
   "source": [
    "# Vor-vorherige Order nach user_id hinzufügen\n",
    "df_tips_orders[\"prepre_tip\"] = df_tips_orders.groupby(\"user_id\")[\"pre_tip\"].shift(1)"
   ]
  },
  {
   "cell_type": "code",
   "execution_count": 65,
   "id": "ffe8fea7-762c-40f8-a232-efad78032990",
   "metadata": {},
   "outputs": [
    {
     "data": {
      "application/vnd.plotly.v1+json": {
       "config": {
        "plotlyServerURL": "https://plot.ly"
       },
       "data": [
        {
         "coloraxis": "coloraxis",
         "hovertemplate": "x: %{x}<br>y: %{y}<br>color: %{z}<extra></extra>",
         "name": "0",
         "texttemplate": "%{z}",
         "type": "heatmap",
         "x": [
          "Trinkgeld vorvorher",
          "Kein Trinkgeld vorvorher"
         ],
         "xaxis": "x",
         "y": [
          "Trinkgeld",
          "Kein Trinkgeld"
         ],
         "yaxis": "y",
         "z": [
          [
           599710,
           210733
          ],
          [
           208008,
           448362
          ]
         ]
        }
       ],
       "layout": {
        "coloraxis": {
         "colorbar": {
          "title": {
           "text": "Häufigkeit"
          }
         },
         "colorscale": [
          [
           0,
           "rgb(247,251,255)"
          ],
          [
           0.125,
           "rgb(222,235,247)"
          ],
          [
           0.25,
           "rgb(198,219,239)"
          ],
          [
           0.375,
           "rgb(158,202,225)"
          ],
          [
           0.5,
           "rgb(107,174,214)"
          ],
          [
           0.625,
           "rgb(66,146,198)"
          ],
          [
           0.75,
           "rgb(33,113,181)"
          ],
          [
           0.875,
           "rgb(8,81,156)"
          ],
          [
           1,
           "rgb(8,48,107)"
          ]
         ]
        },
        "margin": {
         "t": 60
        },
        "template": {
         "data": {
          "bar": [
           {
            "error_x": {
             "color": "#2a3f5f"
            },
            "error_y": {
             "color": "#2a3f5f"
            },
            "marker": {
             "line": {
              "color": "#E5ECF6",
              "width": 0.5
             },
             "pattern": {
              "fillmode": "overlay",
              "size": 10,
              "solidity": 0.2
             }
            },
            "type": "bar"
           }
          ],
          "barpolar": [
           {
            "marker": {
             "line": {
              "color": "#E5ECF6",
              "width": 0.5
             },
             "pattern": {
              "fillmode": "overlay",
              "size": 10,
              "solidity": 0.2
             }
            },
            "type": "barpolar"
           }
          ],
          "carpet": [
           {
            "aaxis": {
             "endlinecolor": "#2a3f5f",
             "gridcolor": "white",
             "linecolor": "white",
             "minorgridcolor": "white",
             "startlinecolor": "#2a3f5f"
            },
            "baxis": {
             "endlinecolor": "#2a3f5f",
             "gridcolor": "white",
             "linecolor": "white",
             "minorgridcolor": "white",
             "startlinecolor": "#2a3f5f"
            },
            "type": "carpet"
           }
          ],
          "choropleth": [
           {
            "colorbar": {
             "outlinewidth": 0,
             "ticks": ""
            },
            "type": "choropleth"
           }
          ],
          "contour": [
           {
            "colorbar": {
             "outlinewidth": 0,
             "ticks": ""
            },
            "colorscale": [
             [
              0,
              "#0d0887"
             ],
             [
              0.1111111111111111,
              "#46039f"
             ],
             [
              0.2222222222222222,
              "#7201a8"
             ],
             [
              0.3333333333333333,
              "#9c179e"
             ],
             [
              0.4444444444444444,
              "#bd3786"
             ],
             [
              0.5555555555555556,
              "#d8576b"
             ],
             [
              0.6666666666666666,
              "#ed7953"
             ],
             [
              0.7777777777777778,
              "#fb9f3a"
             ],
             [
              0.8888888888888888,
              "#fdca26"
             ],
             [
              1,
              "#f0f921"
             ]
            ],
            "type": "contour"
           }
          ],
          "contourcarpet": [
           {
            "colorbar": {
             "outlinewidth": 0,
             "ticks": ""
            },
            "type": "contourcarpet"
           }
          ],
          "heatmap": [
           {
            "colorbar": {
             "outlinewidth": 0,
             "ticks": ""
            },
            "colorscale": [
             [
              0,
              "#0d0887"
             ],
             [
              0.1111111111111111,
              "#46039f"
             ],
             [
              0.2222222222222222,
              "#7201a8"
             ],
             [
              0.3333333333333333,
              "#9c179e"
             ],
             [
              0.4444444444444444,
              "#bd3786"
             ],
             [
              0.5555555555555556,
              "#d8576b"
             ],
             [
              0.6666666666666666,
              "#ed7953"
             ],
             [
              0.7777777777777778,
              "#fb9f3a"
             ],
             [
              0.8888888888888888,
              "#fdca26"
             ],
             [
              1,
              "#f0f921"
             ]
            ],
            "type": "heatmap"
           }
          ],
          "heatmapgl": [
           {
            "colorbar": {
             "outlinewidth": 0,
             "ticks": ""
            },
            "colorscale": [
             [
              0,
              "#0d0887"
             ],
             [
              0.1111111111111111,
              "#46039f"
             ],
             [
              0.2222222222222222,
              "#7201a8"
             ],
             [
              0.3333333333333333,
              "#9c179e"
             ],
             [
              0.4444444444444444,
              "#bd3786"
             ],
             [
              0.5555555555555556,
              "#d8576b"
             ],
             [
              0.6666666666666666,
              "#ed7953"
             ],
             [
              0.7777777777777778,
              "#fb9f3a"
             ],
             [
              0.8888888888888888,
              "#fdca26"
             ],
             [
              1,
              "#f0f921"
             ]
            ],
            "type": "heatmapgl"
           }
          ],
          "histogram": [
           {
            "marker": {
             "pattern": {
              "fillmode": "overlay",
              "size": 10,
              "solidity": 0.2
             }
            },
            "type": "histogram"
           }
          ],
          "histogram2d": [
           {
            "colorbar": {
             "outlinewidth": 0,
             "ticks": ""
            },
            "colorscale": [
             [
              0,
              "#0d0887"
             ],
             [
              0.1111111111111111,
              "#46039f"
             ],
             [
              0.2222222222222222,
              "#7201a8"
             ],
             [
              0.3333333333333333,
              "#9c179e"
             ],
             [
              0.4444444444444444,
              "#bd3786"
             ],
             [
              0.5555555555555556,
              "#d8576b"
             ],
             [
              0.6666666666666666,
              "#ed7953"
             ],
             [
              0.7777777777777778,
              "#fb9f3a"
             ],
             [
              0.8888888888888888,
              "#fdca26"
             ],
             [
              1,
              "#f0f921"
             ]
            ],
            "type": "histogram2d"
           }
          ],
          "histogram2dcontour": [
           {
            "colorbar": {
             "outlinewidth": 0,
             "ticks": ""
            },
            "colorscale": [
             [
              0,
              "#0d0887"
             ],
             [
              0.1111111111111111,
              "#46039f"
             ],
             [
              0.2222222222222222,
              "#7201a8"
             ],
             [
              0.3333333333333333,
              "#9c179e"
             ],
             [
              0.4444444444444444,
              "#bd3786"
             ],
             [
              0.5555555555555556,
              "#d8576b"
             ],
             [
              0.6666666666666666,
              "#ed7953"
             ],
             [
              0.7777777777777778,
              "#fb9f3a"
             ],
             [
              0.8888888888888888,
              "#fdca26"
             ],
             [
              1,
              "#f0f921"
             ]
            ],
            "type": "histogram2dcontour"
           }
          ],
          "mesh3d": [
           {
            "colorbar": {
             "outlinewidth": 0,
             "ticks": ""
            },
            "type": "mesh3d"
           }
          ],
          "parcoords": [
           {
            "line": {
             "colorbar": {
              "outlinewidth": 0,
              "ticks": ""
             }
            },
            "type": "parcoords"
           }
          ],
          "pie": [
           {
            "automargin": true,
            "type": "pie"
           }
          ],
          "scatter": [
           {
            "fillpattern": {
             "fillmode": "overlay",
             "size": 10,
             "solidity": 0.2
            },
            "type": "scatter"
           }
          ],
          "scatter3d": [
           {
            "line": {
             "colorbar": {
              "outlinewidth": 0,
              "ticks": ""
             }
            },
            "marker": {
             "colorbar": {
              "outlinewidth": 0,
              "ticks": ""
             }
            },
            "type": "scatter3d"
           }
          ],
          "scattercarpet": [
           {
            "marker": {
             "colorbar": {
              "outlinewidth": 0,
              "ticks": ""
             }
            },
            "type": "scattercarpet"
           }
          ],
          "scattergeo": [
           {
            "marker": {
             "colorbar": {
              "outlinewidth": 0,
              "ticks": ""
             }
            },
            "type": "scattergeo"
           }
          ],
          "scattergl": [
           {
            "marker": {
             "colorbar": {
              "outlinewidth": 0,
              "ticks": ""
             }
            },
            "type": "scattergl"
           }
          ],
          "scattermapbox": [
           {
            "marker": {
             "colorbar": {
              "outlinewidth": 0,
              "ticks": ""
             }
            },
            "type": "scattermapbox"
           }
          ],
          "scatterpolar": [
           {
            "marker": {
             "colorbar": {
              "outlinewidth": 0,
              "ticks": ""
             }
            },
            "type": "scatterpolar"
           }
          ],
          "scatterpolargl": [
           {
            "marker": {
             "colorbar": {
              "outlinewidth": 0,
              "ticks": ""
             }
            },
            "type": "scatterpolargl"
           }
          ],
          "scatterternary": [
           {
            "marker": {
             "colorbar": {
              "outlinewidth": 0,
              "ticks": ""
             }
            },
            "type": "scatterternary"
           }
          ],
          "surface": [
           {
            "colorbar": {
             "outlinewidth": 0,
             "ticks": ""
            },
            "colorscale": [
             [
              0,
              "#0d0887"
             ],
             [
              0.1111111111111111,
              "#46039f"
             ],
             [
              0.2222222222222222,
              "#7201a8"
             ],
             [
              0.3333333333333333,
              "#9c179e"
             ],
             [
              0.4444444444444444,
              "#bd3786"
             ],
             [
              0.5555555555555556,
              "#d8576b"
             ],
             [
              0.6666666666666666,
              "#ed7953"
             ],
             [
              0.7777777777777778,
              "#fb9f3a"
             ],
             [
              0.8888888888888888,
              "#fdca26"
             ],
             [
              1,
              "#f0f921"
             ]
            ],
            "type": "surface"
           }
          ],
          "table": [
           {
            "cells": {
             "fill": {
              "color": "#EBF0F8"
             },
             "line": {
              "color": "white"
             }
            },
            "header": {
             "fill": {
              "color": "#C8D4E3"
             },
             "line": {
              "color": "white"
             }
            },
            "type": "table"
           }
          ]
         },
         "layout": {
          "annotationdefaults": {
           "arrowcolor": "#2a3f5f",
           "arrowhead": 0,
           "arrowwidth": 1
          },
          "autotypenumbers": "strict",
          "coloraxis": {
           "colorbar": {
            "outlinewidth": 0,
            "ticks": ""
           }
          },
          "colorscale": {
           "diverging": [
            [
             0,
             "#8e0152"
            ],
            [
             0.1,
             "#c51b7d"
            ],
            [
             0.2,
             "#de77ae"
            ],
            [
             0.3,
             "#f1b6da"
            ],
            [
             0.4,
             "#fde0ef"
            ],
            [
             0.5,
             "#f7f7f7"
            ],
            [
             0.6,
             "#e6f5d0"
            ],
            [
             0.7,
             "#b8e186"
            ],
            [
             0.8,
             "#7fbc41"
            ],
            [
             0.9,
             "#4d9221"
            ],
            [
             1,
             "#276419"
            ]
           ],
           "sequential": [
            [
             0,
             "#0d0887"
            ],
            [
             0.1111111111111111,
             "#46039f"
            ],
            [
             0.2222222222222222,
             "#7201a8"
            ],
            [
             0.3333333333333333,
             "#9c179e"
            ],
            [
             0.4444444444444444,
             "#bd3786"
            ],
            [
             0.5555555555555556,
             "#d8576b"
            ],
            [
             0.6666666666666666,
             "#ed7953"
            ],
            [
             0.7777777777777778,
             "#fb9f3a"
            ],
            [
             0.8888888888888888,
             "#fdca26"
            ],
            [
             1,
             "#f0f921"
            ]
           ],
           "sequentialminus": [
            [
             0,
             "#0d0887"
            ],
            [
             0.1111111111111111,
             "#46039f"
            ],
            [
             0.2222222222222222,
             "#7201a8"
            ],
            [
             0.3333333333333333,
             "#9c179e"
            ],
            [
             0.4444444444444444,
             "#bd3786"
            ],
            [
             0.5555555555555556,
             "#d8576b"
            ],
            [
             0.6666666666666666,
             "#ed7953"
            ],
            [
             0.7777777777777778,
             "#fb9f3a"
            ],
            [
             0.8888888888888888,
             "#fdca26"
            ],
            [
             1,
             "#f0f921"
            ]
           ]
          },
          "colorway": [
           "#636efa",
           "#EF553B",
           "#00cc96",
           "#ab63fa",
           "#FFA15A",
           "#19d3f3",
           "#FF6692",
           "#B6E880",
           "#FF97FF",
           "#FECB52"
          ],
          "font": {
           "color": "#2a3f5f"
          },
          "geo": {
           "bgcolor": "white",
           "lakecolor": "white",
           "landcolor": "#E5ECF6",
           "showlakes": true,
           "showland": true,
           "subunitcolor": "white"
          },
          "hoverlabel": {
           "align": "left"
          },
          "hovermode": "closest",
          "mapbox": {
           "style": "light"
          },
          "paper_bgcolor": "white",
          "plot_bgcolor": "#E5ECF6",
          "polar": {
           "angularaxis": {
            "gridcolor": "white",
            "linecolor": "white",
            "ticks": ""
           },
           "bgcolor": "#E5ECF6",
           "radialaxis": {
            "gridcolor": "white",
            "linecolor": "white",
            "ticks": ""
           }
          },
          "scene": {
           "xaxis": {
            "backgroundcolor": "#E5ECF6",
            "gridcolor": "white",
            "gridwidth": 2,
            "linecolor": "white",
            "showbackground": true,
            "ticks": "",
            "zerolinecolor": "white"
           },
           "yaxis": {
            "backgroundcolor": "#E5ECF6",
            "gridcolor": "white",
            "gridwidth": 2,
            "linecolor": "white",
            "showbackground": true,
            "ticks": "",
            "zerolinecolor": "white"
           },
           "zaxis": {
            "backgroundcolor": "#E5ECF6",
            "gridcolor": "white",
            "gridwidth": 2,
            "linecolor": "white",
            "showbackground": true,
            "ticks": "",
            "zerolinecolor": "white"
           }
          },
          "shapedefaults": {
           "line": {
            "color": "#2a3f5f"
           }
          },
          "ternary": {
           "aaxis": {
            "gridcolor": "white",
            "linecolor": "white",
            "ticks": ""
           },
           "baxis": {
            "gridcolor": "white",
            "linecolor": "white",
            "ticks": ""
           },
           "bgcolor": "#E5ECF6",
           "caxis": {
            "gridcolor": "white",
            "linecolor": "white",
            "ticks": ""
           }
          },
          "title": {
           "x": 0.05
          },
          "xaxis": {
           "automargin": true,
           "gridcolor": "white",
           "linecolor": "white",
           "ticks": "",
           "title": {
            "standoff": 15
           },
           "zerolinecolor": "white",
           "zerolinewidth": 2
          },
          "yaxis": {
           "automargin": true,
           "gridcolor": "white",
           "linecolor": "white",
           "ticks": "",
           "title": {
            "standoff": 15
           },
           "zerolinecolor": "white",
           "zerolinewidth": 2
          }
         }
        },
        "title": {
         "font": {
          "size": 18
         },
         "text": "<b>Vierfeldertafel der Trinkgeldverteilung</b><br>Analyse des Trinkgeldverhaltens basierend auf vorheriger Bestellung<br>",
         "x": 0.5
        },
        "width": 900,
        "xaxis": {
         "anchor": "y",
         "constrain": "domain",
         "domain": [
          0,
          1
         ],
         "scaleanchor": "y"
        },
        "yaxis": {
         "anchor": "x",
         "autorange": "reversed",
         "constrain": "domain",
         "domain": [
          0,
          1
         ]
        }
       }
      }
     },
     "metadata": {},
     "output_type": "display_data"
    }
   ],
   "source": [
    "# Vierfeldertafel erstellen\n",
    "vierfeldertafel_prepreorder = pd.crosstab(df_tips_orders.tip, df_tips_orders.prepre_tip)\n",
    "vierfeldertafel_prepreorder.index = [\"Trinkgeld\", \"Kein Trinkgeld\"]\n",
    "vierfeldertafel_prepreorder.columns = [\"Trinkgeld vorvorher\", \"Kein Trinkgeld vorvorher\"]\n",
    "\n",
    "# Heatmap-Darstellung\n",
    "fig_vierfeldertafel_prepreorder = px.imshow(\n",
    "    vierfeldertafel_prepreorder.values,  # Werte der Tafel\n",
    "    x=vierfeldertafel_prepreorder.columns,  # Spaltennamen als x-Achse\n",
    "    y=vierfeldertafel_prepreorder.index,    # Zeilennamen als y-Achse\n",
    "    color_continuous_scale=\"Blues\",  # Farbschema\n",
    "    text_auto=True,  # Zahlen direkt in die Heatmap schreiben\n",
    "    #template=\"plotly_dark\",  # Dunkles Design\n",
    "    width=900,  # Breite des Plots\n",
    ")\n",
    "\n",
    "fig_vierfeldertafel_prepreorder.update_layout(\n",
    "    title=\"<b>Vierfeldertafel der Trinkgeldverteilung</b><br>Analyse des Trinkgeldverhaltens basierend auf vorheriger Bestellung<br>\",  # Titel\n",
    "    title_font=dict(size=18),  # Größerer Titel\n",
    "    title_x=0.5,               # Titel horizontal zentrieren\n",
    "    coloraxis_colorbar=dict(title=\"Häufigkeit\")  # Farbskala beschriften\n",
    ")\n",
    "\n",
    "# Diagramm anzeigen\n",
    "fig_vierfeldertafel_prepreorder.show()"
   ]
  },
  {
   "cell_type": "markdown",
   "id": "2fbfe16d-6d36-4ff3-8cc7-4bc5796c540e",
   "metadata": {},
   "source": [
    "##### Erste Interpretation\n",
    "- Kunden, welche bei der Bestellung Trinkgeld gegeben haben, haben das bei der vor-vorherigen Bestellung tendenziell auch gemacht.\n",
    "- Kunden, welche bei der Bestellung kein Trinkgeld gegeben haben, haben das bei der vor-vorherigen Bestellung auch nicht gemacht.\n",
    "\n",
    "=> Kunden scheinen auch über zwei Bestellungen ihr Trinkgeldverhalten tendenziell beizubehalten"
   ]
  },
  {
   "cell_type": "markdown",
   "id": "7d22aecf-1e0d-42cd-a857-bc7186489aa9",
   "metadata": {},
   "source": [
    "##### Stochastische Überprüfung\n",
    "- Variablen sind Diskret und Nominalskaliert, da beide Spalten Bools sind.\n",
    "- Sehr große Stichprobengröße (n > 1.5M)\n",
    "  \n",
    "=> Chi-Quadrat zur Überprüfung der Abhängigkeit\n",
    "\n",
    "* <u> Nullhypothese H0:</u> Es besteht kein Zusammenhang zwischen Trinkgeldverhalten der jetzigen zur vor-vorherigen Bestellung.\n",
    "* <u>Alternativhypothese H1:</u> Es besteht ein Zusammenhang zwischen Trinkgeldverhalten der jetzigen zur vor-vorherigen Bestellung.\n",
    "* Freiheitsgrad = (Anzahl Spalten - 1) * (Anzahl Zeilen - 1)\n",
    "* Signifikanzniveau = 0.05\n",
    "* Kritischen Wert aus Signifikanzniveau und Freiheitsgrad bestimmen."
   ]
  },
  {
   "cell_type": "code",
   "execution_count": 66,
   "id": "614ba110-3edb-4d1e-86c3-9f8999747fc7",
   "metadata": {},
   "outputs": [
    {
     "name": "stdout",
     "output_type": "stream",
     "text": [
      "Freiheitsgrad: 1\n",
      "Kritischer Wert: 3.84\n"
     ]
    }
   ],
   "source": [
    "# Freiheitsgrad berechnen\n",
    "def berechnung_freiheitsgrad(table):\n",
    "    return (table.shape[0] - 1) * (table.shape[1] - 1)\n",
    "\n",
    "freiheitsgrad = berechnung_freiheitsgrad(vierfeldertafel_prepreorder)\n",
    "signifikanz = 0.05\n",
    "critical_value = chi2.ppf(1 - signifikanz, freiheitsgrad)\n",
    "print(f\"Freiheitsgrad: {freiheitsgrad}\")\n",
    "print(f\"Kritischer Wert: {round(critical_value,2)}\")"
   ]
  },
  {
   "cell_type": "code",
   "execution_count": 67,
   "id": "76514970-54f2-47ac-a06e-b2825a84a914",
   "metadata": {},
   "outputs": [
    {
     "name": "stdout",
     "output_type": "stream",
     "text": [
      "Chi-Quadrat-Test: 378959.08 > 3.84\n",
      "Es besteht ein signifikanter Zusammenhang zwischen den Variablen.\n",
      "p-Wert: 0.0\n"
     ]
    }
   ],
   "source": [
    "# Chi-Quadrat-Test\n",
    "chisquare, p, _, _ = chi2_contingency(vierfeldertafel_preorder)\n",
    "\n",
    "if chisquare > critical_value:\n",
    "    print(f\"Chi-Quadrat-Test: {round(chisquare,2)} > {round(critical_value,2)}\")\n",
    "    print(\"Es besteht ein signifikanter Zusammenhang zwischen den Variablen.\")\n",
    "else:\n",
    "    print(f\"Chi-Quadrat-Test: {round(chisquare,2)} < {round(critical_value,2)}\")\n",
    "    print(\"Es besteht kein signifikanter Zusammenhang zwischen den Variablen.\")\n",
    "print(f\"p-Wert: {round(p, 4)}\")"
   ]
  },
  {
   "cell_type": "markdown",
   "id": "0c2cdc52-7827-4226-bcde-4c4b47502d91",
   "metadata": {},
   "source": [
    "#### **Direkter Zusammenhang zur vor-vorhergehenden Bestellung über vorhergehende Bestellung hinaus**"
   ]
  },
  {
   "cell_type": "markdown",
   "id": "42772ceb",
   "metadata": {},
   "source": [
    "Frage: Liefert das Trinkgeldverhalten der vor-vorhergehende Bestellung Informationen auch über das \n",
    "hinaus, was bereits aus der vorhergehenden Bestellung abgelesen werden kann?"
   ]
  },
  {
   "cell_type": "markdown",
   "id": "a405be1e-8ddb-40ad-bfcc-2c72b30dbe85",
   "metadata": {},
   "source": [
    "=> Zu prüfen: **P ( Trinkgeld | Vorheriges Trinkgeld, Vor-vorheriges Trinkgeld) ?= P ( Trinkgeld | Vorheriges Trinkgeld)** <br>\n",
    "Bedingte Wahrscheinlichkeit mit und ohne dem Trinkgeldverhalten der vor-vorherigen Bestellung\n",
    "<br> <br>\n",
    "<u>Wenn gleich:</u> Keine neuen Informationen aus der vor-vorherigen Bestelllung (keine direkte Abhängigkeit) <br>\n",
    "<u>Wenn ungleich:</u> Neue Information aus der vor-vorherigen Bestellung (direkte Abhängigkeit)"
   ]
  },
  {
   "cell_type": "code",
   "execution_count": 68,
   "id": "ec3c4709-ba8a-4820-82a1-33b233158d20",
   "metadata": {},
   "outputs": [],
   "source": [
    "# Trinkgeldverhalten bedingt durch vorheriges Trinkgeldverhalten und vor-vorheriges Trinkgeldverhalten\n",
    "# P(Tip | Tip-1, Tip-2) = P(Tip & Tip-1 & Tip-2) / P(Tip-1 & Tip-2)\n",
    "p_t_given_t1_t2 = df_tips_orders[\n",
    "    (df_tips_orders[\"tip\"] == True) &\n",
    "    (df_tips_orders[\"pre_tip\"] == True) &\n",
    "    (df_tips_orders[\"prepre_tip\"] == True)\n",
    "].shape[0] / df_tips_orders[\n",
    "    (df_tips_orders[\"pre_tip\"] == True) &\n",
    "    (df_tips_orders[\"prepre_tip\"] == True)\n",
    "].shape[0]\n",
    "\n",
    "# Trinkgeldverhalten bedingt durch vorheriges Trinkgeldverhalten\n",
    "# P(Tip | Tip-1) = P(Tip & Tip-1) / P(Tip-1)\n",
    "p_t_given_t1 = df_tips_orders[\n",
    "    (df_tips_orders[\"tip\"] == True) &\n",
    "    (df_tips_orders[\"pre_tip\"] == True)\n",
    "].shape[0] / df_tips_orders[\n",
    "    (df_tips_orders[\"pre_tip\"] == True)\n",
    "].shape[0]"
   ]
  },
  {
   "cell_type": "code",
   "execution_count": 69,
   "id": "050349ad",
   "metadata": {},
   "outputs": [
    {
     "data": {
      "application/vnd.plotly.v1+json": {
       "config": {
        "plotlyServerURL": "https://plot.ly"
       },
       "data": [
        {
         "alignmentgroup": "True",
         "hovertemplate": "Bedingung=%{x}<br>Wahrscheinlichkeit=%{y}<br>text=%{text}<extra></extra>",
         "legendgroup": "",
         "marker": {
          "color": "#FFA07A",
          "line": {
           "color": "black",
           "width": 1.5
          },
          "pattern": {
           "shape": ""
          }
         },
         "name": "",
         "offsetgroup": "",
         "orientation": "v",
         "showlegend": false,
         "text": [
          0.79,
          0.72
         ],
         "textposition": "auto",
         "type": "bar",
         "x": [
          "P ( Trinkgeld | Vorheriges Trinkgeld, Vor-vorheriges Trinkgeld)",
          "P ( Trinkgeld | Vorheriges Trinkgeld)"
         ],
         "xaxis": "x",
         "y": [
          0.788843575442653,
          0.715028472394157
         ],
         "yaxis": "y"
        }
       ],
       "layout": {
        "barmode": "relative",
        "legend": {
         "tracegroupgap": 0
        },
        "template": {
         "data": {
          "bar": [
           {
            "error_x": {
             "color": "#2a3f5f"
            },
            "error_y": {
             "color": "#2a3f5f"
            },
            "marker": {
             "line": {
              "color": "#E5ECF6",
              "width": 0.5
             },
             "pattern": {
              "fillmode": "overlay",
              "size": 10,
              "solidity": 0.2
             }
            },
            "type": "bar"
           }
          ],
          "barpolar": [
           {
            "marker": {
             "line": {
              "color": "#E5ECF6",
              "width": 0.5
             },
             "pattern": {
              "fillmode": "overlay",
              "size": 10,
              "solidity": 0.2
             }
            },
            "type": "barpolar"
           }
          ],
          "carpet": [
           {
            "aaxis": {
             "endlinecolor": "#2a3f5f",
             "gridcolor": "white",
             "linecolor": "white",
             "minorgridcolor": "white",
             "startlinecolor": "#2a3f5f"
            },
            "baxis": {
             "endlinecolor": "#2a3f5f",
             "gridcolor": "white",
             "linecolor": "white",
             "minorgridcolor": "white",
             "startlinecolor": "#2a3f5f"
            },
            "type": "carpet"
           }
          ],
          "choropleth": [
           {
            "colorbar": {
             "outlinewidth": 0,
             "ticks": ""
            },
            "type": "choropleth"
           }
          ],
          "contour": [
           {
            "colorbar": {
             "outlinewidth": 0,
             "ticks": ""
            },
            "colorscale": [
             [
              0,
              "#0d0887"
             ],
             [
              0.1111111111111111,
              "#46039f"
             ],
             [
              0.2222222222222222,
              "#7201a8"
             ],
             [
              0.3333333333333333,
              "#9c179e"
             ],
             [
              0.4444444444444444,
              "#bd3786"
             ],
             [
              0.5555555555555556,
              "#d8576b"
             ],
             [
              0.6666666666666666,
              "#ed7953"
             ],
             [
              0.7777777777777778,
              "#fb9f3a"
             ],
             [
              0.8888888888888888,
              "#fdca26"
             ],
             [
              1,
              "#f0f921"
             ]
            ],
            "type": "contour"
           }
          ],
          "contourcarpet": [
           {
            "colorbar": {
             "outlinewidth": 0,
             "ticks": ""
            },
            "type": "contourcarpet"
           }
          ],
          "heatmap": [
           {
            "colorbar": {
             "outlinewidth": 0,
             "ticks": ""
            },
            "colorscale": [
             [
              0,
              "#0d0887"
             ],
             [
              0.1111111111111111,
              "#46039f"
             ],
             [
              0.2222222222222222,
              "#7201a8"
             ],
             [
              0.3333333333333333,
              "#9c179e"
             ],
             [
              0.4444444444444444,
              "#bd3786"
             ],
             [
              0.5555555555555556,
              "#d8576b"
             ],
             [
              0.6666666666666666,
              "#ed7953"
             ],
             [
              0.7777777777777778,
              "#fb9f3a"
             ],
             [
              0.8888888888888888,
              "#fdca26"
             ],
             [
              1,
              "#f0f921"
             ]
            ],
            "type": "heatmap"
           }
          ],
          "heatmapgl": [
           {
            "colorbar": {
             "outlinewidth": 0,
             "ticks": ""
            },
            "colorscale": [
             [
              0,
              "#0d0887"
             ],
             [
              0.1111111111111111,
              "#46039f"
             ],
             [
              0.2222222222222222,
              "#7201a8"
             ],
             [
              0.3333333333333333,
              "#9c179e"
             ],
             [
              0.4444444444444444,
              "#bd3786"
             ],
             [
              0.5555555555555556,
              "#d8576b"
             ],
             [
              0.6666666666666666,
              "#ed7953"
             ],
             [
              0.7777777777777778,
              "#fb9f3a"
             ],
             [
              0.8888888888888888,
              "#fdca26"
             ],
             [
              1,
              "#f0f921"
             ]
            ],
            "type": "heatmapgl"
           }
          ],
          "histogram": [
           {
            "marker": {
             "pattern": {
              "fillmode": "overlay",
              "size": 10,
              "solidity": 0.2
             }
            },
            "type": "histogram"
           }
          ],
          "histogram2d": [
           {
            "colorbar": {
             "outlinewidth": 0,
             "ticks": ""
            },
            "colorscale": [
             [
              0,
              "#0d0887"
             ],
             [
              0.1111111111111111,
              "#46039f"
             ],
             [
              0.2222222222222222,
              "#7201a8"
             ],
             [
              0.3333333333333333,
              "#9c179e"
             ],
             [
              0.4444444444444444,
              "#bd3786"
             ],
             [
              0.5555555555555556,
              "#d8576b"
             ],
             [
              0.6666666666666666,
              "#ed7953"
             ],
             [
              0.7777777777777778,
              "#fb9f3a"
             ],
             [
              0.8888888888888888,
              "#fdca26"
             ],
             [
              1,
              "#f0f921"
             ]
            ],
            "type": "histogram2d"
           }
          ],
          "histogram2dcontour": [
           {
            "colorbar": {
             "outlinewidth": 0,
             "ticks": ""
            },
            "colorscale": [
             [
              0,
              "#0d0887"
             ],
             [
              0.1111111111111111,
              "#46039f"
             ],
             [
              0.2222222222222222,
              "#7201a8"
             ],
             [
              0.3333333333333333,
              "#9c179e"
             ],
             [
              0.4444444444444444,
              "#bd3786"
             ],
             [
              0.5555555555555556,
              "#d8576b"
             ],
             [
              0.6666666666666666,
              "#ed7953"
             ],
             [
              0.7777777777777778,
              "#fb9f3a"
             ],
             [
              0.8888888888888888,
              "#fdca26"
             ],
             [
              1,
              "#f0f921"
             ]
            ],
            "type": "histogram2dcontour"
           }
          ],
          "mesh3d": [
           {
            "colorbar": {
             "outlinewidth": 0,
             "ticks": ""
            },
            "type": "mesh3d"
           }
          ],
          "parcoords": [
           {
            "line": {
             "colorbar": {
              "outlinewidth": 0,
              "ticks": ""
             }
            },
            "type": "parcoords"
           }
          ],
          "pie": [
           {
            "automargin": true,
            "type": "pie"
           }
          ],
          "scatter": [
           {
            "fillpattern": {
             "fillmode": "overlay",
             "size": 10,
             "solidity": 0.2
            },
            "type": "scatter"
           }
          ],
          "scatter3d": [
           {
            "line": {
             "colorbar": {
              "outlinewidth": 0,
              "ticks": ""
             }
            },
            "marker": {
             "colorbar": {
              "outlinewidth": 0,
              "ticks": ""
             }
            },
            "type": "scatter3d"
           }
          ],
          "scattercarpet": [
           {
            "marker": {
             "colorbar": {
              "outlinewidth": 0,
              "ticks": ""
             }
            },
            "type": "scattercarpet"
           }
          ],
          "scattergeo": [
           {
            "marker": {
             "colorbar": {
              "outlinewidth": 0,
              "ticks": ""
             }
            },
            "type": "scattergeo"
           }
          ],
          "scattergl": [
           {
            "marker": {
             "colorbar": {
              "outlinewidth": 0,
              "ticks": ""
             }
            },
            "type": "scattergl"
           }
          ],
          "scattermapbox": [
           {
            "marker": {
             "colorbar": {
              "outlinewidth": 0,
              "ticks": ""
             }
            },
            "type": "scattermapbox"
           }
          ],
          "scatterpolar": [
           {
            "marker": {
             "colorbar": {
              "outlinewidth": 0,
              "ticks": ""
             }
            },
            "type": "scatterpolar"
           }
          ],
          "scatterpolargl": [
           {
            "marker": {
             "colorbar": {
              "outlinewidth": 0,
              "ticks": ""
             }
            },
            "type": "scatterpolargl"
           }
          ],
          "scatterternary": [
           {
            "marker": {
             "colorbar": {
              "outlinewidth": 0,
              "ticks": ""
             }
            },
            "type": "scatterternary"
           }
          ],
          "surface": [
           {
            "colorbar": {
             "outlinewidth": 0,
             "ticks": ""
            },
            "colorscale": [
             [
              0,
              "#0d0887"
             ],
             [
              0.1111111111111111,
              "#46039f"
             ],
             [
              0.2222222222222222,
              "#7201a8"
             ],
             [
              0.3333333333333333,
              "#9c179e"
             ],
             [
              0.4444444444444444,
              "#bd3786"
             ],
             [
              0.5555555555555556,
              "#d8576b"
             ],
             [
              0.6666666666666666,
              "#ed7953"
             ],
             [
              0.7777777777777778,
              "#fb9f3a"
             ],
             [
              0.8888888888888888,
              "#fdca26"
             ],
             [
              1,
              "#f0f921"
             ]
            ],
            "type": "surface"
           }
          ],
          "table": [
           {
            "cells": {
             "fill": {
              "color": "#EBF0F8"
             },
             "line": {
              "color": "white"
             }
            },
            "header": {
             "fill": {
              "color": "#C8D4E3"
             },
             "line": {
              "color": "white"
             }
            },
            "type": "table"
           }
          ]
         },
         "layout": {
          "annotationdefaults": {
           "arrowcolor": "#2a3f5f",
           "arrowhead": 0,
           "arrowwidth": 1
          },
          "autotypenumbers": "strict",
          "coloraxis": {
           "colorbar": {
            "outlinewidth": 0,
            "ticks": ""
           }
          },
          "colorscale": {
           "diverging": [
            [
             0,
             "#8e0152"
            ],
            [
             0.1,
             "#c51b7d"
            ],
            [
             0.2,
             "#de77ae"
            ],
            [
             0.3,
             "#f1b6da"
            ],
            [
             0.4,
             "#fde0ef"
            ],
            [
             0.5,
             "#f7f7f7"
            ],
            [
             0.6,
             "#e6f5d0"
            ],
            [
             0.7,
             "#b8e186"
            ],
            [
             0.8,
             "#7fbc41"
            ],
            [
             0.9,
             "#4d9221"
            ],
            [
             1,
             "#276419"
            ]
           ],
           "sequential": [
            [
             0,
             "#0d0887"
            ],
            [
             0.1111111111111111,
             "#46039f"
            ],
            [
             0.2222222222222222,
             "#7201a8"
            ],
            [
             0.3333333333333333,
             "#9c179e"
            ],
            [
             0.4444444444444444,
             "#bd3786"
            ],
            [
             0.5555555555555556,
             "#d8576b"
            ],
            [
             0.6666666666666666,
             "#ed7953"
            ],
            [
             0.7777777777777778,
             "#fb9f3a"
            ],
            [
             0.8888888888888888,
             "#fdca26"
            ],
            [
             1,
             "#f0f921"
            ]
           ],
           "sequentialminus": [
            [
             0,
             "#0d0887"
            ],
            [
             0.1111111111111111,
             "#46039f"
            ],
            [
             0.2222222222222222,
             "#7201a8"
            ],
            [
             0.3333333333333333,
             "#9c179e"
            ],
            [
             0.4444444444444444,
             "#bd3786"
            ],
            [
             0.5555555555555556,
             "#d8576b"
            ],
            [
             0.6666666666666666,
             "#ed7953"
            ],
            [
             0.7777777777777778,
             "#fb9f3a"
            ],
            [
             0.8888888888888888,
             "#fdca26"
            ],
            [
             1,
             "#f0f921"
            ]
           ]
          },
          "colorway": [
           "#636efa",
           "#EF553B",
           "#00cc96",
           "#ab63fa",
           "#FFA15A",
           "#19d3f3",
           "#FF6692",
           "#B6E880",
           "#FF97FF",
           "#FECB52"
          ],
          "font": {
           "color": "#2a3f5f"
          },
          "geo": {
           "bgcolor": "white",
           "lakecolor": "white",
           "landcolor": "#E5ECF6",
           "showlakes": true,
           "showland": true,
           "subunitcolor": "white"
          },
          "hoverlabel": {
           "align": "left"
          },
          "hovermode": "closest",
          "mapbox": {
           "style": "light"
          },
          "paper_bgcolor": "white",
          "plot_bgcolor": "#E5ECF6",
          "polar": {
           "angularaxis": {
            "gridcolor": "white",
            "linecolor": "white",
            "ticks": ""
           },
           "bgcolor": "#E5ECF6",
           "radialaxis": {
            "gridcolor": "white",
            "linecolor": "white",
            "ticks": ""
           }
          },
          "scene": {
           "xaxis": {
            "backgroundcolor": "#E5ECF6",
            "gridcolor": "white",
            "gridwidth": 2,
            "linecolor": "white",
            "showbackground": true,
            "ticks": "",
            "zerolinecolor": "white"
           },
           "yaxis": {
            "backgroundcolor": "#E5ECF6",
            "gridcolor": "white",
            "gridwidth": 2,
            "linecolor": "white",
            "showbackground": true,
            "ticks": "",
            "zerolinecolor": "white"
           },
           "zaxis": {
            "backgroundcolor": "#E5ECF6",
            "gridcolor": "white",
            "gridwidth": 2,
            "linecolor": "white",
            "showbackground": true,
            "ticks": "",
            "zerolinecolor": "white"
           }
          },
          "shapedefaults": {
           "line": {
            "color": "#2a3f5f"
           }
          },
          "ternary": {
           "aaxis": {
            "gridcolor": "white",
            "linecolor": "white",
            "ticks": ""
           },
           "baxis": {
            "gridcolor": "white",
            "linecolor": "white",
            "ticks": ""
           },
           "bgcolor": "#E5ECF6",
           "caxis": {
            "gridcolor": "white",
            "linecolor": "white",
            "ticks": ""
           }
          },
          "title": {
           "x": 0.05
          },
          "xaxis": {
           "automargin": true,
           "gridcolor": "white",
           "linecolor": "white",
           "ticks": "",
           "title": {
            "standoff": 15
           },
           "zerolinecolor": "white",
           "zerolinewidth": 2
          },
          "yaxis": {
           "automargin": true,
           "gridcolor": "white",
           "linecolor": "white",
           "ticks": "",
           "title": {
            "standoff": 15
           },
           "zerolinecolor": "white",
           "zerolinewidth": 2
          }
         }
        },
        "title": {
         "text": "Trinkgeldverhalten bedingt durch vorheriges Trinkgeldverhalten und vor-vorheriges Trinkgeldverhalten"
        },
        "xaxis": {
         "anchor": "y",
         "domain": [
          0,
          1
         ],
         "title": {
          "text": "Bedingung"
         }
        },
        "yaxis": {
         "anchor": "x",
         "domain": [
          0,
          1
         ],
         "title": {
          "text": "Wahrscheinlichkeit"
         }
        }
       }
      }
     },
     "metadata": {},
     "output_type": "display_data"
    }
   ],
   "source": [
    "bedingt_fig = px.bar(\n",
    "    x=[\"P ( Trinkgeld | Vorheriges Trinkgeld, Vor-vorheriges Trinkgeld)\", \"P ( Trinkgeld | Vorheriges Trinkgeld)\"],\n",
    "    y=[p_t_given_t1_t2, p_t_given_t1],\n",
    "    text=[round(p_t_given_t1_t2, 2), round(p_t_given_t1, 2)],\n",
    "    labels={\"x\": \"Bedingung\", \"y\": \"Wahrscheinlichkeit\"},\n",
    "    title=\"Trinkgeldverhalten bedingt durch vorheriges Trinkgeldverhalten und vor-vorheriges Trinkgeldverhalten\",\n",
    "    # Farben für die Balken\n",
    "    color_discrete_sequence=[\"#FFA07A\", \"#20B2AA\"]\n",
    ")\n",
    "\n",
    "bedingt_fig.update_traces(\n",
    "    marker_line_width=1.5,                           \n",
    "    marker_line_color=\"black\"\n",
    ")\n",
    "\n",
    "bedingt_fig.show()"
   ]
  },
  {
   "cell_type": "code",
   "execution_count": 70,
   "id": "8637d6bc",
   "metadata": {},
   "outputs": [
    {
     "name": "stdout",
     "output_type": "stream",
     "text": [
      "Trinkgeldverhalten bedingt durch vorheriges Trinkgeldverhalten und vor-vorheriges Trinkgeldverhalten: 0.79\n",
      "Trinkgeldverhalten bedingt durch vorheriges Trinkgeldverhalten: 0.72\n",
      "=> Die vor-vorherige Bestellung liefert weitere Informationen für das Trinkgeldverhalten über das voherige hinaus\n"
     ]
    }
   ],
   "source": [
    "print(f\"Trinkgeldverhalten bedingt durch vorheriges Trinkgeldverhalten und vor-vorheriges Trinkgeldverhalten: {round(p_t_given_t1_t2, 2)}\")\n",
    "print(f\"Trinkgeldverhalten bedingt durch vorheriges Trinkgeldverhalten: {round(p_t_given_t1, 2)}\")\n",
    "\n",
    "if p_t_given_t1_t2 == p_t_given_t1:\n",
    "    print(\"=> Die vor-vorherige Bestellung liefert keine weiteren Informationen für das Trinkgeldverhalten über das voherige hinaus\")\n",
    "else:\n",
    "    print(\"=> Die vor-vorherige Bestellung liefert weitere Informationen für das Trinkgeldverhalten über das voherige hinaus\")"
   ]
  },
  {
   "cell_type": "markdown",
   "id": "595248d9",
   "metadata": {},
   "source": [
    "##### Interpretation\n",
    "Die Wahrscheinlichkeit, dass ein Kunde Trinkgeld gibt, nachdem er dies bereits in der vor- und vorvorherigen Bestellung getan hat, ist um 7% höher als wenn nur bekannt ist, dass der Kunde in der vorherigen Bestellung Trinkgeld gegeben hat."
   ]
  },
  {
   "cell_type": "markdown",
   "id": "446aae55-f490-48d7-9138-37e5f14fc6cb",
   "metadata": {},
   "source": [
    "### **Abhängigkeit des Trinkgeldverhaltens zu den Produkten und Departments**"
   ]
  },
  {
   "cell_type": "markdown",
   "id": "37b12b92",
   "metadata": {},
   "source": [
    "#### **Zusammenhang zu Departments**"
   ]
  },
  {
   "cell_type": "markdown",
   "id": "1a3c13b2",
   "metadata": {},
   "source": [
    "Frage: Gibt es einen Zusammenhang zwischen dem Trinkgeldverhalten und den Departments, aus denen bestellt wird?"
   ]
  },
  {
   "cell_type": "code",
   "execution_count": 110,
   "id": "2876e715",
   "metadata": {},
   "outputs": [],
   "source": [
    "# Tabellen zusammenführen\n",
    "# Merge 1: Tips + Order_Products (über order_id)\n",
    "df_merged = df_tips.merge(df_order_products, on=\"order_id\")\n",
    "\n",
    "# Merge 2: Merge1 + Products (über product_id)\n",
    "df_merged = df_merged.merge(df_products, on=\"product_id\")\n",
    "\n",
    "# Merge 3: Merge mit Departments (über department_id)\n",
    "df_merged = df_merged.merge(df_departments, on=\"department_id\")"
   ]
  },
  {
   "cell_type": "code",
   "execution_count": 71,
   "id": "deac8276-e125-4293-83a2-0aec8638869a",
   "metadata": {},
   "outputs": [
    {
     "data": {
      "application/vnd.plotly.v1+json": {
       "config": {
        "plotlyServerURL": "https://plot.ly"
       },
       "data": [
        {
         "alignmentgroup": "True",
         "hovertemplate": "<b>Department:</b> %{x}<br><b>Trinkgeld-Wahrscheinlichkeit:</b> %{y:.2%}",
         "legendgroup": "",
         "marker": {
          "color": [
           0.8126361920993366,
           0.5539476602350853,
           0.49588120330964947,
           0.49114498069977947,
           0.4757932003675477,
           0.4701024272897366,
           0.4470358651787575,
           0.4426636335435839,
           0.4312064706487803,
           0.4261005483523805,
           0.42491899593751375,
           0.4237879009813974,
           0.4186592142505599,
           0.4094663923424696,
           0.40924679373627154,
           0.3883644414879741,
           0.38366767142805186,
           0.38053831699761315,
           0.37339250394510415,
           0.37294654246067027,
           0.34442888912820147
          ],
          "coloraxis": "coloraxis",
          "line": {
           "color": "black",
           "width": 1.5
          },
          "pattern": {
           "shape": ""
          }
         },
         "name": "",
         "offsetgroup": "",
         "orientation": "v",
         "showlegend": false,
         "textposition": "auto",
         "type": "bar",
         "x": [
          "alcohol",
          "bulk",
          "babies",
          "dairy eggs",
          "breakfast",
          "produce",
          "meat seafood",
          "other",
          "personal care",
          "missing",
          "household",
          "deli",
          "snacks",
          "dry goods pasta",
          "international",
          "bakery",
          "beverages",
          "pantry",
          "canned goods",
          "pets",
          "frozen"
         ],
         "xaxis": "x",
         "y": [
          0.8126361920993366,
          0.5539476602350853,
          0.49588120330964947,
          0.49114498069977947,
          0.4757932003675477,
          0.4701024272897366,
          0.4470358651787575,
          0.4426636335435839,
          0.4312064706487803,
          0.4261005483523805,
          0.42491899593751375,
          0.4237879009813974,
          0.4186592142505599,
          0.4094663923424696,
          0.40924679373627154,
          0.3883644414879741,
          0.38366767142805186,
          0.38053831699761315,
          0.37339250394510415,
          0.37294654246067027,
          0.34442888912820147
         ],
         "yaxis": "y"
        }
       ],
       "layout": {
        "barmode": "relative",
        "coloraxis": {
         "colorbar": {
          "title": {
           "text": "Trinkgeld-Wahrscheinlichkeit (%)"
          }
         },
         "colorscale": [
          [
           0,
           "rgb(255,245,235)"
          ],
          [
           0.125,
           "rgb(254,230,206)"
          ],
          [
           0.25,
           "rgb(253,208,162)"
          ],
          [
           0.375,
           "rgb(253,174,107)"
          ],
          [
           0.5,
           "rgb(253,141,60)"
          ],
          [
           0.625,
           "rgb(241,105,19)"
          ],
          [
           0.75,
           "rgb(217,72,1)"
          ],
          [
           0.875,
           "rgb(166,54,3)"
          ],
          [
           1,
           "rgb(127,39,4)"
          ]
         ]
        },
        "legend": {
         "tracegroupgap": 0
        },
        "template": {
         "data": {
          "bar": [
           {
            "error_x": {
             "color": "#2a3f5f"
            },
            "error_y": {
             "color": "#2a3f5f"
            },
            "marker": {
             "line": {
              "color": "#E5ECF6",
              "width": 0.5
             },
             "pattern": {
              "fillmode": "overlay",
              "size": 10,
              "solidity": 0.2
             }
            },
            "type": "bar"
           }
          ],
          "barpolar": [
           {
            "marker": {
             "line": {
              "color": "#E5ECF6",
              "width": 0.5
             },
             "pattern": {
              "fillmode": "overlay",
              "size": 10,
              "solidity": 0.2
             }
            },
            "type": "barpolar"
           }
          ],
          "carpet": [
           {
            "aaxis": {
             "endlinecolor": "#2a3f5f",
             "gridcolor": "white",
             "linecolor": "white",
             "minorgridcolor": "white",
             "startlinecolor": "#2a3f5f"
            },
            "baxis": {
             "endlinecolor": "#2a3f5f",
             "gridcolor": "white",
             "linecolor": "white",
             "minorgridcolor": "white",
             "startlinecolor": "#2a3f5f"
            },
            "type": "carpet"
           }
          ],
          "choropleth": [
           {
            "colorbar": {
             "outlinewidth": 0,
             "ticks": ""
            },
            "type": "choropleth"
           }
          ],
          "contour": [
           {
            "colorbar": {
             "outlinewidth": 0,
             "ticks": ""
            },
            "colorscale": [
             [
              0,
              "#0d0887"
             ],
             [
              0.1111111111111111,
              "#46039f"
             ],
             [
              0.2222222222222222,
              "#7201a8"
             ],
             [
              0.3333333333333333,
              "#9c179e"
             ],
             [
              0.4444444444444444,
              "#bd3786"
             ],
             [
              0.5555555555555556,
              "#d8576b"
             ],
             [
              0.6666666666666666,
              "#ed7953"
             ],
             [
              0.7777777777777778,
              "#fb9f3a"
             ],
             [
              0.8888888888888888,
              "#fdca26"
             ],
             [
              1,
              "#f0f921"
             ]
            ],
            "type": "contour"
           }
          ],
          "contourcarpet": [
           {
            "colorbar": {
             "outlinewidth": 0,
             "ticks": ""
            },
            "type": "contourcarpet"
           }
          ],
          "heatmap": [
           {
            "colorbar": {
             "outlinewidth": 0,
             "ticks": ""
            },
            "colorscale": [
             [
              0,
              "#0d0887"
             ],
             [
              0.1111111111111111,
              "#46039f"
             ],
             [
              0.2222222222222222,
              "#7201a8"
             ],
             [
              0.3333333333333333,
              "#9c179e"
             ],
             [
              0.4444444444444444,
              "#bd3786"
             ],
             [
              0.5555555555555556,
              "#d8576b"
             ],
             [
              0.6666666666666666,
              "#ed7953"
             ],
             [
              0.7777777777777778,
              "#fb9f3a"
             ],
             [
              0.8888888888888888,
              "#fdca26"
             ],
             [
              1,
              "#f0f921"
             ]
            ],
            "type": "heatmap"
           }
          ],
          "heatmapgl": [
           {
            "colorbar": {
             "outlinewidth": 0,
             "ticks": ""
            },
            "colorscale": [
             [
              0,
              "#0d0887"
             ],
             [
              0.1111111111111111,
              "#46039f"
             ],
             [
              0.2222222222222222,
              "#7201a8"
             ],
             [
              0.3333333333333333,
              "#9c179e"
             ],
             [
              0.4444444444444444,
              "#bd3786"
             ],
             [
              0.5555555555555556,
              "#d8576b"
             ],
             [
              0.6666666666666666,
              "#ed7953"
             ],
             [
              0.7777777777777778,
              "#fb9f3a"
             ],
             [
              0.8888888888888888,
              "#fdca26"
             ],
             [
              1,
              "#f0f921"
             ]
            ],
            "type": "heatmapgl"
           }
          ],
          "histogram": [
           {
            "marker": {
             "pattern": {
              "fillmode": "overlay",
              "size": 10,
              "solidity": 0.2
             }
            },
            "type": "histogram"
           }
          ],
          "histogram2d": [
           {
            "colorbar": {
             "outlinewidth": 0,
             "ticks": ""
            },
            "colorscale": [
             [
              0,
              "#0d0887"
             ],
             [
              0.1111111111111111,
              "#46039f"
             ],
             [
              0.2222222222222222,
              "#7201a8"
             ],
             [
              0.3333333333333333,
              "#9c179e"
             ],
             [
              0.4444444444444444,
              "#bd3786"
             ],
             [
              0.5555555555555556,
              "#d8576b"
             ],
             [
              0.6666666666666666,
              "#ed7953"
             ],
             [
              0.7777777777777778,
              "#fb9f3a"
             ],
             [
              0.8888888888888888,
              "#fdca26"
             ],
             [
              1,
              "#f0f921"
             ]
            ],
            "type": "histogram2d"
           }
          ],
          "histogram2dcontour": [
           {
            "colorbar": {
             "outlinewidth": 0,
             "ticks": ""
            },
            "colorscale": [
             [
              0,
              "#0d0887"
             ],
             [
              0.1111111111111111,
              "#46039f"
             ],
             [
              0.2222222222222222,
              "#7201a8"
             ],
             [
              0.3333333333333333,
              "#9c179e"
             ],
             [
              0.4444444444444444,
              "#bd3786"
             ],
             [
              0.5555555555555556,
              "#d8576b"
             ],
             [
              0.6666666666666666,
              "#ed7953"
             ],
             [
              0.7777777777777778,
              "#fb9f3a"
             ],
             [
              0.8888888888888888,
              "#fdca26"
             ],
             [
              1,
              "#f0f921"
             ]
            ],
            "type": "histogram2dcontour"
           }
          ],
          "mesh3d": [
           {
            "colorbar": {
             "outlinewidth": 0,
             "ticks": ""
            },
            "type": "mesh3d"
           }
          ],
          "parcoords": [
           {
            "line": {
             "colorbar": {
              "outlinewidth": 0,
              "ticks": ""
             }
            },
            "type": "parcoords"
           }
          ],
          "pie": [
           {
            "automargin": true,
            "type": "pie"
           }
          ],
          "scatter": [
           {
            "fillpattern": {
             "fillmode": "overlay",
             "size": 10,
             "solidity": 0.2
            },
            "type": "scatter"
           }
          ],
          "scatter3d": [
           {
            "line": {
             "colorbar": {
              "outlinewidth": 0,
              "ticks": ""
             }
            },
            "marker": {
             "colorbar": {
              "outlinewidth": 0,
              "ticks": ""
             }
            },
            "type": "scatter3d"
           }
          ],
          "scattercarpet": [
           {
            "marker": {
             "colorbar": {
              "outlinewidth": 0,
              "ticks": ""
             }
            },
            "type": "scattercarpet"
           }
          ],
          "scattergeo": [
           {
            "marker": {
             "colorbar": {
              "outlinewidth": 0,
              "ticks": ""
             }
            },
            "type": "scattergeo"
           }
          ],
          "scattergl": [
           {
            "marker": {
             "colorbar": {
              "outlinewidth": 0,
              "ticks": ""
             }
            },
            "type": "scattergl"
           }
          ],
          "scattermapbox": [
           {
            "marker": {
             "colorbar": {
              "outlinewidth": 0,
              "ticks": ""
             }
            },
            "type": "scattermapbox"
           }
          ],
          "scatterpolar": [
           {
            "marker": {
             "colorbar": {
              "outlinewidth": 0,
              "ticks": ""
             }
            },
            "type": "scatterpolar"
           }
          ],
          "scatterpolargl": [
           {
            "marker": {
             "colorbar": {
              "outlinewidth": 0,
              "ticks": ""
             }
            },
            "type": "scatterpolargl"
           }
          ],
          "scatterternary": [
           {
            "marker": {
             "colorbar": {
              "outlinewidth": 0,
              "ticks": ""
             }
            },
            "type": "scatterternary"
           }
          ],
          "surface": [
           {
            "colorbar": {
             "outlinewidth": 0,
             "ticks": ""
            },
            "colorscale": [
             [
              0,
              "#0d0887"
             ],
             [
              0.1111111111111111,
              "#46039f"
             ],
             [
              0.2222222222222222,
              "#7201a8"
             ],
             [
              0.3333333333333333,
              "#9c179e"
             ],
             [
              0.4444444444444444,
              "#bd3786"
             ],
             [
              0.5555555555555556,
              "#d8576b"
             ],
             [
              0.6666666666666666,
              "#ed7953"
             ],
             [
              0.7777777777777778,
              "#fb9f3a"
             ],
             [
              0.8888888888888888,
              "#fdca26"
             ],
             [
              1,
              "#f0f921"
             ]
            ],
            "type": "surface"
           }
          ],
          "table": [
           {
            "cells": {
             "fill": {
              "color": "#EBF0F8"
             },
             "line": {
              "color": "white"
             }
            },
            "header": {
             "fill": {
              "color": "#C8D4E3"
             },
             "line": {
              "color": "white"
             }
            },
            "type": "table"
           }
          ]
         },
         "layout": {
          "annotationdefaults": {
           "arrowcolor": "#2a3f5f",
           "arrowhead": 0,
           "arrowwidth": 1
          },
          "autotypenumbers": "strict",
          "coloraxis": {
           "colorbar": {
            "outlinewidth": 0,
            "ticks": ""
           }
          },
          "colorscale": {
           "diverging": [
            [
             0,
             "#8e0152"
            ],
            [
             0.1,
             "#c51b7d"
            ],
            [
             0.2,
             "#de77ae"
            ],
            [
             0.3,
             "#f1b6da"
            ],
            [
             0.4,
             "#fde0ef"
            ],
            [
             0.5,
             "#f7f7f7"
            ],
            [
             0.6,
             "#e6f5d0"
            ],
            [
             0.7,
             "#b8e186"
            ],
            [
             0.8,
             "#7fbc41"
            ],
            [
             0.9,
             "#4d9221"
            ],
            [
             1,
             "#276419"
            ]
           ],
           "sequential": [
            [
             0,
             "#0d0887"
            ],
            [
             0.1111111111111111,
             "#46039f"
            ],
            [
             0.2222222222222222,
             "#7201a8"
            ],
            [
             0.3333333333333333,
             "#9c179e"
            ],
            [
             0.4444444444444444,
             "#bd3786"
            ],
            [
             0.5555555555555556,
             "#d8576b"
            ],
            [
             0.6666666666666666,
             "#ed7953"
            ],
            [
             0.7777777777777778,
             "#fb9f3a"
            ],
            [
             0.8888888888888888,
             "#fdca26"
            ],
            [
             1,
             "#f0f921"
            ]
           ],
           "sequentialminus": [
            [
             0,
             "#0d0887"
            ],
            [
             0.1111111111111111,
             "#46039f"
            ],
            [
             0.2222222222222222,
             "#7201a8"
            ],
            [
             0.3333333333333333,
             "#9c179e"
            ],
            [
             0.4444444444444444,
             "#bd3786"
            ],
            [
             0.5555555555555556,
             "#d8576b"
            ],
            [
             0.6666666666666666,
             "#ed7953"
            ],
            [
             0.7777777777777778,
             "#fb9f3a"
            ],
            [
             0.8888888888888888,
             "#fdca26"
            ],
            [
             1,
             "#f0f921"
            ]
           ]
          },
          "colorway": [
           "#636efa",
           "#EF553B",
           "#00cc96",
           "#ab63fa",
           "#FFA15A",
           "#19d3f3",
           "#FF6692",
           "#B6E880",
           "#FF97FF",
           "#FECB52"
          ],
          "font": {
           "color": "#2a3f5f"
          },
          "geo": {
           "bgcolor": "white",
           "lakecolor": "white",
           "landcolor": "#E5ECF6",
           "showlakes": true,
           "showland": true,
           "subunitcolor": "white"
          },
          "hoverlabel": {
           "align": "left"
          },
          "hovermode": "closest",
          "mapbox": {
           "style": "light"
          },
          "paper_bgcolor": "white",
          "plot_bgcolor": "#E5ECF6",
          "polar": {
           "angularaxis": {
            "gridcolor": "white",
            "linecolor": "white",
            "ticks": ""
           },
           "bgcolor": "#E5ECF6",
           "radialaxis": {
            "gridcolor": "white",
            "linecolor": "white",
            "ticks": ""
           }
          },
          "scene": {
           "xaxis": {
            "backgroundcolor": "#E5ECF6",
            "gridcolor": "white",
            "gridwidth": 2,
            "linecolor": "white",
            "showbackground": true,
            "ticks": "",
            "zerolinecolor": "white"
           },
           "yaxis": {
            "backgroundcolor": "#E5ECF6",
            "gridcolor": "white",
            "gridwidth": 2,
            "linecolor": "white",
            "showbackground": true,
            "ticks": "",
            "zerolinecolor": "white"
           },
           "zaxis": {
            "backgroundcolor": "#E5ECF6",
            "gridcolor": "white",
            "gridwidth": 2,
            "linecolor": "white",
            "showbackground": true,
            "ticks": "",
            "zerolinecolor": "white"
           }
          },
          "shapedefaults": {
           "line": {
            "color": "#2a3f5f"
           }
          },
          "ternary": {
           "aaxis": {
            "gridcolor": "white",
            "linecolor": "white",
            "ticks": ""
           },
           "baxis": {
            "gridcolor": "white",
            "linecolor": "white",
            "ticks": ""
           },
           "bgcolor": "#E5ECF6",
           "caxis": {
            "gridcolor": "white",
            "linecolor": "white",
            "ticks": ""
           }
          },
          "title": {
           "x": 0.05
          },
          "xaxis": {
           "automargin": true,
           "gridcolor": "white",
           "linecolor": "white",
           "ticks": "",
           "title": {
            "standoff": 15
           },
           "zerolinecolor": "white",
           "zerolinewidth": 2
          },
          "yaxis": {
           "automargin": true,
           "gridcolor": "white",
           "linecolor": "white",
           "ticks": "",
           "title": {
            "standoff": 15
           },
           "zerolinecolor": "white",
           "zerolinewidth": 2
          }
         }
        },
        "title": {
         "font": {
          "size": 18
         },
         "text": "Trinkgeld-Wahrscheinlichkeit pro Department",
         "x": 0.5
        },
        "xaxis": {
         "anchor": "y",
         "domain": [
          0,
          1
         ],
         "tickangle": -45,
         "title": {
          "text": "Department"
         }
        },
        "yaxis": {
         "anchor": "x",
         "domain": [
          0,
          1
         ],
         "dtick": 0.2,
         "tickformat": ".0%",
         "title": {
          "text": "Trinkgeld-Wahrscheinlichkeit (%)"
         }
        }
       }
      }
     },
     "metadata": {},
     "output_type": "display_data"
    }
   ],
   "source": [
    "# Datenart: Nach Department gruppieren\n",
    "df_department_tip = df_merged.groupby('department')['tip'].mean().reset_index()\n",
    "\n",
    "# Visualisierung mit Plotly Express, als Balkendiagramm\n",
    "fig_department_tip = px.bar(df_department_tip.sort_values('tip', ascending=False), \n",
    "             x='department', y='tip', \n",
    "             title=\"Trinkgeld-Wahrscheinlichkeit pro Department\",\n",
    "             labels={'tip': 'Trinkgeld-Wahrscheinlichkeit (%)', 'department': 'Department'},\n",
    "             color='tip', color_continuous_scale='oranges'\n",
    ")\n",
    "# Achsentitel und Layout anpassen\n",
    "fig_department_tip.update_layout(\n",
    "    title_font=dict(size=18),  # Größerer Titel\n",
    "    title_x=0.5,               # Titel horizontal zentrieren\n",
    "    xaxis_tickangle=-45,\n",
    "    yaxis_tickformat=\".0%\",  # Prozentformat mit einer Dezimalstelle\n",
    "    yaxis=dict(dtick=0.2)    # Schritte in 20er-Intervallen# Schritte in 20er-Intervallen\n",
    ")\n",
    "\n",
    "# Linien und optische Anpassungen\n",
    "fig_department_tip.update_traces(marker_line_width=1.5, marker_line_color=\"black\")\n",
    "\n",
    "# Tooltips erweitern\n",
    "fig_department_tip.update_traces(hovertemplate=\"<b>Department:</b> %{x}<br>\" +\n",
    "                                \"<b>Trinkgeld-Wahrscheinlichkeit:</b> %{y:.2%}\")\n",
    "\n",
    "# Diagramm anzeigen\n",
    "fig_department_tip.show()"
   ]
  },
  {
   "cell_type": "markdown",
   "id": "7e51c0ce-52db-4239-bc72-5aac5187a58f",
   "metadata": {
    "tags": []
   },
   "source": [
    "##### Erste Interpretation"
   ]
  },
  {
   "cell_type": "markdown",
   "id": "e9ec011a-8338-4ad0-8e19-546d6cd06b80",
   "metadata": {},
   "source": [
    "Das Balkendiagramm zeigt, dass die Trinkgeld-Wahrscheinlichkeit je nach Kategorie stark variiert. Alkohol hat mit rund 80 % die höchste Wahrscheinlichkeit, während Haustierbedarf, Tiefkühlprodukte und Konserven mit unter 40 % die niedrigste haben. Kategorien wie Babynahrung oder Frühstück liegen im Mittelfeld. Höhere Trinkgelder treten eher bei emotionalen oder luxuriösen Käufen auf, während alltägliche Artikel seltener mit Trinkgeld verbunden sind. "
   ]
  },
  {
   "cell_type": "markdown",
   "id": "bd2ca767-c566-45fa-95bf-a207953a5eb5",
   "metadata": {},
   "source": [
    "#### **Produkte mit starkem Einfluss auf das Trinkgeldverhalten**"
   ]
  },
  {
   "cell_type": "markdown",
   "id": "55228085",
   "metadata": {},
   "source": [
    "Frage: Gibt es einzelne Produkte, die die Trinkgeldwahrscheinlichkeit besonders stark beeinflussen? (Ermitteln Sie die TOP10 und FLOP10) "
   ]
  },
  {
   "cell_type": "markdown",
   "id": "3e6fe5b5-0578-44c1-a98c-ddcaf486458b",
   "metadata": {},
   "source": [
    "##### Vorbereitung"
   ]
  },
  {
   "cell_type": "code",
   "execution_count": 72,
   "id": "1a54dc01-2b73-4fd9-83ef-da596c3ddaed",
   "metadata": {},
   "outputs": [],
   "source": [
    "# Gruppieren nach Produkt-ID und Berechnung von Trinkgeld-Wahrscheinlichkeit und Bestellanzahl\n",
    "df_product_tip = df_merged.groupby('product_id').agg(\n",
    "    tip_probability=('tip', 'mean'),  # Durchschnittliche Trinkgeld-Wahrscheinlichkeit\n",
    "    count=('product_id', 'size')     # Anzahl der Bestellungen\n",
    ").reset_index()\n",
    "\n",
    "# Merge mit den Produktinformationen\n",
    "df_product_tip = df_product_tip.merge(\n",
    "    df_products[['product_id', 'product_name']],\n",
    "    on='product_id',\n",
    "    how='left'\n",
    ")\n",
    "\n",
    "# Filtern: Nur Produkte mit mehr als 50 Bestellungen\n",
    "df_product_tip = df_product_tip[df_product_tip['count'] > 500]\n",
    "\n",
    "# 1. **Gewichtete Wahrscheinlichkeit berechnen**\n",
    "df_product_tip['weighted_tip_probability'] = df_product_tip['tip_probability'] / df_product_tip['count']\n",
    "\n",
    "# Sortierung nach `tip_probability` und `count`\n",
    "df_top10_products = df_product_tip.sort_values(by=['tip_probability', 'count'], ascending=[False, False]).head(10)\n",
    "df_flop10_products = df_product_tip.sort_values(by=['tip_probability', 'count'], ascending=[True, False]).head(10)"
   ]
  },
  {
   "cell_type": "markdown",
   "id": "4f903e36-a7d8-4dc0-afd2-ae94f8e2b476",
   "metadata": {},
   "source": [
    "##### Visualisierung: Top 10 Produkte"
   ]
  },
  {
   "cell_type": "code",
   "execution_count": 73,
   "id": "8cd393e9-244f-456f-b0a8-7a868e096687",
   "metadata": {},
   "outputs": [
    {
     "data": {
      "application/vnd.plotly.v1+json": {
       "config": {
        "plotlyServerURL": "https://plot.ly"
       },
       "data": [
        {
         "alignmentgroup": "True",
         "customdata": [
          [
           536
          ],
          [
           1073
          ],
          [
           622
          ],
          [
           716
          ],
          [
           618
          ],
          [
           740
          ],
          [
           925
          ],
          [
           4493
          ],
          [
           738
          ],
          [
           520
          ]
         ],
         "hovertemplate": "<b>Produkt:</b> %{x}<br><b>Trinkgeld-Wahrscheinlichkeit:</b> %{y:.2%}<br><b>Häufigkeit der Käufe:</b> %{customdata[0]}",
         "legendgroup": "",
         "marker": {
          "color": [
           0.8675373134328358,
           0.8546132339235788,
           0.8520900321543409,
           0.8477653631284916,
           0.843042071197411,
           0.8391891891891892,
           0.8389189189189189,
           0.8346316492321388,
           0.8333333333333334,
           0.8326923076923077
          ],
          "coloraxis": "coloraxis",
          "line": {
           "color": "black",
           "width": 1.5
          },
          "pattern": {
           "shape": ""
          }
         },
         "name": "",
         "offsetgroup": "",
         "orientation": "v",
         "showlegend": false,
         "textposition": "auto",
         "type": "bar",
         "x": [
          "Prosecco",
          "Chardonnay Wine",
          "Pinot Noir Wine",
          "Merlot",
          "IPA",
          "Little Sumpin' Sumpin' Ale",
          "Red Blend",
          "Sauvignon Blanc",
          "Belgian White Wheat Ale",
          "Pinot Grigio Wine"
         ],
         "xaxis": "x",
         "y": [
          0.8675373134328358,
          0.8546132339235788,
          0.8520900321543409,
          0.8477653631284916,
          0.843042071197411,
          0.8391891891891892,
          0.8389189189189189,
          0.8346316492321388,
          0.8333333333333334,
          0.8326923076923077
         ],
         "yaxis": "y"
        }
       ],
       "layout": {
        "barmode": "relative",
        "coloraxis": {
         "colorbar": {
          "title": {
           "text": "Trinkgeld-Wahrscheinlichkeit (%)"
          }
         },
         "colorscale": [
          [
           0,
           "rgb(247,252,245)"
          ],
          [
           0.125,
           "rgb(229,245,224)"
          ],
          [
           0.25,
           "rgb(199,233,192)"
          ],
          [
           0.375,
           "rgb(161,217,155)"
          ],
          [
           0.5,
           "rgb(116,196,118)"
          ],
          [
           0.625,
           "rgb(65,171,93)"
          ],
          [
           0.75,
           "rgb(35,139,69)"
          ],
          [
           0.875,
           "rgb(0,109,44)"
          ],
          [
           1,
           "rgb(0,68,27)"
          ]
         ]
        },
        "height": 600,
        "legend": {
         "tracegroupgap": 0
        },
        "template": {
         "data": {
          "bar": [
           {
            "error_x": {
             "color": "#2a3f5f"
            },
            "error_y": {
             "color": "#2a3f5f"
            },
            "marker": {
             "line": {
              "color": "#E5ECF6",
              "width": 0.5
             },
             "pattern": {
              "fillmode": "overlay",
              "size": 10,
              "solidity": 0.2
             }
            },
            "type": "bar"
           }
          ],
          "barpolar": [
           {
            "marker": {
             "line": {
              "color": "#E5ECF6",
              "width": 0.5
             },
             "pattern": {
              "fillmode": "overlay",
              "size": 10,
              "solidity": 0.2
             }
            },
            "type": "barpolar"
           }
          ],
          "carpet": [
           {
            "aaxis": {
             "endlinecolor": "#2a3f5f",
             "gridcolor": "white",
             "linecolor": "white",
             "minorgridcolor": "white",
             "startlinecolor": "#2a3f5f"
            },
            "baxis": {
             "endlinecolor": "#2a3f5f",
             "gridcolor": "white",
             "linecolor": "white",
             "minorgridcolor": "white",
             "startlinecolor": "#2a3f5f"
            },
            "type": "carpet"
           }
          ],
          "choropleth": [
           {
            "colorbar": {
             "outlinewidth": 0,
             "ticks": ""
            },
            "type": "choropleth"
           }
          ],
          "contour": [
           {
            "colorbar": {
             "outlinewidth": 0,
             "ticks": ""
            },
            "colorscale": [
             [
              0,
              "#0d0887"
             ],
             [
              0.1111111111111111,
              "#46039f"
             ],
             [
              0.2222222222222222,
              "#7201a8"
             ],
             [
              0.3333333333333333,
              "#9c179e"
             ],
             [
              0.4444444444444444,
              "#bd3786"
             ],
             [
              0.5555555555555556,
              "#d8576b"
             ],
             [
              0.6666666666666666,
              "#ed7953"
             ],
             [
              0.7777777777777778,
              "#fb9f3a"
             ],
             [
              0.8888888888888888,
              "#fdca26"
             ],
             [
              1,
              "#f0f921"
             ]
            ],
            "type": "contour"
           }
          ],
          "contourcarpet": [
           {
            "colorbar": {
             "outlinewidth": 0,
             "ticks": ""
            },
            "type": "contourcarpet"
           }
          ],
          "heatmap": [
           {
            "colorbar": {
             "outlinewidth": 0,
             "ticks": ""
            },
            "colorscale": [
             [
              0,
              "#0d0887"
             ],
             [
              0.1111111111111111,
              "#46039f"
             ],
             [
              0.2222222222222222,
              "#7201a8"
             ],
             [
              0.3333333333333333,
              "#9c179e"
             ],
             [
              0.4444444444444444,
              "#bd3786"
             ],
             [
              0.5555555555555556,
              "#d8576b"
             ],
             [
              0.6666666666666666,
              "#ed7953"
             ],
             [
              0.7777777777777778,
              "#fb9f3a"
             ],
             [
              0.8888888888888888,
              "#fdca26"
             ],
             [
              1,
              "#f0f921"
             ]
            ],
            "type": "heatmap"
           }
          ],
          "heatmapgl": [
           {
            "colorbar": {
             "outlinewidth": 0,
             "ticks": ""
            },
            "colorscale": [
             [
              0,
              "#0d0887"
             ],
             [
              0.1111111111111111,
              "#46039f"
             ],
             [
              0.2222222222222222,
              "#7201a8"
             ],
             [
              0.3333333333333333,
              "#9c179e"
             ],
             [
              0.4444444444444444,
              "#bd3786"
             ],
             [
              0.5555555555555556,
              "#d8576b"
             ],
             [
              0.6666666666666666,
              "#ed7953"
             ],
             [
              0.7777777777777778,
              "#fb9f3a"
             ],
             [
              0.8888888888888888,
              "#fdca26"
             ],
             [
              1,
              "#f0f921"
             ]
            ],
            "type": "heatmapgl"
           }
          ],
          "histogram": [
           {
            "marker": {
             "pattern": {
              "fillmode": "overlay",
              "size": 10,
              "solidity": 0.2
             }
            },
            "type": "histogram"
           }
          ],
          "histogram2d": [
           {
            "colorbar": {
             "outlinewidth": 0,
             "ticks": ""
            },
            "colorscale": [
             [
              0,
              "#0d0887"
             ],
             [
              0.1111111111111111,
              "#46039f"
             ],
             [
              0.2222222222222222,
              "#7201a8"
             ],
             [
              0.3333333333333333,
              "#9c179e"
             ],
             [
              0.4444444444444444,
              "#bd3786"
             ],
             [
              0.5555555555555556,
              "#d8576b"
             ],
             [
              0.6666666666666666,
              "#ed7953"
             ],
             [
              0.7777777777777778,
              "#fb9f3a"
             ],
             [
              0.8888888888888888,
              "#fdca26"
             ],
             [
              1,
              "#f0f921"
             ]
            ],
            "type": "histogram2d"
           }
          ],
          "histogram2dcontour": [
           {
            "colorbar": {
             "outlinewidth": 0,
             "ticks": ""
            },
            "colorscale": [
             [
              0,
              "#0d0887"
             ],
             [
              0.1111111111111111,
              "#46039f"
             ],
             [
              0.2222222222222222,
              "#7201a8"
             ],
             [
              0.3333333333333333,
              "#9c179e"
             ],
             [
              0.4444444444444444,
              "#bd3786"
             ],
             [
              0.5555555555555556,
              "#d8576b"
             ],
             [
              0.6666666666666666,
              "#ed7953"
             ],
             [
              0.7777777777777778,
              "#fb9f3a"
             ],
             [
              0.8888888888888888,
              "#fdca26"
             ],
             [
              1,
              "#f0f921"
             ]
            ],
            "type": "histogram2dcontour"
           }
          ],
          "mesh3d": [
           {
            "colorbar": {
             "outlinewidth": 0,
             "ticks": ""
            },
            "type": "mesh3d"
           }
          ],
          "parcoords": [
           {
            "line": {
             "colorbar": {
              "outlinewidth": 0,
              "ticks": ""
             }
            },
            "type": "parcoords"
           }
          ],
          "pie": [
           {
            "automargin": true,
            "type": "pie"
           }
          ],
          "scatter": [
           {
            "fillpattern": {
             "fillmode": "overlay",
             "size": 10,
             "solidity": 0.2
            },
            "type": "scatter"
           }
          ],
          "scatter3d": [
           {
            "line": {
             "colorbar": {
              "outlinewidth": 0,
              "ticks": ""
             }
            },
            "marker": {
             "colorbar": {
              "outlinewidth": 0,
              "ticks": ""
             }
            },
            "type": "scatter3d"
           }
          ],
          "scattercarpet": [
           {
            "marker": {
             "colorbar": {
              "outlinewidth": 0,
              "ticks": ""
             }
            },
            "type": "scattercarpet"
           }
          ],
          "scattergeo": [
           {
            "marker": {
             "colorbar": {
              "outlinewidth": 0,
              "ticks": ""
             }
            },
            "type": "scattergeo"
           }
          ],
          "scattergl": [
           {
            "marker": {
             "colorbar": {
              "outlinewidth": 0,
              "ticks": ""
             }
            },
            "type": "scattergl"
           }
          ],
          "scattermapbox": [
           {
            "marker": {
             "colorbar": {
              "outlinewidth": 0,
              "ticks": ""
             }
            },
            "type": "scattermapbox"
           }
          ],
          "scatterpolar": [
           {
            "marker": {
             "colorbar": {
              "outlinewidth": 0,
              "ticks": ""
             }
            },
            "type": "scatterpolar"
           }
          ],
          "scatterpolargl": [
           {
            "marker": {
             "colorbar": {
              "outlinewidth": 0,
              "ticks": ""
             }
            },
            "type": "scatterpolargl"
           }
          ],
          "scatterternary": [
           {
            "marker": {
             "colorbar": {
              "outlinewidth": 0,
              "ticks": ""
             }
            },
            "type": "scatterternary"
           }
          ],
          "surface": [
           {
            "colorbar": {
             "outlinewidth": 0,
             "ticks": ""
            },
            "colorscale": [
             [
              0,
              "#0d0887"
             ],
             [
              0.1111111111111111,
              "#46039f"
             ],
             [
              0.2222222222222222,
              "#7201a8"
             ],
             [
              0.3333333333333333,
              "#9c179e"
             ],
             [
              0.4444444444444444,
              "#bd3786"
             ],
             [
              0.5555555555555556,
              "#d8576b"
             ],
             [
              0.6666666666666666,
              "#ed7953"
             ],
             [
              0.7777777777777778,
              "#fb9f3a"
             ],
             [
              0.8888888888888888,
              "#fdca26"
             ],
             [
              1,
              "#f0f921"
             ]
            ],
            "type": "surface"
           }
          ],
          "table": [
           {
            "cells": {
             "fill": {
              "color": "#EBF0F8"
             },
             "line": {
              "color": "white"
             }
            },
            "header": {
             "fill": {
              "color": "#C8D4E3"
             },
             "line": {
              "color": "white"
             }
            },
            "type": "table"
           }
          ]
         },
         "layout": {
          "annotationdefaults": {
           "arrowcolor": "#2a3f5f",
           "arrowhead": 0,
           "arrowwidth": 1
          },
          "autotypenumbers": "strict",
          "coloraxis": {
           "colorbar": {
            "outlinewidth": 0,
            "ticks": ""
           }
          },
          "colorscale": {
           "diverging": [
            [
             0,
             "#8e0152"
            ],
            [
             0.1,
             "#c51b7d"
            ],
            [
             0.2,
             "#de77ae"
            ],
            [
             0.3,
             "#f1b6da"
            ],
            [
             0.4,
             "#fde0ef"
            ],
            [
             0.5,
             "#f7f7f7"
            ],
            [
             0.6,
             "#e6f5d0"
            ],
            [
             0.7,
             "#b8e186"
            ],
            [
             0.8,
             "#7fbc41"
            ],
            [
             0.9,
             "#4d9221"
            ],
            [
             1,
             "#276419"
            ]
           ],
           "sequential": [
            [
             0,
             "#0d0887"
            ],
            [
             0.1111111111111111,
             "#46039f"
            ],
            [
             0.2222222222222222,
             "#7201a8"
            ],
            [
             0.3333333333333333,
             "#9c179e"
            ],
            [
             0.4444444444444444,
             "#bd3786"
            ],
            [
             0.5555555555555556,
             "#d8576b"
            ],
            [
             0.6666666666666666,
             "#ed7953"
            ],
            [
             0.7777777777777778,
             "#fb9f3a"
            ],
            [
             0.8888888888888888,
             "#fdca26"
            ],
            [
             1,
             "#f0f921"
            ]
           ],
           "sequentialminus": [
            [
             0,
             "#0d0887"
            ],
            [
             0.1111111111111111,
             "#46039f"
            ],
            [
             0.2222222222222222,
             "#7201a8"
            ],
            [
             0.3333333333333333,
             "#9c179e"
            ],
            [
             0.4444444444444444,
             "#bd3786"
            ],
            [
             0.5555555555555556,
             "#d8576b"
            ],
            [
             0.6666666666666666,
             "#ed7953"
            ],
            [
             0.7777777777777778,
             "#fb9f3a"
            ],
            [
             0.8888888888888888,
             "#fdca26"
            ],
            [
             1,
             "#f0f921"
            ]
           ]
          },
          "colorway": [
           "#636efa",
           "#EF553B",
           "#00cc96",
           "#ab63fa",
           "#FFA15A",
           "#19d3f3",
           "#FF6692",
           "#B6E880",
           "#FF97FF",
           "#FECB52"
          ],
          "font": {
           "color": "#2a3f5f"
          },
          "geo": {
           "bgcolor": "white",
           "lakecolor": "white",
           "landcolor": "#E5ECF6",
           "showlakes": true,
           "showland": true,
           "subunitcolor": "white"
          },
          "hoverlabel": {
           "align": "left"
          },
          "hovermode": "closest",
          "mapbox": {
           "style": "light"
          },
          "paper_bgcolor": "white",
          "plot_bgcolor": "#E5ECF6",
          "polar": {
           "angularaxis": {
            "gridcolor": "white",
            "linecolor": "white",
            "ticks": ""
           },
           "bgcolor": "#E5ECF6",
           "radialaxis": {
            "gridcolor": "white",
            "linecolor": "white",
            "ticks": ""
           }
          },
          "scene": {
           "xaxis": {
            "backgroundcolor": "#E5ECF6",
            "gridcolor": "white",
            "gridwidth": 2,
            "linecolor": "white",
            "showbackground": true,
            "ticks": "",
            "zerolinecolor": "white"
           },
           "yaxis": {
            "backgroundcolor": "#E5ECF6",
            "gridcolor": "white",
            "gridwidth": 2,
            "linecolor": "white",
            "showbackground": true,
            "ticks": "",
            "zerolinecolor": "white"
           },
           "zaxis": {
            "backgroundcolor": "#E5ECF6",
            "gridcolor": "white",
            "gridwidth": 2,
            "linecolor": "white",
            "showbackground": true,
            "ticks": "",
            "zerolinecolor": "white"
           }
          },
          "shapedefaults": {
           "line": {
            "color": "#2a3f5f"
           }
          },
          "ternary": {
           "aaxis": {
            "gridcolor": "white",
            "linecolor": "white",
            "ticks": ""
           },
           "baxis": {
            "gridcolor": "white",
            "linecolor": "white",
            "ticks": ""
           },
           "bgcolor": "#E5ECF6",
           "caxis": {
            "gridcolor": "white",
            "linecolor": "white",
            "ticks": ""
           }
          },
          "title": {
           "x": 0.05
          },
          "xaxis": {
           "automargin": true,
           "gridcolor": "white",
           "linecolor": "white",
           "ticks": "",
           "title": {
            "standoff": 15
           },
           "zerolinecolor": "white",
           "zerolinewidth": 2
          },
          "yaxis": {
           "automargin": true,
           "gridcolor": "white",
           "linecolor": "white",
           "ticks": "",
           "title": {
            "standoff": 15
           },
           "zerolinecolor": "white",
           "zerolinewidth": 2
          }
         }
        },
        "title": {
         "font": {
          "size": 18
         },
         "text": "Top 10 Produkte mit höchster Trinkgeld-Wahrscheinlichkeit",
         "x": 0.5
        },
        "width": 1200,
        "xaxis": {
         "anchor": "y",
         "domain": [
          0,
          1
         ],
         "tickangle": -45,
         "title": {
          "text": "Produkt"
         }
        },
        "yaxis": {
         "anchor": "x",
         "autorange": false,
         "domain": [
          0,
          1
         ],
         "dtick": 0.1,
         "range": [
          0,
          0.9
         ],
         "tickformat": ".0%",
         "title": {
          "text": "Trinkgeld-Wahrscheinlichkeit (%)"
         }
        }
       }
      }
     },
     "metadata": {},
     "output_type": "display_data"
    }
   ],
   "source": [
    "# Visualisierung: Top 10 Produkte\n",
    "fig_top10 = px.bar(\n",
    "    df_top10_products.sort_values('tip_probability', ascending=False),\n",
    "    x='product_name', \n",
    "    y='tip_probability',\n",
    "    title=\"Top 10 Produkte mit höchster Trinkgeld-Wahrscheinlichkeit\",\n",
    "    labels={\n",
    "        'tip_probability': 'Trinkgeld-Wahrscheinlichkeit (%)', \n",
    "        'product_name': 'Produkt'\n",
    "    },\n",
    "    color='tip_probability', \n",
    "    color_continuous_scale='Greens',\n",
    "    hover_data={'count': True},  # Tooltip zeigt die Anzahl der Käufe an\n",
    ")\n",
    "\n",
    "# Layout-Anpassungen\n",
    "fig_top10.update_layout(\n",
    "    title_font=dict(size=18),  # Größerer Titel\n",
    "    title_x=0.5,               # Titel horizontal zentrieren\n",
    "    xaxis=dict(title='Produkt', tickangle=-45),  # Rotierte Achsenticks\n",
    "    yaxis=dict(title='Trinkgeld-Wahrscheinlichkeit (%)', tickformat=\".0%\", dtick=0.1, autorange=False, range=[0, 1]), # Prozentformat + Schritte in 10er-Intervallen\n",
    "    width=1200,  \n",
    "    height=600\n",
    ")\n",
    "\n",
    "# Skalierung der y-Achse, um relevante Werte zu fokussieren\n",
    "fig_top10.update_layout(yaxis=dict(autorange=False, range=[0, 0.9]))\n",
    "\n",
    "# Optische Verbesserungen und Tooltip-Template\n",
    "fig_top10.update_traces(\n",
    "    marker_line_width=1.5, \n",
    "    marker_line_color=\"black\",\n",
    "    hovertemplate=\"<b>Produkt:</b> %{x}<br>\" +\n",
    "                  \"<b>Trinkgeld-Wahrscheinlichkeit:</b> %{y:.2%}<br>\" +\n",
    "                  \"<b>Häufigkeit der Käufe:</b> %{customdata[0]}\"\n",
    ")\n",
    "\n",
    "# Diagramm anzeigen\n",
    "fig_top10.show()"
   ]
  },
  {
   "cell_type": "markdown",
   "id": "78690354-dfc7-43e8-ab1d-3fb774011b67",
   "metadata": {},
   "source": [
    "##### Erste Interpretation"
   ]
  },
  {
   "cell_type": "markdown",
   "id": "a6ffcc98-d67e-406f-be26-e6a0041e3627",
   "metadata": {},
   "source": [
    "Das Diagramm zeigt, dass die höchste Trinkgeld-Wahrscheinlichkeit bei alkoholischen Produkten liegt, insbesondere bei Prosecco, Weinen, Bier und Spirituosen. Alle Produkte in den Top 10 haben eine Wahrscheinlichkeit von über 78 %, was auf den besonderen Charakter dieser Produkte (z. B. für Feierlichkeiten) hinweist. Prosecco steht mit über 80 % an der Spitze. Anbieter könnten diese Erkenntnis nutzen, um in diesen Kategorien gezielt Trinkgeldanreize zu fördern."
   ]
  },
  {
   "cell_type": "markdown",
   "id": "eaec4ea5-56a4-4d81-b69f-d50a1b0acf1d",
   "metadata": {},
   "source": [
    "##### Visualisierung: Flop 10 Produkte"
   ]
  },
  {
   "cell_type": "code",
   "execution_count": 74,
   "id": "9baac0a5-8220-4ad9-8699-db49fbc3f6b1",
   "metadata": {},
   "outputs": [
    {
     "data": {
      "application/vnd.plotly.v1+json": {
       "config": {
        "plotlyServerURL": "https://plot.ly"
       },
       "data": [
        {
         "alignmentgroup": "True",
         "customdata": [
          [
           546
          ],
          [
           681
          ],
          [
           961
          ],
          [
           504
          ],
          [
           565
          ],
          [
           586
          ],
          [
           1113
          ],
          [
           926
          ],
          [
           883
          ],
          [
           676
          ]
         ],
         "hovertemplate": "<b>Department:</b> %{x}<br><b>Trinkgeld-Wahrscheinlichkeit:</b> %{y:.2%}<br><b>Häufigkeit der Käufe:</b> %{customdata[0]}",
         "legendgroup": "",
         "marker": {
          "color": [
           0.20512820512820512,
           0.22173274596182085,
           0.2278876170655567,
           0.23214285714285715,
           0.2336283185840708,
           0.23720136518771331,
           0.2407906558849955,
           0.2408207343412527,
           0.24235560588901472,
           0.24260355029585798
          ],
          "coloraxis": "coloraxis",
          "line": {
           "color": "black",
           "width": 1.5
          },
          "pattern": {
           "shape": ""
          }
         },
         "name": "",
         "offsetgroup": "",
         "orientation": "v",
         "showlegend": false,
         "textposition": "auto",
         "type": "bar",
         "x": [
          "Combination Pizza Rolls",
          "Ice Cream Bars",
          "Crispy Chick'n Sliders",
          "Original 5-Cheese Pizza",
          "Chocolate Chip Vegan Cookie Dough",
          "Veggie-Style Mini Corn Dogs",
          "Seltzer Water",
          "Vegan Margherita Pizza With Daiya Cheeze",
          "Grilled Chicken Taquitos",
          "Organic Virgin Coconut Oil"
         ],
         "xaxis": "x",
         "y": [
          0.20512820512820512,
          0.22173274596182085,
          0.2278876170655567,
          0.23214285714285715,
          0.2336283185840708,
          0.23720136518771331,
          0.2407906558849955,
          0.2408207343412527,
          0.24235560588901472,
          0.24260355029585798
         ],
         "yaxis": "y"
        }
       ],
       "layout": {
        "barmode": "relative",
        "coloraxis": {
         "colorbar": {
          "title": {
           "text": "Trinkgeld-Wahrscheinlichkeit (%)"
          }
         },
         "colorscale": [
          [
           0,
           "rgb(103,0,13)"
          ],
          [
           0.125,
           "rgb(165,15,21)"
          ],
          [
           0.25,
           "rgb(203,24,29)"
          ],
          [
           0.375,
           "rgb(239,59,44)"
          ],
          [
           0.5,
           "rgb(251,106,74)"
          ],
          [
           0.625,
           "rgb(252,146,114)"
          ],
          [
           0.75,
           "rgb(252,187,161)"
          ],
          [
           0.875,
           "rgb(254,224,210)"
          ],
          [
           1,
           "rgb(255,245,240)"
          ]
         ]
        },
        "height": 600,
        "legend": {
         "tracegroupgap": 0
        },
        "template": {
         "data": {
          "bar": [
           {
            "error_x": {
             "color": "#2a3f5f"
            },
            "error_y": {
             "color": "#2a3f5f"
            },
            "marker": {
             "line": {
              "color": "#E5ECF6",
              "width": 0.5
             },
             "pattern": {
              "fillmode": "overlay",
              "size": 10,
              "solidity": 0.2
             }
            },
            "type": "bar"
           }
          ],
          "barpolar": [
           {
            "marker": {
             "line": {
              "color": "#E5ECF6",
              "width": 0.5
             },
             "pattern": {
              "fillmode": "overlay",
              "size": 10,
              "solidity": 0.2
             }
            },
            "type": "barpolar"
           }
          ],
          "carpet": [
           {
            "aaxis": {
             "endlinecolor": "#2a3f5f",
             "gridcolor": "white",
             "linecolor": "white",
             "minorgridcolor": "white",
             "startlinecolor": "#2a3f5f"
            },
            "baxis": {
             "endlinecolor": "#2a3f5f",
             "gridcolor": "white",
             "linecolor": "white",
             "minorgridcolor": "white",
             "startlinecolor": "#2a3f5f"
            },
            "type": "carpet"
           }
          ],
          "choropleth": [
           {
            "colorbar": {
             "outlinewidth": 0,
             "ticks": ""
            },
            "type": "choropleth"
           }
          ],
          "contour": [
           {
            "colorbar": {
             "outlinewidth": 0,
             "ticks": ""
            },
            "colorscale": [
             [
              0,
              "#0d0887"
             ],
             [
              0.1111111111111111,
              "#46039f"
             ],
             [
              0.2222222222222222,
              "#7201a8"
             ],
             [
              0.3333333333333333,
              "#9c179e"
             ],
             [
              0.4444444444444444,
              "#bd3786"
             ],
             [
              0.5555555555555556,
              "#d8576b"
             ],
             [
              0.6666666666666666,
              "#ed7953"
             ],
             [
              0.7777777777777778,
              "#fb9f3a"
             ],
             [
              0.8888888888888888,
              "#fdca26"
             ],
             [
              1,
              "#f0f921"
             ]
            ],
            "type": "contour"
           }
          ],
          "contourcarpet": [
           {
            "colorbar": {
             "outlinewidth": 0,
             "ticks": ""
            },
            "type": "contourcarpet"
           }
          ],
          "heatmap": [
           {
            "colorbar": {
             "outlinewidth": 0,
             "ticks": ""
            },
            "colorscale": [
             [
              0,
              "#0d0887"
             ],
             [
              0.1111111111111111,
              "#46039f"
             ],
             [
              0.2222222222222222,
              "#7201a8"
             ],
             [
              0.3333333333333333,
              "#9c179e"
             ],
             [
              0.4444444444444444,
              "#bd3786"
             ],
             [
              0.5555555555555556,
              "#d8576b"
             ],
             [
              0.6666666666666666,
              "#ed7953"
             ],
             [
              0.7777777777777778,
              "#fb9f3a"
             ],
             [
              0.8888888888888888,
              "#fdca26"
             ],
             [
              1,
              "#f0f921"
             ]
            ],
            "type": "heatmap"
           }
          ],
          "heatmapgl": [
           {
            "colorbar": {
             "outlinewidth": 0,
             "ticks": ""
            },
            "colorscale": [
             [
              0,
              "#0d0887"
             ],
             [
              0.1111111111111111,
              "#46039f"
             ],
             [
              0.2222222222222222,
              "#7201a8"
             ],
             [
              0.3333333333333333,
              "#9c179e"
             ],
             [
              0.4444444444444444,
              "#bd3786"
             ],
             [
              0.5555555555555556,
              "#d8576b"
             ],
             [
              0.6666666666666666,
              "#ed7953"
             ],
             [
              0.7777777777777778,
              "#fb9f3a"
             ],
             [
              0.8888888888888888,
              "#fdca26"
             ],
             [
              1,
              "#f0f921"
             ]
            ],
            "type": "heatmapgl"
           }
          ],
          "histogram": [
           {
            "marker": {
             "pattern": {
              "fillmode": "overlay",
              "size": 10,
              "solidity": 0.2
             }
            },
            "type": "histogram"
           }
          ],
          "histogram2d": [
           {
            "colorbar": {
             "outlinewidth": 0,
             "ticks": ""
            },
            "colorscale": [
             [
              0,
              "#0d0887"
             ],
             [
              0.1111111111111111,
              "#46039f"
             ],
             [
              0.2222222222222222,
              "#7201a8"
             ],
             [
              0.3333333333333333,
              "#9c179e"
             ],
             [
              0.4444444444444444,
              "#bd3786"
             ],
             [
              0.5555555555555556,
              "#d8576b"
             ],
             [
              0.6666666666666666,
              "#ed7953"
             ],
             [
              0.7777777777777778,
              "#fb9f3a"
             ],
             [
              0.8888888888888888,
              "#fdca26"
             ],
             [
              1,
              "#f0f921"
             ]
            ],
            "type": "histogram2d"
           }
          ],
          "histogram2dcontour": [
           {
            "colorbar": {
             "outlinewidth": 0,
             "ticks": ""
            },
            "colorscale": [
             [
              0,
              "#0d0887"
             ],
             [
              0.1111111111111111,
              "#46039f"
             ],
             [
              0.2222222222222222,
              "#7201a8"
             ],
             [
              0.3333333333333333,
              "#9c179e"
             ],
             [
              0.4444444444444444,
              "#bd3786"
             ],
             [
              0.5555555555555556,
              "#d8576b"
             ],
             [
              0.6666666666666666,
              "#ed7953"
             ],
             [
              0.7777777777777778,
              "#fb9f3a"
             ],
             [
              0.8888888888888888,
              "#fdca26"
             ],
             [
              1,
              "#f0f921"
             ]
            ],
            "type": "histogram2dcontour"
           }
          ],
          "mesh3d": [
           {
            "colorbar": {
             "outlinewidth": 0,
             "ticks": ""
            },
            "type": "mesh3d"
           }
          ],
          "parcoords": [
           {
            "line": {
             "colorbar": {
              "outlinewidth": 0,
              "ticks": ""
             }
            },
            "type": "parcoords"
           }
          ],
          "pie": [
           {
            "automargin": true,
            "type": "pie"
           }
          ],
          "scatter": [
           {
            "fillpattern": {
             "fillmode": "overlay",
             "size": 10,
             "solidity": 0.2
            },
            "type": "scatter"
           }
          ],
          "scatter3d": [
           {
            "line": {
             "colorbar": {
              "outlinewidth": 0,
              "ticks": ""
             }
            },
            "marker": {
             "colorbar": {
              "outlinewidth": 0,
              "ticks": ""
             }
            },
            "type": "scatter3d"
           }
          ],
          "scattercarpet": [
           {
            "marker": {
             "colorbar": {
              "outlinewidth": 0,
              "ticks": ""
             }
            },
            "type": "scattercarpet"
           }
          ],
          "scattergeo": [
           {
            "marker": {
             "colorbar": {
              "outlinewidth": 0,
              "ticks": ""
             }
            },
            "type": "scattergeo"
           }
          ],
          "scattergl": [
           {
            "marker": {
             "colorbar": {
              "outlinewidth": 0,
              "ticks": ""
             }
            },
            "type": "scattergl"
           }
          ],
          "scattermapbox": [
           {
            "marker": {
             "colorbar": {
              "outlinewidth": 0,
              "ticks": ""
             }
            },
            "type": "scattermapbox"
           }
          ],
          "scatterpolar": [
           {
            "marker": {
             "colorbar": {
              "outlinewidth": 0,
              "ticks": ""
             }
            },
            "type": "scatterpolar"
           }
          ],
          "scatterpolargl": [
           {
            "marker": {
             "colorbar": {
              "outlinewidth": 0,
              "ticks": ""
             }
            },
            "type": "scatterpolargl"
           }
          ],
          "scatterternary": [
           {
            "marker": {
             "colorbar": {
              "outlinewidth": 0,
              "ticks": ""
             }
            },
            "type": "scatterternary"
           }
          ],
          "surface": [
           {
            "colorbar": {
             "outlinewidth": 0,
             "ticks": ""
            },
            "colorscale": [
             [
              0,
              "#0d0887"
             ],
             [
              0.1111111111111111,
              "#46039f"
             ],
             [
              0.2222222222222222,
              "#7201a8"
             ],
             [
              0.3333333333333333,
              "#9c179e"
             ],
             [
              0.4444444444444444,
              "#bd3786"
             ],
             [
              0.5555555555555556,
              "#d8576b"
             ],
             [
              0.6666666666666666,
              "#ed7953"
             ],
             [
              0.7777777777777778,
              "#fb9f3a"
             ],
             [
              0.8888888888888888,
              "#fdca26"
             ],
             [
              1,
              "#f0f921"
             ]
            ],
            "type": "surface"
           }
          ],
          "table": [
           {
            "cells": {
             "fill": {
              "color": "#EBF0F8"
             },
             "line": {
              "color": "white"
             }
            },
            "header": {
             "fill": {
              "color": "#C8D4E3"
             },
             "line": {
              "color": "white"
             }
            },
            "type": "table"
           }
          ]
         },
         "layout": {
          "annotationdefaults": {
           "arrowcolor": "#2a3f5f",
           "arrowhead": 0,
           "arrowwidth": 1
          },
          "autotypenumbers": "strict",
          "coloraxis": {
           "colorbar": {
            "outlinewidth": 0,
            "ticks": ""
           }
          },
          "colorscale": {
           "diverging": [
            [
             0,
             "#8e0152"
            ],
            [
             0.1,
             "#c51b7d"
            ],
            [
             0.2,
             "#de77ae"
            ],
            [
             0.3,
             "#f1b6da"
            ],
            [
             0.4,
             "#fde0ef"
            ],
            [
             0.5,
             "#f7f7f7"
            ],
            [
             0.6,
             "#e6f5d0"
            ],
            [
             0.7,
             "#b8e186"
            ],
            [
             0.8,
             "#7fbc41"
            ],
            [
             0.9,
             "#4d9221"
            ],
            [
             1,
             "#276419"
            ]
           ],
           "sequential": [
            [
             0,
             "#0d0887"
            ],
            [
             0.1111111111111111,
             "#46039f"
            ],
            [
             0.2222222222222222,
             "#7201a8"
            ],
            [
             0.3333333333333333,
             "#9c179e"
            ],
            [
             0.4444444444444444,
             "#bd3786"
            ],
            [
             0.5555555555555556,
             "#d8576b"
            ],
            [
             0.6666666666666666,
             "#ed7953"
            ],
            [
             0.7777777777777778,
             "#fb9f3a"
            ],
            [
             0.8888888888888888,
             "#fdca26"
            ],
            [
             1,
             "#f0f921"
            ]
           ],
           "sequentialminus": [
            [
             0,
             "#0d0887"
            ],
            [
             0.1111111111111111,
             "#46039f"
            ],
            [
             0.2222222222222222,
             "#7201a8"
            ],
            [
             0.3333333333333333,
             "#9c179e"
            ],
            [
             0.4444444444444444,
             "#bd3786"
            ],
            [
             0.5555555555555556,
             "#d8576b"
            ],
            [
             0.6666666666666666,
             "#ed7953"
            ],
            [
             0.7777777777777778,
             "#fb9f3a"
            ],
            [
             0.8888888888888888,
             "#fdca26"
            ],
            [
             1,
             "#f0f921"
            ]
           ]
          },
          "colorway": [
           "#636efa",
           "#EF553B",
           "#00cc96",
           "#ab63fa",
           "#FFA15A",
           "#19d3f3",
           "#FF6692",
           "#B6E880",
           "#FF97FF",
           "#FECB52"
          ],
          "font": {
           "color": "#2a3f5f"
          },
          "geo": {
           "bgcolor": "white",
           "lakecolor": "white",
           "landcolor": "#E5ECF6",
           "showlakes": true,
           "showland": true,
           "subunitcolor": "white"
          },
          "hoverlabel": {
           "align": "left"
          },
          "hovermode": "closest",
          "mapbox": {
           "style": "light"
          },
          "paper_bgcolor": "white",
          "plot_bgcolor": "#E5ECF6",
          "polar": {
           "angularaxis": {
            "gridcolor": "white",
            "linecolor": "white",
            "ticks": ""
           },
           "bgcolor": "#E5ECF6",
           "radialaxis": {
            "gridcolor": "white",
            "linecolor": "white",
            "ticks": ""
           }
          },
          "scene": {
           "xaxis": {
            "backgroundcolor": "#E5ECF6",
            "gridcolor": "white",
            "gridwidth": 2,
            "linecolor": "white",
            "showbackground": true,
            "ticks": "",
            "zerolinecolor": "white"
           },
           "yaxis": {
            "backgroundcolor": "#E5ECF6",
            "gridcolor": "white",
            "gridwidth": 2,
            "linecolor": "white",
            "showbackground": true,
            "ticks": "",
            "zerolinecolor": "white"
           },
           "zaxis": {
            "backgroundcolor": "#E5ECF6",
            "gridcolor": "white",
            "gridwidth": 2,
            "linecolor": "white",
            "showbackground": true,
            "ticks": "",
            "zerolinecolor": "white"
           }
          },
          "shapedefaults": {
           "line": {
            "color": "#2a3f5f"
           }
          },
          "ternary": {
           "aaxis": {
            "gridcolor": "white",
            "linecolor": "white",
            "ticks": ""
           },
           "baxis": {
            "gridcolor": "white",
            "linecolor": "white",
            "ticks": ""
           },
           "bgcolor": "#E5ECF6",
           "caxis": {
            "gridcolor": "white",
            "linecolor": "white",
            "ticks": ""
           }
          },
          "title": {
           "x": 0.05
          },
          "xaxis": {
           "automargin": true,
           "gridcolor": "white",
           "linecolor": "white",
           "ticks": "",
           "title": {
            "standoff": 15
           },
           "zerolinecolor": "white",
           "zerolinewidth": 2
          },
          "yaxis": {
           "automargin": true,
           "gridcolor": "white",
           "linecolor": "white",
           "ticks": "",
           "title": {
            "standoff": 15
           },
           "zerolinecolor": "white",
           "zerolinewidth": 2
          }
         }
        },
        "title": {
         "font": {
          "size": 18
         },
         "text": "Produkte mit der niedrigsten Wahrscheinlichkeit, Trinkgeld zu erhalten",
         "x": 0.5
        },
        "width": 1200,
        "xaxis": {
         "anchor": "y",
         "domain": [
          0,
          1
         ],
         "tickangle": -45,
         "title": {
          "text": "Produkt"
         }
        },
        "yaxis": {
         "anchor": "x",
         "domain": [
          0,
          1
         ],
         "tickformat": ".0%",
         "title": {
          "text": "Trinkgeld-Wahrscheinlichkeit (%)"
         }
        }
       }
      }
     },
     "metadata": {},
     "output_type": "display_data"
    }
   ],
   "source": [
    "# Visualisierung: Flop 10 Produkte\n",
    "fig_flop10 = px.bar(\n",
    "    df_flop10_products.sort_values('tip_probability', ascending=True),\n",
    "    x='product_name', \n",
    "    y='tip_probability',\n",
    "    title=\"Produkte mit der niedrigsten Wahrscheinlichkeit, Trinkgeld zu erhalten\",\n",
    "    labels={\n",
    "        'tip_probability': 'Trinkgeld-Wahrscheinlichkeit (%)', \n",
    "        'product_name': 'Produkt'\n",
    "    },\n",
    "    color='tip_probability', \n",
    "    color_continuous_scale='Reds_r',\n",
    "    hover_data={'count': True},  # Tooltip zeigt die Anzahl der Käufe an\n",
    ")\n",
    "\n",
    "# Anpassungen an der Darstellung\n",
    "fig_flop10.update_layout(\n",
    "    title_font=dict(size=18),  # Größerer Titel\n",
    "    title_x=0.5,               # Titel horizontal zentrieren\n",
    "    xaxis=dict(title='Produkt', tickangle=-45),  # Rotierte Achsenticks\n",
    "    yaxis=dict(title='Trinkgeld-Wahrscheinlichkeit (%)', tickformat=\".0%\"),  # Prozentformat\n",
    "    width=1200,  # Breitere Grafik für bessere Lesbarkeit\n",
    "    height=600\n",
    ")\n",
    "\n",
    "# Tooltip optimiert, um Bestellanzahl zu visualisieren\n",
    "fig_flop10.update_traces(marker_line_width=1.5, marker_line_color=\"black\")\n",
    "fig_flop10.update_traces(hovertemplate=\"<b>Department:</b> %{x}<br>\" +\n",
    "                               \"<b>Trinkgeld-Wahrscheinlichkeit:</b> %{y:.2%}<br>\" +\n",
    "                               \"<b>Häufigkeit der Käufe:</b> %{customdata[0]}\"\n",
    ")\n",
    "\n",
    "# Diagramm anzeigen\n",
    "fig_flop10.show()"
   ]
  },
  {
   "cell_type": "markdown",
   "id": "5cfcb44e-8ce5-4cf9-a6fb-1ec8194081bb",
   "metadata": {},
   "source": [
    "##### Erste Interpretation"
   ]
  },
  {
   "cell_type": "markdown",
   "id": "3545883e-e32f-4e37-ae6c-325b1fb8df69",
   "metadata": {},
   "source": [
    "Das Diagramm zeigt, dass Produkte des täglichen Bedarfs wie Tiefkühlartikel (z. B. Pizza Rolls, Chicken Sliders) und Snacks die niedrigste Trinkgeld-Wahrscheinlichkeit haben (ca. 20–24 %). Diese Artikel sind meist günstig und funktional, was Trinkgeld weniger wahrscheinlich macht. Besonders \"Combination Pizza Rolls\" stehen mit der geringsten Wahrscheinlichkeit (ca. 20 %) an der Spitze."
   ]
  },
  {
   "cell_type": "markdown",
   "id": "63fbc1be-2765-44c6-b68b-c6e6f03c5a82",
   "metadata": {},
   "source": [
    "#### **Direkter Zusammenhang zu Produkten über entsprechende Departments hinaus**"
   ]
  },
  {
   "cell_type": "markdown",
   "id": "e893c48b",
   "metadata": {},
   "source": [
    "Frage: Besteht der Zusammenhang aus (b) zusätzlich zu dem aus (a), d.h. beeinflusst das \n",
    "Vorhandensein der Produkte aus (b) die Trinkgeldwahrscheinlichkeit auch über das hinaus, \n",
    "was durch das Vorhandensein der entsprechenden Departments schon absehbar ist?  "
   ]
  },
  {
   "cell_type": "markdown",
   "id": "5b46c9af",
   "metadata": {},
   "source": [
    "=> zu prüfen: **P(Trinkgeld | Department, Produkt) ?= P(Trinkgeld | Department)**<br>\n",
    "Bedingte Wahrscheinlichkeit mit und ohne Produkt\n",
    "\n",
    "<u>Wenn gleich:</u> Kein Einfluss des Produktes über Department hinaus <br>\n",
    "<u>Wenn ungleich:</u> Zusätzlicher Einfluss des Produktes über das Department hinaus\n",
    "\n"
   ]
  },
  {
   "cell_type": "markdown",
   "id": "75a8803a",
   "metadata": {},
   "source": [
    "##### Möglichst aussagekräftige Stichprobe: Meistbestelltes Produkt aus meistbestelltem Department nehmen"
   ]
  },
  {
   "cell_type": "code",
   "execution_count": 75,
   "id": "74a9b222-27d8-4c79-9967-88a27a9b787a",
   "metadata": {},
   "outputs": [
    {
     "name": "stdout",
     "output_type": "stream",
     "text": [
      "Deparment mit den meisten Bestellungen: produce\n"
     ]
    }
   ],
   "source": [
    "# Menge an Bestellungen nach Department\n",
    "df_department_order_count = df_merged.groupby('department').size().reset_index(name='order_count')\n",
    "df_department_order_count = df_department_order_count.sort_values(by='order_count', ascending=False)\n",
    "print(f\"Deparment mit den meisten Bestellungen: {df_department_order_count.iloc[0]['department']}\")"
   ]
  },
  {
   "cell_type": "code",
   "execution_count": 76,
   "id": "a8f5418f-0d4a-470b-b490-bda4e64f84e2",
   "metadata": {},
   "outputs": [
    {
     "name": "stdout",
     "output_type": "stream",
     "text": [
      "Produkt mit den meisten Bestellungen im Department 'produce': Banana\n"
     ]
    }
   ],
   "source": [
    "df_produce = df_merged[df_merged['department'] == 'produce']\n",
    "# produkte in produce\n",
    "df_produce_products = df_produce.groupby('product_name').size().reset_index(name='order_count')\n",
    "df_produce_products = df_produce_products.sort_values(by='order_count', ascending=False)\n",
    "print(f\"Produkt mit den meisten Bestellungen im Department 'produce': {df_produce_products.iloc[0]['product_name']}\")"
   ]
  },
  {
   "cell_type": "markdown",
   "id": "f70364c7",
   "metadata": {},
   "source": [
    "**Formel: P (Trinkgeld = True | Department = Produce, Produkt = Banana) ?= P (Trinkgeld = True | Department = Produce)**"
   ]
  },
  {
   "cell_type": "code",
   "execution_count": 77,
   "id": "0eeaa1f1-e5ba-42f8-add1-6629e5654865",
   "metadata": {},
   "outputs": [
    {
     "name": "stdout",
     "output_type": "stream",
     "text": [
      "Anzahl der Bestellungen von Bananen: 244850\n",
      "Anzahl der Trinkgeld-Bestellungen von Bananen: 139711\n",
      "P(Trinkgeld | Department, Produkt) = 0.57\n"
     ]
    }
   ],
   "source": [
    "# P ( Trinkgeld | Department, Produkt) = (Trinkgeld & Department & Produkt) / (Department & Produkt)\n",
    "count_trinkgeld_banana = df_merged[df_merged['product_name'] == 'Banana']\n",
    "count_trinkgeld_banana = count_trinkgeld_banana[count_trinkgeld_banana['tip'] > 0].shape[0]\n",
    "\n",
    "# Anzahl der Bestellungen von Bananen\n",
    "count_banana = df_merged[df_merged['product_name'] == 'Banana'].shape[0]\n",
    "trinkgeld_bedingt_banana_produce = round(count_trinkgeld_banana / count_banana,2)\n",
    "\n",
    "print(f\"Anzahl der Bestellungen von Bananen: {count_banana}\")\n",
    "print(f\"Anzahl der Trinkgeld-Bestellungen von Bananen: {count_trinkgeld_banana}\")\n",
    "print(f\"P(Trinkgeld | Department, Produkt) = {trinkgeld_bedingt_banana_produce}\")"
   ]
  },
  {
   "cell_type": "code",
   "execution_count": 78,
   "id": "a25a35c2-f579-4769-a966-83eddc741a45",
   "metadata": {},
   "outputs": [
    {
     "name": "stdout",
     "output_type": "stream",
     "text": [
      "Anzahl der Bestellungen im Department 'produce': 4957175\n",
      "Anzahl der Trinkgeld-Bestellungen im Department 'produce': 2330380\n",
      "P(Trinkgeld | Department) = 0.47\n"
     ]
    }
   ],
   "source": [
    "# P ( Trinkgeld | Department) = (Trinkgeld & Department) / Department\n",
    "count_trinkgeld_produce= df_merged[df_merged['department'] == 'produce']\n",
    "count_trinkgeld_produce = count_trinkgeld_produce[count_trinkgeld_produce['tip'] > 0].shape[0]\n",
    "\n",
    "# Anzahl der Bestellungen im Department 'produce'\n",
    "count_produce = df_merged[df_merged['department'] == 'produce'].shape[0]\n",
    "\n",
    "trinkgeld_bedingt_produce = round(count_trinkgeld_produce / count_produce,2)\n",
    "\n",
    "print(f\"Anzahl der Bestellungen im Department 'produce': {count_produce}\")\n",
    "print(f\"Anzahl der Trinkgeld-Bestellungen im Department 'produce': {count_trinkgeld_produce}\")\n",
    "print(f\"P(Trinkgeld | Department) = {trinkgeld_bedingt_produce}\")"
   ]
  },
  {
   "cell_type": "code",
   "execution_count": 79,
   "id": "33daea1a-0133-460f-b80b-692148e58869",
   "metadata": {},
   "outputs": [
    {
     "data": {
      "application/vnd.plotly.v1+json": {
       "config": {
        "plotlyServerURL": "https://plot.ly"
       },
       "data": [
        {
         "alignmentgroup": "True",
         "hovertemplate": "Bedingung=%{x}<br>Wahrscheinlichkeit=%{y}<br>text=%{text}<extra></extra>",
         "legendgroup": "",
         "marker": {
          "color": "#FFA07A",
          "line": {
           "color": "black",
           "width": 1.5
          },
          "pattern": {
           "shape": ""
          }
         },
         "name": "",
         "offsetgroup": "",
         "orientation": "v",
         "showlegend": false,
         "text": [
          0.47,
          0.57
         ],
         "textposition": "auto",
         "type": "bar",
         "x": [
          "P(Trinkgeld | Department)",
          "P(Trinkgeld | Department, Produkt)"
         ],
         "xaxis": "x",
         "y": [
          0.47,
          0.57
         ],
         "yaxis": "y"
        }
       ],
       "layout": {
        "barmode": "relative",
        "legend": {
         "tracegroupgap": 0
        },
        "template": {
         "data": {
          "bar": [
           {
            "error_x": {
             "color": "#2a3f5f"
            },
            "error_y": {
             "color": "#2a3f5f"
            },
            "marker": {
             "line": {
              "color": "#E5ECF6",
              "width": 0.5
             },
             "pattern": {
              "fillmode": "overlay",
              "size": 10,
              "solidity": 0.2
             }
            },
            "type": "bar"
           }
          ],
          "barpolar": [
           {
            "marker": {
             "line": {
              "color": "#E5ECF6",
              "width": 0.5
             },
             "pattern": {
              "fillmode": "overlay",
              "size": 10,
              "solidity": 0.2
             }
            },
            "type": "barpolar"
           }
          ],
          "carpet": [
           {
            "aaxis": {
             "endlinecolor": "#2a3f5f",
             "gridcolor": "white",
             "linecolor": "white",
             "minorgridcolor": "white",
             "startlinecolor": "#2a3f5f"
            },
            "baxis": {
             "endlinecolor": "#2a3f5f",
             "gridcolor": "white",
             "linecolor": "white",
             "minorgridcolor": "white",
             "startlinecolor": "#2a3f5f"
            },
            "type": "carpet"
           }
          ],
          "choropleth": [
           {
            "colorbar": {
             "outlinewidth": 0,
             "ticks": ""
            },
            "type": "choropleth"
           }
          ],
          "contour": [
           {
            "colorbar": {
             "outlinewidth": 0,
             "ticks": ""
            },
            "colorscale": [
             [
              0,
              "#0d0887"
             ],
             [
              0.1111111111111111,
              "#46039f"
             ],
             [
              0.2222222222222222,
              "#7201a8"
             ],
             [
              0.3333333333333333,
              "#9c179e"
             ],
             [
              0.4444444444444444,
              "#bd3786"
             ],
             [
              0.5555555555555556,
              "#d8576b"
             ],
             [
              0.6666666666666666,
              "#ed7953"
             ],
             [
              0.7777777777777778,
              "#fb9f3a"
             ],
             [
              0.8888888888888888,
              "#fdca26"
             ],
             [
              1,
              "#f0f921"
             ]
            ],
            "type": "contour"
           }
          ],
          "contourcarpet": [
           {
            "colorbar": {
             "outlinewidth": 0,
             "ticks": ""
            },
            "type": "contourcarpet"
           }
          ],
          "heatmap": [
           {
            "colorbar": {
             "outlinewidth": 0,
             "ticks": ""
            },
            "colorscale": [
             [
              0,
              "#0d0887"
             ],
             [
              0.1111111111111111,
              "#46039f"
             ],
             [
              0.2222222222222222,
              "#7201a8"
             ],
             [
              0.3333333333333333,
              "#9c179e"
             ],
             [
              0.4444444444444444,
              "#bd3786"
             ],
             [
              0.5555555555555556,
              "#d8576b"
             ],
             [
              0.6666666666666666,
              "#ed7953"
             ],
             [
              0.7777777777777778,
              "#fb9f3a"
             ],
             [
              0.8888888888888888,
              "#fdca26"
             ],
             [
              1,
              "#f0f921"
             ]
            ],
            "type": "heatmap"
           }
          ],
          "heatmapgl": [
           {
            "colorbar": {
             "outlinewidth": 0,
             "ticks": ""
            },
            "colorscale": [
             [
              0,
              "#0d0887"
             ],
             [
              0.1111111111111111,
              "#46039f"
             ],
             [
              0.2222222222222222,
              "#7201a8"
             ],
             [
              0.3333333333333333,
              "#9c179e"
             ],
             [
              0.4444444444444444,
              "#bd3786"
             ],
             [
              0.5555555555555556,
              "#d8576b"
             ],
             [
              0.6666666666666666,
              "#ed7953"
             ],
             [
              0.7777777777777778,
              "#fb9f3a"
             ],
             [
              0.8888888888888888,
              "#fdca26"
             ],
             [
              1,
              "#f0f921"
             ]
            ],
            "type": "heatmapgl"
           }
          ],
          "histogram": [
           {
            "marker": {
             "pattern": {
              "fillmode": "overlay",
              "size": 10,
              "solidity": 0.2
             }
            },
            "type": "histogram"
           }
          ],
          "histogram2d": [
           {
            "colorbar": {
             "outlinewidth": 0,
             "ticks": ""
            },
            "colorscale": [
             [
              0,
              "#0d0887"
             ],
             [
              0.1111111111111111,
              "#46039f"
             ],
             [
              0.2222222222222222,
              "#7201a8"
             ],
             [
              0.3333333333333333,
              "#9c179e"
             ],
             [
              0.4444444444444444,
              "#bd3786"
             ],
             [
              0.5555555555555556,
              "#d8576b"
             ],
             [
              0.6666666666666666,
              "#ed7953"
             ],
             [
              0.7777777777777778,
              "#fb9f3a"
             ],
             [
              0.8888888888888888,
              "#fdca26"
             ],
             [
              1,
              "#f0f921"
             ]
            ],
            "type": "histogram2d"
           }
          ],
          "histogram2dcontour": [
           {
            "colorbar": {
             "outlinewidth": 0,
             "ticks": ""
            },
            "colorscale": [
             [
              0,
              "#0d0887"
             ],
             [
              0.1111111111111111,
              "#46039f"
             ],
             [
              0.2222222222222222,
              "#7201a8"
             ],
             [
              0.3333333333333333,
              "#9c179e"
             ],
             [
              0.4444444444444444,
              "#bd3786"
             ],
             [
              0.5555555555555556,
              "#d8576b"
             ],
             [
              0.6666666666666666,
              "#ed7953"
             ],
             [
              0.7777777777777778,
              "#fb9f3a"
             ],
             [
              0.8888888888888888,
              "#fdca26"
             ],
             [
              1,
              "#f0f921"
             ]
            ],
            "type": "histogram2dcontour"
           }
          ],
          "mesh3d": [
           {
            "colorbar": {
             "outlinewidth": 0,
             "ticks": ""
            },
            "type": "mesh3d"
           }
          ],
          "parcoords": [
           {
            "line": {
             "colorbar": {
              "outlinewidth": 0,
              "ticks": ""
             }
            },
            "type": "parcoords"
           }
          ],
          "pie": [
           {
            "automargin": true,
            "type": "pie"
           }
          ],
          "scatter": [
           {
            "fillpattern": {
             "fillmode": "overlay",
             "size": 10,
             "solidity": 0.2
            },
            "type": "scatter"
           }
          ],
          "scatter3d": [
           {
            "line": {
             "colorbar": {
              "outlinewidth": 0,
              "ticks": ""
             }
            },
            "marker": {
             "colorbar": {
              "outlinewidth": 0,
              "ticks": ""
             }
            },
            "type": "scatter3d"
           }
          ],
          "scattercarpet": [
           {
            "marker": {
             "colorbar": {
              "outlinewidth": 0,
              "ticks": ""
             }
            },
            "type": "scattercarpet"
           }
          ],
          "scattergeo": [
           {
            "marker": {
             "colorbar": {
              "outlinewidth": 0,
              "ticks": ""
             }
            },
            "type": "scattergeo"
           }
          ],
          "scattergl": [
           {
            "marker": {
             "colorbar": {
              "outlinewidth": 0,
              "ticks": ""
             }
            },
            "type": "scattergl"
           }
          ],
          "scattermapbox": [
           {
            "marker": {
             "colorbar": {
              "outlinewidth": 0,
              "ticks": ""
             }
            },
            "type": "scattermapbox"
           }
          ],
          "scatterpolar": [
           {
            "marker": {
             "colorbar": {
              "outlinewidth": 0,
              "ticks": ""
             }
            },
            "type": "scatterpolar"
           }
          ],
          "scatterpolargl": [
           {
            "marker": {
             "colorbar": {
              "outlinewidth": 0,
              "ticks": ""
             }
            },
            "type": "scatterpolargl"
           }
          ],
          "scatterternary": [
           {
            "marker": {
             "colorbar": {
              "outlinewidth": 0,
              "ticks": ""
             }
            },
            "type": "scatterternary"
           }
          ],
          "surface": [
           {
            "colorbar": {
             "outlinewidth": 0,
             "ticks": ""
            },
            "colorscale": [
             [
              0,
              "#0d0887"
             ],
             [
              0.1111111111111111,
              "#46039f"
             ],
             [
              0.2222222222222222,
              "#7201a8"
             ],
             [
              0.3333333333333333,
              "#9c179e"
             ],
             [
              0.4444444444444444,
              "#bd3786"
             ],
             [
              0.5555555555555556,
              "#d8576b"
             ],
             [
              0.6666666666666666,
              "#ed7953"
             ],
             [
              0.7777777777777778,
              "#fb9f3a"
             ],
             [
              0.8888888888888888,
              "#fdca26"
             ],
             [
              1,
              "#f0f921"
             ]
            ],
            "type": "surface"
           }
          ],
          "table": [
           {
            "cells": {
             "fill": {
              "color": "#EBF0F8"
             },
             "line": {
              "color": "white"
             }
            },
            "header": {
             "fill": {
              "color": "#C8D4E3"
             },
             "line": {
              "color": "white"
             }
            },
            "type": "table"
           }
          ]
         },
         "layout": {
          "annotationdefaults": {
           "arrowcolor": "#2a3f5f",
           "arrowhead": 0,
           "arrowwidth": 1
          },
          "autotypenumbers": "strict",
          "coloraxis": {
           "colorbar": {
            "outlinewidth": 0,
            "ticks": ""
           }
          },
          "colorscale": {
           "diverging": [
            [
             0,
             "#8e0152"
            ],
            [
             0.1,
             "#c51b7d"
            ],
            [
             0.2,
             "#de77ae"
            ],
            [
             0.3,
             "#f1b6da"
            ],
            [
             0.4,
             "#fde0ef"
            ],
            [
             0.5,
             "#f7f7f7"
            ],
            [
             0.6,
             "#e6f5d0"
            ],
            [
             0.7,
             "#b8e186"
            ],
            [
             0.8,
             "#7fbc41"
            ],
            [
             0.9,
             "#4d9221"
            ],
            [
             1,
             "#276419"
            ]
           ],
           "sequential": [
            [
             0,
             "#0d0887"
            ],
            [
             0.1111111111111111,
             "#46039f"
            ],
            [
             0.2222222222222222,
             "#7201a8"
            ],
            [
             0.3333333333333333,
             "#9c179e"
            ],
            [
             0.4444444444444444,
             "#bd3786"
            ],
            [
             0.5555555555555556,
             "#d8576b"
            ],
            [
             0.6666666666666666,
             "#ed7953"
            ],
            [
             0.7777777777777778,
             "#fb9f3a"
            ],
            [
             0.8888888888888888,
             "#fdca26"
            ],
            [
             1,
             "#f0f921"
            ]
           ],
           "sequentialminus": [
            [
             0,
             "#0d0887"
            ],
            [
             0.1111111111111111,
             "#46039f"
            ],
            [
             0.2222222222222222,
             "#7201a8"
            ],
            [
             0.3333333333333333,
             "#9c179e"
            ],
            [
             0.4444444444444444,
             "#bd3786"
            ],
            [
             0.5555555555555556,
             "#d8576b"
            ],
            [
             0.6666666666666666,
             "#ed7953"
            ],
            [
             0.7777777777777778,
             "#fb9f3a"
            ],
            [
             0.8888888888888888,
             "#fdca26"
            ],
            [
             1,
             "#f0f921"
            ]
           ]
          },
          "colorway": [
           "#636efa",
           "#EF553B",
           "#00cc96",
           "#ab63fa",
           "#FFA15A",
           "#19d3f3",
           "#FF6692",
           "#B6E880",
           "#FF97FF",
           "#FECB52"
          ],
          "font": {
           "color": "#2a3f5f"
          },
          "geo": {
           "bgcolor": "white",
           "lakecolor": "white",
           "landcolor": "#E5ECF6",
           "showlakes": true,
           "showland": true,
           "subunitcolor": "white"
          },
          "hoverlabel": {
           "align": "left"
          },
          "hovermode": "closest",
          "mapbox": {
           "style": "light"
          },
          "paper_bgcolor": "white",
          "plot_bgcolor": "#E5ECF6",
          "polar": {
           "angularaxis": {
            "gridcolor": "white",
            "linecolor": "white",
            "ticks": ""
           },
           "bgcolor": "#E5ECF6",
           "radialaxis": {
            "gridcolor": "white",
            "linecolor": "white",
            "ticks": ""
           }
          },
          "scene": {
           "xaxis": {
            "backgroundcolor": "#E5ECF6",
            "gridcolor": "white",
            "gridwidth": 2,
            "linecolor": "white",
            "showbackground": true,
            "ticks": "",
            "zerolinecolor": "white"
           },
           "yaxis": {
            "backgroundcolor": "#E5ECF6",
            "gridcolor": "white",
            "gridwidth": 2,
            "linecolor": "white",
            "showbackground": true,
            "ticks": "",
            "zerolinecolor": "white"
           },
           "zaxis": {
            "backgroundcolor": "#E5ECF6",
            "gridcolor": "white",
            "gridwidth": 2,
            "linecolor": "white",
            "showbackground": true,
            "ticks": "",
            "zerolinecolor": "white"
           }
          },
          "shapedefaults": {
           "line": {
            "color": "#2a3f5f"
           }
          },
          "ternary": {
           "aaxis": {
            "gridcolor": "white",
            "linecolor": "white",
            "ticks": ""
           },
           "baxis": {
            "gridcolor": "white",
            "linecolor": "white",
            "ticks": ""
           },
           "bgcolor": "#E5ECF6",
           "caxis": {
            "gridcolor": "white",
            "linecolor": "white",
            "ticks": ""
           }
          },
          "title": {
           "x": 0.05
          },
          "xaxis": {
           "automargin": true,
           "gridcolor": "white",
           "linecolor": "white",
           "ticks": "",
           "title": {
            "standoff": 15
           },
           "zerolinecolor": "white",
           "zerolinewidth": 2
          },
          "yaxis": {
           "automargin": true,
           "gridcolor": "white",
           "linecolor": "white",
           "ticks": "",
           "title": {
            "standoff": 15
           },
           "zerolinecolor": "white",
           "zerolinewidth": 2
          }
         }
        },
        "title": {
         "text": "Trinkgeldverhalten bedingt durch Department und Produkt"
        },
        "xaxis": {
         "anchor": "y",
         "domain": [
          0,
          1
         ],
         "title": {
          "text": "Bedingung"
         }
        },
        "yaxis": {
         "anchor": "x",
         "domain": [
          0,
          1
         ],
         "title": {
          "text": "Wahrscheinlichkeit"
         }
        }
       }
      }
     },
     "metadata": {},
     "output_type": "display_data"
    }
   ],
   "source": [
    "bedingt_fig = px.bar(\n",
    "    x=[\"P(Trinkgeld | Department)\", \"P(Trinkgeld | Department, Produkt)\"],\n",
    "    y=[trinkgeld_bedingt_produce, trinkgeld_bedingt_banana_produce],\n",
    "    text=[round(trinkgeld_bedingt_produce, 2), round(trinkgeld_bedingt_banana_produce, 2)],\n",
    "    labels={\"x\": \"Bedingung\", \"y\": \"Wahrscheinlichkeit\"},\n",
    "    title=\"Trinkgeldverhalten bedingt durch Department und Produkt\",\n",
    "    # Farben für die Balken\n",
    "    color_discrete_sequence=[\"#FFA07A\", \"#20B2AA\"]\n",
    ")\n",
    "\n",
    "bedingt_fig.update_traces(\n",
    "    marker_line_width=1.5,                           \n",
    "    marker_line_color=\"black\"\n",
    ")\n",
    "\n",
    "bedingt_fig.show()"
   ]
  },
  {
   "cell_type": "code",
   "execution_count": 80,
   "id": "4509f412-86ea-47d4-a0b5-a7f9bfcdb5bc",
   "metadata": {},
   "outputs": [
    {
     "name": "stdout",
     "output_type": "stream",
     "text": [
      "P(Trinkgeld | Department, Produkt) = 0.57\n",
      "P(Trinkgeld | Department) = 0.47\n",
      "Unabhängig: Produkt beeinflusst die Wahrscheinlichkeit von Trinkgeld nicht über das Department hinaus\n"
     ]
    }
   ],
   "source": [
    "print(f\"P(Trinkgeld | Department, Produkt) = {trinkgeld_bedingt_banana_produce}\")\n",
    "print(f\"P(Trinkgeld | Department) = {trinkgeld_bedingt_produce}\")\n",
    "\n",
    "if trinkgeld_bedingt_banana_produce == trinkgeld_bedingt_produce:\n",
    "    print('Unabhängig: Produkt beeinflusst die Wahrscheinlichkeit von Trinkgeld nicht über das Department hinaus')\n",
    "else:\n",
    "    print('Unabhängig: Produkt beeinflusst die Wahrscheinlichkeit von Trinkgeld nicht über das Department hinaus')\n"
   ]
  },
  {
   "cell_type": "markdown",
   "id": "355f908d",
   "metadata": {},
   "source": [
    "##### Interpretation\n",
    "Die bedingte Wahrscheinlichkeit des Trinkgelds, wenn Department und Produkt bekannt sind, ist um 10% höher als wenn nur Department bekannt ist. Dies bedeutet, dass Produkt einen Einfluss auch über das Department hat. "
   ]
  },
  {
   "cell_type": "markdown",
   "id": "09314da9-d712-40ca-967b-78bba55ec164",
   "metadata": {},
   "source": [
    "### **Abhängigkeit des Trinkgeldverhaltens zur Tageszeit Wochentag und Zeitabstand zu vorheriger Bestellung**"
   ]
  },
  {
   "cell_type": "markdown",
   "id": "f911c6cf-3734-474b-bcff-adf764de8041",
   "metadata": {},
   "source": [
    "#### **Zusammenhang zur Tageszeit**"
   ]
  },
  {
   "cell_type": "markdown",
   "id": "eceead43",
   "metadata": {},
   "source": [
    "Frage: Gibt es ein Zusammenhang zwischen dem Trinkgeldverhalten und der Tageszeit"
   ]
  },
  {
   "cell_type": "code",
   "execution_count": 81,
   "id": "cc0f408d-59d1-4b01-bc03-b19f09c60994",
   "metadata": {},
   "outputs": [],
   "source": [
    "# Mergen von Orders und Tips nach order_id\n",
    "df_orders_tips = pd.merge(df_oders_s, df_tips, on=\"order_id\", how=\"inner\")\n",
    "# unnamed columns entfernen\n",
    "df_orders_tips = df_orders_tips.loc[:, ~df_orders_tips.columns.str.contains('^Unnamed')]"
   ]
  },
  {
   "cell_type": "code",
   "execution_count": 82,
   "id": "2f839ba7-b655-41ad-b046-b0c77fba7df2",
   "metadata": {},
   "outputs": [],
   "source": [
    "# Anzahl der Bestellungen pro Stunde\n",
    "hourly_counts = df_orders_tips.groupby([\"order_hour_of_day\", \"tip\"]).size().reset_index(name=\"count\")\n",
    "total_per_hour = hourly_counts.groupby(\"order_hour_of_day\")[\"count\"].transform(\"sum\")\n",
    "hourly_counts[\"relative\"] = hourly_counts[\"count\"] / total_per_hour"
   ]
  },
  {
   "cell_type": "code",
   "execution_count": 108,
   "id": "b23841f6-4eee-4afd-a9e1-65b97fa0c59b",
   "metadata": {},
   "outputs": [
    {
     "data": {
      "application/vnd.plotly.v1+json": {
       "config": {
        "plotlyServerURL": "https://plot.ly"
       },
       "data": [
        {
         "hovertemplate": "<b>Trinkgeld gegeben:</b> %{legendgroup}<br><b>Bestellstunde:</b> %{x}<br><b>Relativer Anteil:</b> %{y:.2%}",
         "legendgroup": "True",
         "line": {
          "color": "green",
          "dash": "solid",
          "width": 2
         },
         "marker": {
          "size": 8,
          "symbol": "circle"
         },
         "mode": "lines+markers",
         "name": "True",
         "orientation": "v",
         "showlegend": true,
         "type": "scatter",
         "x": [
          0,
          1,
          2,
          3,
          4,
          5,
          6,
          7,
          8,
          9,
          10,
          11,
          12,
          13,
          14,
          15,
          16,
          17,
          18,
          19,
          20,
          21,
          22,
          23
         ],
         "xaxis": "x",
         "y": [
          0.5348360655737705,
          0.5222991466752536,
          0.5117943281208588,
          0.5057929036929761,
          0.5116448326055313,
          0.42086481947942905,
          0.4306851506264996,
          0.44077446224053524,
          0.44579662450150265,
          0.4471660948023891,
          0.43465746352571766,
          0.41983228211009177,
          0.41328623177558904,
          0.41100494233937396,
          0.4136843015214384,
          0.40858698717809644,
          0.4063731882428766,
          0.3993160819979789,
          0.39697504069451983,
          0.535074154258531,
          0.5459915611814345,
          0.5675056015840758,
          0.5608213280344427,
          0.5442308672819048
         ],
         "yaxis": "y"
        },
        {
         "hovertemplate": "<b>Trinkgeld gegeben:</b> %{legendgroup}<br><b>Bestellstunde:</b> %{x}<br><b>Relativer Anteil:</b> %{y:.2%}",
         "legendgroup": "False",
         "line": {
          "color": "red",
          "dash": "solid",
          "width": 2
         },
         "marker": {
          "size": 8,
          "symbol": "circle"
         },
         "mode": "lines+markers",
         "name": "False",
         "orientation": "v",
         "showlegend": true,
         "type": "scatter",
         "x": [
          0,
          1,
          2,
          3,
          4,
          5,
          6,
          7,
          8,
          9,
          10,
          11,
          12,
          13,
          14,
          15,
          16,
          17,
          18,
          19,
          20,
          21,
          22,
          23
         ],
         "xaxis": "x",
         "y": [
          0.4651639344262295,
          0.47770085332474643,
          0.48820567187914127,
          0.4942070963070239,
          0.4883551673944687,
          0.579135180520571,
          0.5693148493735004,
          0.5592255377594648,
          0.5542033754984974,
          0.5528339051976109,
          0.5653425364742823,
          0.5801677178899083,
          0.586713768224411,
          0.588995057660626,
          0.5863156984785616,
          0.5914130128219035,
          0.5936268117571234,
          0.600683918002021,
          0.6030249593054802,
          0.46492584574146895,
          0.4540084388185654,
          0.43249439841592413,
          0.4391786719655572,
          0.45576913271809516
         ],
         "yaxis": "y"
        }
       ],
       "layout": {
        "legend": {
         "title": {
          "text": "Trinkgeld gegeben"
         },
         "tracegroupgap": 0
        },
        "template": {
         "data": {
          "bar": [
           {
            "error_x": {
             "color": "#2a3f5f"
            },
            "error_y": {
             "color": "#2a3f5f"
            },
            "marker": {
             "line": {
              "color": "#E5ECF6",
              "width": 0.5
             },
             "pattern": {
              "fillmode": "overlay",
              "size": 10,
              "solidity": 0.2
             }
            },
            "type": "bar"
           }
          ],
          "barpolar": [
           {
            "marker": {
             "line": {
              "color": "#E5ECF6",
              "width": 0.5
             },
             "pattern": {
              "fillmode": "overlay",
              "size": 10,
              "solidity": 0.2
             }
            },
            "type": "barpolar"
           }
          ],
          "carpet": [
           {
            "aaxis": {
             "endlinecolor": "#2a3f5f",
             "gridcolor": "white",
             "linecolor": "white",
             "minorgridcolor": "white",
             "startlinecolor": "#2a3f5f"
            },
            "baxis": {
             "endlinecolor": "#2a3f5f",
             "gridcolor": "white",
             "linecolor": "white",
             "minorgridcolor": "white",
             "startlinecolor": "#2a3f5f"
            },
            "type": "carpet"
           }
          ],
          "choropleth": [
           {
            "colorbar": {
             "outlinewidth": 0,
             "ticks": ""
            },
            "type": "choropleth"
           }
          ],
          "contour": [
           {
            "colorbar": {
             "outlinewidth": 0,
             "ticks": ""
            },
            "colorscale": [
             [
              0,
              "#0d0887"
             ],
             [
              0.1111111111111111,
              "#46039f"
             ],
             [
              0.2222222222222222,
              "#7201a8"
             ],
             [
              0.3333333333333333,
              "#9c179e"
             ],
             [
              0.4444444444444444,
              "#bd3786"
             ],
             [
              0.5555555555555556,
              "#d8576b"
             ],
             [
              0.6666666666666666,
              "#ed7953"
             ],
             [
              0.7777777777777778,
              "#fb9f3a"
             ],
             [
              0.8888888888888888,
              "#fdca26"
             ],
             [
              1,
              "#f0f921"
             ]
            ],
            "type": "contour"
           }
          ],
          "contourcarpet": [
           {
            "colorbar": {
             "outlinewidth": 0,
             "ticks": ""
            },
            "type": "contourcarpet"
           }
          ],
          "heatmap": [
           {
            "colorbar": {
             "outlinewidth": 0,
             "ticks": ""
            },
            "colorscale": [
             [
              0,
              "#0d0887"
             ],
             [
              0.1111111111111111,
              "#46039f"
             ],
             [
              0.2222222222222222,
              "#7201a8"
             ],
             [
              0.3333333333333333,
              "#9c179e"
             ],
             [
              0.4444444444444444,
              "#bd3786"
             ],
             [
              0.5555555555555556,
              "#d8576b"
             ],
             [
              0.6666666666666666,
              "#ed7953"
             ],
             [
              0.7777777777777778,
              "#fb9f3a"
             ],
             [
              0.8888888888888888,
              "#fdca26"
             ],
             [
              1,
              "#f0f921"
             ]
            ],
            "type": "heatmap"
           }
          ],
          "heatmapgl": [
           {
            "colorbar": {
             "outlinewidth": 0,
             "ticks": ""
            },
            "colorscale": [
             [
              0,
              "#0d0887"
             ],
             [
              0.1111111111111111,
              "#46039f"
             ],
             [
              0.2222222222222222,
              "#7201a8"
             ],
             [
              0.3333333333333333,
              "#9c179e"
             ],
             [
              0.4444444444444444,
              "#bd3786"
             ],
             [
              0.5555555555555556,
              "#d8576b"
             ],
             [
              0.6666666666666666,
              "#ed7953"
             ],
             [
              0.7777777777777778,
              "#fb9f3a"
             ],
             [
              0.8888888888888888,
              "#fdca26"
             ],
             [
              1,
              "#f0f921"
             ]
            ],
            "type": "heatmapgl"
           }
          ],
          "histogram": [
           {
            "marker": {
             "pattern": {
              "fillmode": "overlay",
              "size": 10,
              "solidity": 0.2
             }
            },
            "type": "histogram"
           }
          ],
          "histogram2d": [
           {
            "colorbar": {
             "outlinewidth": 0,
             "ticks": ""
            },
            "colorscale": [
             [
              0,
              "#0d0887"
             ],
             [
              0.1111111111111111,
              "#46039f"
             ],
             [
              0.2222222222222222,
              "#7201a8"
             ],
             [
              0.3333333333333333,
              "#9c179e"
             ],
             [
              0.4444444444444444,
              "#bd3786"
             ],
             [
              0.5555555555555556,
              "#d8576b"
             ],
             [
              0.6666666666666666,
              "#ed7953"
             ],
             [
              0.7777777777777778,
              "#fb9f3a"
             ],
             [
              0.8888888888888888,
              "#fdca26"
             ],
             [
              1,
              "#f0f921"
             ]
            ],
            "type": "histogram2d"
           }
          ],
          "histogram2dcontour": [
           {
            "colorbar": {
             "outlinewidth": 0,
             "ticks": ""
            },
            "colorscale": [
             [
              0,
              "#0d0887"
             ],
             [
              0.1111111111111111,
              "#46039f"
             ],
             [
              0.2222222222222222,
              "#7201a8"
             ],
             [
              0.3333333333333333,
              "#9c179e"
             ],
             [
              0.4444444444444444,
              "#bd3786"
             ],
             [
              0.5555555555555556,
              "#d8576b"
             ],
             [
              0.6666666666666666,
              "#ed7953"
             ],
             [
              0.7777777777777778,
              "#fb9f3a"
             ],
             [
              0.8888888888888888,
              "#fdca26"
             ],
             [
              1,
              "#f0f921"
             ]
            ],
            "type": "histogram2dcontour"
           }
          ],
          "mesh3d": [
           {
            "colorbar": {
             "outlinewidth": 0,
             "ticks": ""
            },
            "type": "mesh3d"
           }
          ],
          "parcoords": [
           {
            "line": {
             "colorbar": {
              "outlinewidth": 0,
              "ticks": ""
             }
            },
            "type": "parcoords"
           }
          ],
          "pie": [
           {
            "automargin": true,
            "type": "pie"
           }
          ],
          "scatter": [
           {
            "fillpattern": {
             "fillmode": "overlay",
             "size": 10,
             "solidity": 0.2
            },
            "type": "scatter"
           }
          ],
          "scatter3d": [
           {
            "line": {
             "colorbar": {
              "outlinewidth": 0,
              "ticks": ""
             }
            },
            "marker": {
             "colorbar": {
              "outlinewidth": 0,
              "ticks": ""
             }
            },
            "type": "scatter3d"
           }
          ],
          "scattercarpet": [
           {
            "marker": {
             "colorbar": {
              "outlinewidth": 0,
              "ticks": ""
             }
            },
            "type": "scattercarpet"
           }
          ],
          "scattergeo": [
           {
            "marker": {
             "colorbar": {
              "outlinewidth": 0,
              "ticks": ""
             }
            },
            "type": "scattergeo"
           }
          ],
          "scattergl": [
           {
            "marker": {
             "colorbar": {
              "outlinewidth": 0,
              "ticks": ""
             }
            },
            "type": "scattergl"
           }
          ],
          "scattermapbox": [
           {
            "marker": {
             "colorbar": {
              "outlinewidth": 0,
              "ticks": ""
             }
            },
            "type": "scattermapbox"
           }
          ],
          "scatterpolar": [
           {
            "marker": {
             "colorbar": {
              "outlinewidth": 0,
              "ticks": ""
             }
            },
            "type": "scatterpolar"
           }
          ],
          "scatterpolargl": [
           {
            "marker": {
             "colorbar": {
              "outlinewidth": 0,
              "ticks": ""
             }
            },
            "type": "scatterpolargl"
           }
          ],
          "scatterternary": [
           {
            "marker": {
             "colorbar": {
              "outlinewidth": 0,
              "ticks": ""
             }
            },
            "type": "scatterternary"
           }
          ],
          "surface": [
           {
            "colorbar": {
             "outlinewidth": 0,
             "ticks": ""
            },
            "colorscale": [
             [
              0,
              "#0d0887"
             ],
             [
              0.1111111111111111,
              "#46039f"
             ],
             [
              0.2222222222222222,
              "#7201a8"
             ],
             [
              0.3333333333333333,
              "#9c179e"
             ],
             [
              0.4444444444444444,
              "#bd3786"
             ],
             [
              0.5555555555555556,
              "#d8576b"
             ],
             [
              0.6666666666666666,
              "#ed7953"
             ],
             [
              0.7777777777777778,
              "#fb9f3a"
             ],
             [
              0.8888888888888888,
              "#fdca26"
             ],
             [
              1,
              "#f0f921"
             ]
            ],
            "type": "surface"
           }
          ],
          "table": [
           {
            "cells": {
             "fill": {
              "color": "#EBF0F8"
             },
             "line": {
              "color": "white"
             }
            },
            "header": {
             "fill": {
              "color": "#C8D4E3"
             },
             "line": {
              "color": "white"
             }
            },
            "type": "table"
           }
          ]
         },
         "layout": {
          "annotationdefaults": {
           "arrowcolor": "#2a3f5f",
           "arrowhead": 0,
           "arrowwidth": 1
          },
          "autotypenumbers": "strict",
          "coloraxis": {
           "colorbar": {
            "outlinewidth": 0,
            "ticks": ""
           }
          },
          "colorscale": {
           "diverging": [
            [
             0,
             "#8e0152"
            ],
            [
             0.1,
             "#c51b7d"
            ],
            [
             0.2,
             "#de77ae"
            ],
            [
             0.3,
             "#f1b6da"
            ],
            [
             0.4,
             "#fde0ef"
            ],
            [
             0.5,
             "#f7f7f7"
            ],
            [
             0.6,
             "#e6f5d0"
            ],
            [
             0.7,
             "#b8e186"
            ],
            [
             0.8,
             "#7fbc41"
            ],
            [
             0.9,
             "#4d9221"
            ],
            [
             1,
             "#276419"
            ]
           ],
           "sequential": [
            [
             0,
             "#0d0887"
            ],
            [
             0.1111111111111111,
             "#46039f"
            ],
            [
             0.2222222222222222,
             "#7201a8"
            ],
            [
             0.3333333333333333,
             "#9c179e"
            ],
            [
             0.4444444444444444,
             "#bd3786"
            ],
            [
             0.5555555555555556,
             "#d8576b"
            ],
            [
             0.6666666666666666,
             "#ed7953"
            ],
            [
             0.7777777777777778,
             "#fb9f3a"
            ],
            [
             0.8888888888888888,
             "#fdca26"
            ],
            [
             1,
             "#f0f921"
            ]
           ],
           "sequentialminus": [
            [
             0,
             "#0d0887"
            ],
            [
             0.1111111111111111,
             "#46039f"
            ],
            [
             0.2222222222222222,
             "#7201a8"
            ],
            [
             0.3333333333333333,
             "#9c179e"
            ],
            [
             0.4444444444444444,
             "#bd3786"
            ],
            [
             0.5555555555555556,
             "#d8576b"
            ],
            [
             0.6666666666666666,
             "#ed7953"
            ],
            [
             0.7777777777777778,
             "#fb9f3a"
            ],
            [
             0.8888888888888888,
             "#fdca26"
            ],
            [
             1,
             "#f0f921"
            ]
           ]
          },
          "colorway": [
           "#636efa",
           "#EF553B",
           "#00cc96",
           "#ab63fa",
           "#FFA15A",
           "#19d3f3",
           "#FF6692",
           "#B6E880",
           "#FF97FF",
           "#FECB52"
          ],
          "font": {
           "color": "#2a3f5f"
          },
          "geo": {
           "bgcolor": "white",
           "lakecolor": "white",
           "landcolor": "#E5ECF6",
           "showlakes": true,
           "showland": true,
           "subunitcolor": "white"
          },
          "hoverlabel": {
           "align": "left"
          },
          "hovermode": "closest",
          "mapbox": {
           "style": "light"
          },
          "paper_bgcolor": "white",
          "plot_bgcolor": "#E5ECF6",
          "polar": {
           "angularaxis": {
            "gridcolor": "white",
            "linecolor": "white",
            "ticks": ""
           },
           "bgcolor": "#E5ECF6",
           "radialaxis": {
            "gridcolor": "white",
            "linecolor": "white",
            "ticks": ""
           }
          },
          "scene": {
           "xaxis": {
            "backgroundcolor": "#E5ECF6",
            "gridcolor": "white",
            "gridwidth": 2,
            "linecolor": "white",
            "showbackground": true,
            "ticks": "",
            "zerolinecolor": "white"
           },
           "yaxis": {
            "backgroundcolor": "#E5ECF6",
            "gridcolor": "white",
            "gridwidth": 2,
            "linecolor": "white",
            "showbackground": true,
            "ticks": "",
            "zerolinecolor": "white"
           },
           "zaxis": {
            "backgroundcolor": "#E5ECF6",
            "gridcolor": "white",
            "gridwidth": 2,
            "linecolor": "white",
            "showbackground": true,
            "ticks": "",
            "zerolinecolor": "white"
           }
          },
          "shapedefaults": {
           "line": {
            "color": "#2a3f5f"
           }
          },
          "ternary": {
           "aaxis": {
            "gridcolor": "white",
            "linecolor": "white",
            "ticks": ""
           },
           "baxis": {
            "gridcolor": "white",
            "linecolor": "white",
            "ticks": ""
           },
           "bgcolor": "#E5ECF6",
           "caxis": {
            "gridcolor": "white",
            "linecolor": "white",
            "ticks": ""
           }
          },
          "title": {
           "x": 0.05
          },
          "xaxis": {
           "automargin": true,
           "gridcolor": "white",
           "linecolor": "white",
           "ticks": "",
           "title": {
            "standoff": 15
           },
           "zerolinecolor": "white",
           "zerolinewidth": 2
          },
          "yaxis": {
           "automargin": true,
           "gridcolor": "white",
           "linecolor": "white",
           "ticks": "",
           "title": {
            "standoff": 15
           },
           "zerolinecolor": "white",
           "zerolinewidth": 2
          }
         }
        },
        "title": {
         "font": {
          "size": 18
         },
         "text": "Relativer Anteil von Trinkgeld (True/False) pro Bestellstunde",
         "x": 0.5
        },
        "xaxis": {
         "anchor": "y",
         "domain": [
          0,
          1
         ],
         "title": {
          "text": "Bestellstunde"
         }
        },
        "yaxis": {
         "anchor": "x",
         "domain": [
          0,
          1
         ],
         "tickformat": ".0%",
         "title": {
          "text": "Relativer Anteil (%)"
         }
        }
       }
      }
     },
     "metadata": {},
     "output_type": "display_data"
    }
   ],
   "source": [
    "# Plotly Liniendiagramm\n",
    "fig_order_hour_of_day_line = px.line(\n",
    "    hourly_counts,\n",
    "    x=\"order_hour_of_day\",\n",
    "    y=\"relative\",\n",
    "    color=\"tip\",\n",
    "    labels={\n",
    "        \"order_hour_of_day\": \"Bestellstunde\", \n",
    "        \"relative\": \"Relativer Anteil pro Stunde (%)\", \n",
    "        \"tip\": \"Trinkgeld gegeben\"\n",
    "    },\n",
    "    title=\"Relativer Anteil von Trinkgeld (True/False) pro Bestellstunde\",\n",
    "    color_discrete_map={True: \"green\", False: \"red\"},\n",
    "    category_orders={\"tip\": [True, False]}  # Reihenfolge der Farben\n",
    ")\n",
    "\n",
    "# Achsentitel und Layout anpassen\n",
    "fig_order_hour_of_day_line.update_layout(\n",
    "    title_font=dict(size=18),  # Schriftgröße des Titels erhöhen\n",
    "    title_x=0.5,               # Titel horizontal zentrieren\n",
    "    yaxis_tickformat=\".0%\",    # Y-Achse als Prozent formatieren\n",
    "    xaxis_title=\"Bestellstunde\",\n",
    "    yaxis_title=\"Relativer Anteil (%)\",\n",
    ")\n",
    "\n",
    "# Stil und Hover-Informationen anpassen\n",
    "fig_order_hour_of_day_line.update_traces(\n",
    "    mode=\"lines+markers\",  # Linie und Punkte darstellen\n",
    "    line=dict(width=2),    # Breite der Linie\n",
    "    marker=dict(size=8),   # Größe der Punkte\n",
    "    hovertemplate=\"<b>Trinkgeld gegeben:</b> %{legendgroup}<br>\" +\n",
    "                  \"<b>Bestellstunde:</b> %{x}<br>\" +\n",
    "                  \"<b>Relativer Anteil:</b> %{y:.2%}\"  # Zeigt den relativen Anteil mit 2 Dezimalstellen\n",
    ")\n",
    "\n",
    "# Diagramm anzeigen\n",
    "fig_order_hour_of_day_line.show()\n"
   ]
  },
  {
   "cell_type": "code",
   "execution_count": 84,
   "id": "8f92b04b-478e-4917-8d36-082ebeb08fd4",
   "metadata": {},
   "outputs": [],
   "source": [
    "# Aufteilung der Bestellzeit in Tagesabschnitte\n",
    "def get_part_of_day(hour):\n",
    "    if hour < 6:\n",
    "        return \"Nacht\"\n",
    "    elif hour < 12:\n",
    "        return \"Morgen\"\n",
    "    elif hour < 18:\n",
    "        return \"Mittag\"\n",
    "    else:\n",
    "        return \"Abend\"\n",
    "\n",
    "hourly_counts[\"order_part_of_day\"] = hourly_counts[\"order_hour_of_day\"].apply(get_part_of_day)\n",
    "hourly_counts[\"relative_per_part_of_day\"] = hourly_counts.groupby([\"tip\", \"order_part_of_day\"])[\"relative\"].transform(\"median\")\n",
    "\n",
    "day_part_counts = hourly_counts.groupby([\"order_part_of_day\", \"tip\"])[\"relative_per_part_of_day\"].mean().reset_index()\n",
    "#hourly_counts.head(10)\n",
    "#day_part_counts.head(10)"
   ]
  },
  {
   "cell_type": "code",
   "execution_count": 104,
   "id": "ec1f5742-2472-4425-a82a-8c6b10429065",
   "metadata": {},
   "outputs": [
    {
     "data": {
      "application/vnd.plotly.v1+json": {
       "config": {
        "plotlyServerURL": "https://plot.ly"
       },
       "data": [
        {
         "alignmentgroup": "True",
         "hovertemplate": "<b>Trinkgeld gegeben:</b> <br><b>Tageszeit der Bestellung:</b> %{x} <br><b>Relativer Anteil:</b> %{y:.2%}",
         "legendgroup": "True",
         "marker": {
          "color": "green",
          "line": {
           "color": "black",
           "width": 1.5
          },
          "pattern": {
           "shape": ""
          }
         },
         "name": "True",
         "offsetgroup": "True",
         "orientation": "v",
         "showlegend": true,
         "textposition": "auto",
         "type": "bar",
         "x": [
          "Abend",
          "Mittag",
          "Morgen",
          "Nacht"
         ],
         "xaxis": "x",
         "y": [
          0.5451112142316696,
          0.4097959647587352,
          0.4377159628831264,
          0.5117195803631951
         ],
         "yaxis": "y"
        },
        {
         "alignmentgroup": "True",
         "hovertemplate": "<b>Trinkgeld gegeben:</b> <br><b>Tageszeit der Bestellung:</b> %{x} <br><b>Relativer Anteil:</b> %{y:.2%}",
         "legendgroup": "False",
         "marker": {
          "color": "red",
          "line": {
           "color": "black",
           "width": 1.5
          },
          "pattern": {
           "shape": ""
          }
         },
         "name": "False",
         "offsetgroup": "False",
         "orientation": "v",
         "showlegend": true,
         "textposition": "auto",
         "type": "bar",
         "x": [
          "Abend",
          "Mittag",
          "Morgen",
          "Nacht"
         ],
         "xaxis": "x",
         "y": [
          0.4548887857683302,
          0.5902040352412647,
          0.5622840371168736,
          0.4882804196368051
         ],
         "yaxis": "y"
        }
       ],
       "layout": {
        "barmode": "relative",
        "legend": {
         "title": {
          "text": "Trinkgeld gegeben"
         },
         "tracegroupgap": 0
        },
        "template": {
         "data": {
          "bar": [
           {
            "error_x": {
             "color": "#2a3f5f"
            },
            "error_y": {
             "color": "#2a3f5f"
            },
            "marker": {
             "line": {
              "color": "#E5ECF6",
              "width": 0.5
             },
             "pattern": {
              "fillmode": "overlay",
              "size": 10,
              "solidity": 0.2
             }
            },
            "type": "bar"
           }
          ],
          "barpolar": [
           {
            "marker": {
             "line": {
              "color": "#E5ECF6",
              "width": 0.5
             },
             "pattern": {
              "fillmode": "overlay",
              "size": 10,
              "solidity": 0.2
             }
            },
            "type": "barpolar"
           }
          ],
          "carpet": [
           {
            "aaxis": {
             "endlinecolor": "#2a3f5f",
             "gridcolor": "white",
             "linecolor": "white",
             "minorgridcolor": "white",
             "startlinecolor": "#2a3f5f"
            },
            "baxis": {
             "endlinecolor": "#2a3f5f",
             "gridcolor": "white",
             "linecolor": "white",
             "minorgridcolor": "white",
             "startlinecolor": "#2a3f5f"
            },
            "type": "carpet"
           }
          ],
          "choropleth": [
           {
            "colorbar": {
             "outlinewidth": 0,
             "ticks": ""
            },
            "type": "choropleth"
           }
          ],
          "contour": [
           {
            "colorbar": {
             "outlinewidth": 0,
             "ticks": ""
            },
            "colorscale": [
             [
              0,
              "#0d0887"
             ],
             [
              0.1111111111111111,
              "#46039f"
             ],
             [
              0.2222222222222222,
              "#7201a8"
             ],
             [
              0.3333333333333333,
              "#9c179e"
             ],
             [
              0.4444444444444444,
              "#bd3786"
             ],
             [
              0.5555555555555556,
              "#d8576b"
             ],
             [
              0.6666666666666666,
              "#ed7953"
             ],
             [
              0.7777777777777778,
              "#fb9f3a"
             ],
             [
              0.8888888888888888,
              "#fdca26"
             ],
             [
              1,
              "#f0f921"
             ]
            ],
            "type": "contour"
           }
          ],
          "contourcarpet": [
           {
            "colorbar": {
             "outlinewidth": 0,
             "ticks": ""
            },
            "type": "contourcarpet"
           }
          ],
          "heatmap": [
           {
            "colorbar": {
             "outlinewidth": 0,
             "ticks": ""
            },
            "colorscale": [
             [
              0,
              "#0d0887"
             ],
             [
              0.1111111111111111,
              "#46039f"
             ],
             [
              0.2222222222222222,
              "#7201a8"
             ],
             [
              0.3333333333333333,
              "#9c179e"
             ],
             [
              0.4444444444444444,
              "#bd3786"
             ],
             [
              0.5555555555555556,
              "#d8576b"
             ],
             [
              0.6666666666666666,
              "#ed7953"
             ],
             [
              0.7777777777777778,
              "#fb9f3a"
             ],
             [
              0.8888888888888888,
              "#fdca26"
             ],
             [
              1,
              "#f0f921"
             ]
            ],
            "type": "heatmap"
           }
          ],
          "heatmapgl": [
           {
            "colorbar": {
             "outlinewidth": 0,
             "ticks": ""
            },
            "colorscale": [
             [
              0,
              "#0d0887"
             ],
             [
              0.1111111111111111,
              "#46039f"
             ],
             [
              0.2222222222222222,
              "#7201a8"
             ],
             [
              0.3333333333333333,
              "#9c179e"
             ],
             [
              0.4444444444444444,
              "#bd3786"
             ],
             [
              0.5555555555555556,
              "#d8576b"
             ],
             [
              0.6666666666666666,
              "#ed7953"
             ],
             [
              0.7777777777777778,
              "#fb9f3a"
             ],
             [
              0.8888888888888888,
              "#fdca26"
             ],
             [
              1,
              "#f0f921"
             ]
            ],
            "type": "heatmapgl"
           }
          ],
          "histogram": [
           {
            "marker": {
             "pattern": {
              "fillmode": "overlay",
              "size": 10,
              "solidity": 0.2
             }
            },
            "type": "histogram"
           }
          ],
          "histogram2d": [
           {
            "colorbar": {
             "outlinewidth": 0,
             "ticks": ""
            },
            "colorscale": [
             [
              0,
              "#0d0887"
             ],
             [
              0.1111111111111111,
              "#46039f"
             ],
             [
              0.2222222222222222,
              "#7201a8"
             ],
             [
              0.3333333333333333,
              "#9c179e"
             ],
             [
              0.4444444444444444,
              "#bd3786"
             ],
             [
              0.5555555555555556,
              "#d8576b"
             ],
             [
              0.6666666666666666,
              "#ed7953"
             ],
             [
              0.7777777777777778,
              "#fb9f3a"
             ],
             [
              0.8888888888888888,
              "#fdca26"
             ],
             [
              1,
              "#f0f921"
             ]
            ],
            "type": "histogram2d"
           }
          ],
          "histogram2dcontour": [
           {
            "colorbar": {
             "outlinewidth": 0,
             "ticks": ""
            },
            "colorscale": [
             [
              0,
              "#0d0887"
             ],
             [
              0.1111111111111111,
              "#46039f"
             ],
             [
              0.2222222222222222,
              "#7201a8"
             ],
             [
              0.3333333333333333,
              "#9c179e"
             ],
             [
              0.4444444444444444,
              "#bd3786"
             ],
             [
              0.5555555555555556,
              "#d8576b"
             ],
             [
              0.6666666666666666,
              "#ed7953"
             ],
             [
              0.7777777777777778,
              "#fb9f3a"
             ],
             [
              0.8888888888888888,
              "#fdca26"
             ],
             [
              1,
              "#f0f921"
             ]
            ],
            "type": "histogram2dcontour"
           }
          ],
          "mesh3d": [
           {
            "colorbar": {
             "outlinewidth": 0,
             "ticks": ""
            },
            "type": "mesh3d"
           }
          ],
          "parcoords": [
           {
            "line": {
             "colorbar": {
              "outlinewidth": 0,
              "ticks": ""
             }
            },
            "type": "parcoords"
           }
          ],
          "pie": [
           {
            "automargin": true,
            "type": "pie"
           }
          ],
          "scatter": [
           {
            "fillpattern": {
             "fillmode": "overlay",
             "size": 10,
             "solidity": 0.2
            },
            "type": "scatter"
           }
          ],
          "scatter3d": [
           {
            "line": {
             "colorbar": {
              "outlinewidth": 0,
              "ticks": ""
             }
            },
            "marker": {
             "colorbar": {
              "outlinewidth": 0,
              "ticks": ""
             }
            },
            "type": "scatter3d"
           }
          ],
          "scattercarpet": [
           {
            "marker": {
             "colorbar": {
              "outlinewidth": 0,
              "ticks": ""
             }
            },
            "type": "scattercarpet"
           }
          ],
          "scattergeo": [
           {
            "marker": {
             "colorbar": {
              "outlinewidth": 0,
              "ticks": ""
             }
            },
            "type": "scattergeo"
           }
          ],
          "scattergl": [
           {
            "marker": {
             "colorbar": {
              "outlinewidth": 0,
              "ticks": ""
             }
            },
            "type": "scattergl"
           }
          ],
          "scattermapbox": [
           {
            "marker": {
             "colorbar": {
              "outlinewidth": 0,
              "ticks": ""
             }
            },
            "type": "scattermapbox"
           }
          ],
          "scatterpolar": [
           {
            "marker": {
             "colorbar": {
              "outlinewidth": 0,
              "ticks": ""
             }
            },
            "type": "scatterpolar"
           }
          ],
          "scatterpolargl": [
           {
            "marker": {
             "colorbar": {
              "outlinewidth": 0,
              "ticks": ""
             }
            },
            "type": "scatterpolargl"
           }
          ],
          "scatterternary": [
           {
            "marker": {
             "colorbar": {
              "outlinewidth": 0,
              "ticks": ""
             }
            },
            "type": "scatterternary"
           }
          ],
          "surface": [
           {
            "colorbar": {
             "outlinewidth": 0,
             "ticks": ""
            },
            "colorscale": [
             [
              0,
              "#0d0887"
             ],
             [
              0.1111111111111111,
              "#46039f"
             ],
             [
              0.2222222222222222,
              "#7201a8"
             ],
             [
              0.3333333333333333,
              "#9c179e"
             ],
             [
              0.4444444444444444,
              "#bd3786"
             ],
             [
              0.5555555555555556,
              "#d8576b"
             ],
             [
              0.6666666666666666,
              "#ed7953"
             ],
             [
              0.7777777777777778,
              "#fb9f3a"
             ],
             [
              0.8888888888888888,
              "#fdca26"
             ],
             [
              1,
              "#f0f921"
             ]
            ],
            "type": "surface"
           }
          ],
          "table": [
           {
            "cells": {
             "fill": {
              "color": "#EBF0F8"
             },
             "line": {
              "color": "white"
             }
            },
            "header": {
             "fill": {
              "color": "#C8D4E3"
             },
             "line": {
              "color": "white"
             }
            },
            "type": "table"
           }
          ]
         },
         "layout": {
          "annotationdefaults": {
           "arrowcolor": "#2a3f5f",
           "arrowhead": 0,
           "arrowwidth": 1
          },
          "autotypenumbers": "strict",
          "coloraxis": {
           "colorbar": {
            "outlinewidth": 0,
            "ticks": ""
           }
          },
          "colorscale": {
           "diverging": [
            [
             0,
             "#8e0152"
            ],
            [
             0.1,
             "#c51b7d"
            ],
            [
             0.2,
             "#de77ae"
            ],
            [
             0.3,
             "#f1b6da"
            ],
            [
             0.4,
             "#fde0ef"
            ],
            [
             0.5,
             "#f7f7f7"
            ],
            [
             0.6,
             "#e6f5d0"
            ],
            [
             0.7,
             "#b8e186"
            ],
            [
             0.8,
             "#7fbc41"
            ],
            [
             0.9,
             "#4d9221"
            ],
            [
             1,
             "#276419"
            ]
           ],
           "sequential": [
            [
             0,
             "#0d0887"
            ],
            [
             0.1111111111111111,
             "#46039f"
            ],
            [
             0.2222222222222222,
             "#7201a8"
            ],
            [
             0.3333333333333333,
             "#9c179e"
            ],
            [
             0.4444444444444444,
             "#bd3786"
            ],
            [
             0.5555555555555556,
             "#d8576b"
            ],
            [
             0.6666666666666666,
             "#ed7953"
            ],
            [
             0.7777777777777778,
             "#fb9f3a"
            ],
            [
             0.8888888888888888,
             "#fdca26"
            ],
            [
             1,
             "#f0f921"
            ]
           ],
           "sequentialminus": [
            [
             0,
             "#0d0887"
            ],
            [
             0.1111111111111111,
             "#46039f"
            ],
            [
             0.2222222222222222,
             "#7201a8"
            ],
            [
             0.3333333333333333,
             "#9c179e"
            ],
            [
             0.4444444444444444,
             "#bd3786"
            ],
            [
             0.5555555555555556,
             "#d8576b"
            ],
            [
             0.6666666666666666,
             "#ed7953"
            ],
            [
             0.7777777777777778,
             "#fb9f3a"
            ],
            [
             0.8888888888888888,
             "#fdca26"
            ],
            [
             1,
             "#f0f921"
            ]
           ]
          },
          "colorway": [
           "#636efa",
           "#EF553B",
           "#00cc96",
           "#ab63fa",
           "#FFA15A",
           "#19d3f3",
           "#FF6692",
           "#B6E880",
           "#FF97FF",
           "#FECB52"
          ],
          "font": {
           "color": "#2a3f5f"
          },
          "geo": {
           "bgcolor": "white",
           "lakecolor": "white",
           "landcolor": "#E5ECF6",
           "showlakes": true,
           "showland": true,
           "subunitcolor": "white"
          },
          "hoverlabel": {
           "align": "left"
          },
          "hovermode": "closest",
          "mapbox": {
           "style": "light"
          },
          "paper_bgcolor": "white",
          "plot_bgcolor": "#E5ECF6",
          "polar": {
           "angularaxis": {
            "gridcolor": "white",
            "linecolor": "white",
            "ticks": ""
           },
           "bgcolor": "#E5ECF6",
           "radialaxis": {
            "gridcolor": "white",
            "linecolor": "white",
            "ticks": ""
           }
          },
          "scene": {
           "xaxis": {
            "backgroundcolor": "#E5ECF6",
            "gridcolor": "white",
            "gridwidth": 2,
            "linecolor": "white",
            "showbackground": true,
            "ticks": "",
            "zerolinecolor": "white"
           },
           "yaxis": {
            "backgroundcolor": "#E5ECF6",
            "gridcolor": "white",
            "gridwidth": 2,
            "linecolor": "white",
            "showbackground": true,
            "ticks": "",
            "zerolinecolor": "white"
           },
           "zaxis": {
            "backgroundcolor": "#E5ECF6",
            "gridcolor": "white",
            "gridwidth": 2,
            "linecolor": "white",
            "showbackground": true,
            "ticks": "",
            "zerolinecolor": "white"
           }
          },
          "shapedefaults": {
           "line": {
            "color": "#2a3f5f"
           }
          },
          "ternary": {
           "aaxis": {
            "gridcolor": "white",
            "linecolor": "white",
            "ticks": ""
           },
           "baxis": {
            "gridcolor": "white",
            "linecolor": "white",
            "ticks": ""
           },
           "bgcolor": "#E5ECF6",
           "caxis": {
            "gridcolor": "white",
            "linecolor": "white",
            "ticks": ""
           }
          },
          "title": {
           "x": 0.05
          },
          "xaxis": {
           "automargin": true,
           "gridcolor": "white",
           "linecolor": "white",
           "ticks": "",
           "title": {
            "standoff": 15
           },
           "zerolinecolor": "white",
           "zerolinewidth": 2
          },
          "yaxis": {
           "automargin": true,
           "gridcolor": "white",
           "linecolor": "white",
           "ticks": "",
           "title": {
            "standoff": 15
           },
           "zerolinecolor": "white",
           "zerolinewidth": 2
          }
         }
        },
        "title": {
         "font": {
          "size": 18
         },
         "text": "Relativer Anteil von Trinkgeld (True/False) pro Tageszeit der Bestellung",
         "x": 0.5
        },
        "xaxis": {
         "anchor": "y",
         "categoryarray": [
          "Morgen",
          "Mittag",
          "Abend",
          "Nacht"
         ],
         "categoryorder": "array",
         "domain": [
          0,
          1
         ],
         "title": {
          "text": "Tageszeit der Bestellung"
         }
        },
        "yaxis": {
         "anchor": "x",
         "domain": [
          0,
          1
         ],
         "tickformat": ".0%",
         "title": {
          "text": "Relativer Anteil (%)"
         }
        }
       }
      }
     },
     "metadata": {},
     "output_type": "display_data"
    }
   ],
   "source": [
    "fig_order_part_of_day = px.bar(\n",
    "    day_part_counts,\n",
    "    x=\"order_part_of_day\", \n",
    "    y=\"relative_per_part_of_day\",\n",
    "    color=\"tip\",\n",
    "    labels={\"order_part_of_day\": \"Tageszeit der Bestellung\", \"relative_per_part_of_day\": \"Relativer Anteil (%)\", \"tip\": \"Trinkgeld gegeben\"},\n",
    "    title=\"Relativer Anteil von Trinkgeld (True/False) pro Tageszeit der Bestellung\",\n",
    "    color_discrete_map={True: \"green\", False: \"red\"},\n",
    "    category_orders={\"order_part_of_day\": [\"Morgen\", \"Mittag\", \"Abend\", \"Nacht\"], \"tip\": [True, False]}  # Reihenfolge hier festlegen\n",
    ")\n",
    "\n",
    "# Achsentitel und Layout anpassen\n",
    "fig_order_part_of_day.update_layout(\n",
    "    title_font=dict(size=18),  # Schriftgröße des Titels erhöhen\n",
    "    title_x=0.5,               # Titel horizontal zentrieren\n",
    "    yaxis_tickformat=\".0%\",    # Format der Y-Achsen-Werte als Prozent ohne Nachkommastellen\n",
    ")\n",
    "\n",
    "# Stil der Balken und Hover-Informationen anpassen\n",
    "fig_order_part_of_day.update_traces(\n",
    "    marker_line_width=1.5,                           \n",
    "    marker_line_color=\"black\",\n",
    "    hovertemplate=\"<b>Trinkgeld gegeben:</b> <br>\" +\n",
    "                  \"<b>Tageszeit der Bestellung:</b> %{x} <br>\" +\n",
    "                  \"<b>Relativer Anteil:</b> %{y:.2%}\" # Zeigt den relativen Anteil mit 2 Dezimalstellen\n",
    ")\n",
    "\n",
    "# Diagramm anzeigen\n",
    "fig_order_part_of_day.show()"
   ]
  },
  {
   "cell_type": "markdown",
   "id": "4362c753-a747-40b2-99bc-8b8e1f515ca9",
   "metadata": {
    "tags": []
   },
   "source": [
    "##### Erste Interpretation"
   ]
  },
  {
   "cell_type": "markdown",
   "id": "de4b30b3-1838-46c5-980a-172465513882",
   "metadata": {},
   "source": [
    "=> Es lässt sich eine leichte Tendenz ablesen, dass in der Mitte vom Tag tendenziell weniger Trinkgeld gegeben wird als am Tagesanfang oder -ende."
   ]
  },
  {
   "cell_type": "markdown",
   "id": "1c7c3c17-f694-4704-b363-19b5d65995b5",
   "metadata": {
    "tags": []
   },
   "source": [
    "##### Stochastischer Beweis"
   ]
  },
  {
   "cell_type": "markdown",
   "id": "e4f6c3e1-0551-457c-bbf5-ca6d9a451060",
   "metadata": {},
   "source": [
    "- Tageszeit -> Intervallskaliert\n",
    "- Annahme: Normalverteilung, da n > 30\n",
    "- Nullhypothese H0: Es besteht kein Zusammenhang zwischen dem Trinkgeldverhalten und der Tageszeit.\n",
    "- Alternativhypothese H1: Es besteht ein Zusammenhang zwischem dem Trinkgeldverhalten und der Tageszeit.\n",
    "- Signifikanzniveau: 0.05"
   ]
  },
  {
   "cell_type": "markdown",
   "id": "6068932b-c494-45f7-9509-c46d58fe391f",
   "metadata": {},
   "source": [
    "##### Ansatz: Gauß-Test\n",
    "Quelle: Buch - Wahrscheinlichkeitsrechnung und induktive Statistik (S. 317)"
   ]
  },
  {
   "cell_type": "markdown",
   "id": "e2f30e0b-1f2a-4896-9d34-38a3618f7b9b",
   "metadata": {},
   "source": [
    "- Mittelwerte der Bestellzeiten ausrechnen:\n",
    "  - Bestellung mit Trinkgeld\n",
    "  - Bestellung ohne Trinkgeld\n",
    "  <br>\n",
    "=> Prüfen, ob signifikanter Unterschied existiert"
   ]
  },
  {
   "cell_type": "code",
   "execution_count": 112,
   "id": "de686acd-141e-4678-a23e-997509c89f2b",
   "metadata": {},
   "outputs": [
    {
     "name": "stdout",
     "output_type": "stream",
     "text": [
      "Durchschnittliche Bestellzeit bei Trinkgeld: 13.56\n",
      "Durchschnittliche Bestellzeit ohne Trinkgeld: 13.34\n"
     ]
    }
   ],
   "source": [
    "# Durschnittliche Bestellzeit pro Tag nach Tip = True/False\n",
    "mean_time_tip = df_orders_tips[df_orders_tips[\"tip\"] == True][\"order_hour_of_day\"].mean()\n",
    "mean_time_no_tip= df_orders_tips[df_orders_tips[\"tip\"] == False][\"order_hour_of_day\"].mean()\n",
    "\n",
    "print(f\"Durchschnittliche Bestellzeit bei Trinkgeld: {round(mean_time_tip, 2)}\")\n",
    "print(f\"Durchschnittliche Bestellzeit ohne Trinkgeld: {round(mean_time_no_tip, 2)}\")"
   ]
  },
  {
   "cell_type": "code",
   "execution_count": 113,
   "id": "8170ef9b",
   "metadata": {},
   "outputs": [
    {
     "name": "stdout",
     "output_type": "stream",
     "text": [
      "Anzahl Bestellungen mit Trinkgeld: 730113\n",
      "Anzahl Bestellungen ohne Trinkgeld: 942908\n"
     ]
    }
   ],
   "source": [
    "# Anzahl Bestellungen mit und ohne Trinkgeld => Prüfen, ob n > 30\n",
    "n_tip = df_orders_tips[df_orders_tips[\"tip\"] == True].shape[0]\n",
    "n_no_tip = df_orders_tips[df_orders_tips[\"tip\"] == False].shape[0]\n",
    "\n",
    "print(f\"Anzahl Bestellungen mit Trinkgeld: {n_tip}\")\n",
    "print(f\"Anzahl Bestellungen ohne Trinkgeld: {n_no_tip}\")"
   ]
  },
  {
   "cell_type": "code",
   "execution_count": 114,
   "id": "ec5b3d62",
   "metadata": {},
   "outputs": [
    {
     "name": "stdout",
     "output_type": "stream",
     "text": [
      "Varianz der Bestellzeit bei Trinkgeld: 19.83\n",
      "Varianz der Bestellzeit ohne Trinkgeld: 16.37\n"
     ]
    }
   ],
   "source": [
    "# Varianz der Bestellzeit pro Tag nach Tip = True/False\n",
    "var_time_tip = df_orders_tips[df_orders_tips[\"tip\"] == True][\"order_hour_of_day\"].var()\n",
    "var_time_no_tip = df_orders_tips[df_orders_tips[\"tip\"] == False][\"order_hour_of_day\"].var()\n",
    "\n",
    "print(f\"Varianz der Bestellzeit bei Trinkgeld: {round(var_time_tip, 2)}\")\n",
    "print(f\"Varianz der Bestellzeit ohne Trinkgeld: {round(var_time_no_tip, 2)}\")"
   ]
  },
  {
   "cell_type": "code",
   "execution_count": 115,
   "id": "2feeb173",
   "metadata": {},
   "outputs": [
    {
     "name": "stdout",
     "output_type": "stream",
     "text": [
      "Z-Wert: 32.42 > 1.96\n",
      "Es besteht ein signifikanter Unterschied zwischen den Mittelwerten der Bestellzeiten.\n"
     ]
    }
   ],
   "source": [
    "z0 = (mean_time_tip - mean_time_no_tip) / np.sqrt((var_time_tip / n_tip) + (var_time_no_tip / n_no_tip))\n",
    "\n",
    "# kritischer Wert für z-Test abgelesen für alpha = 0.05\n",
    "critical_value = 1.96\n",
    "\n",
    "if z0 > critical_value:\n",
    "    print(f\"Z-Wert: {round(z0,2)} > {round(critical_value,2)}\")\n",
    "    print(\"Es besteht ein signifikanter Unterschied zwischen den Mittelwerten der Bestellzeiten.\")\n",
    "else:\n",
    "    print(f\"Z-Wert: {round(z0,2)} < {round(critical_value,2)}\")\n",
    "    print(\"Es besteht kein signifikanter Unterschied zwischen den Mittelwerten der Bestellzeiten.\")"
   ]
  },
  {
   "cell_type": "markdown",
   "id": "6cf4de05-a1ff-4e62-a287-d2a5f03a482c",
   "metadata": {},
   "source": [
    "#### **Zusammenhang zum Wochentag**"
   ]
  },
  {
   "cell_type": "markdown",
   "id": "f72d8b46",
   "metadata": {},
   "source": [
    "Frage: Gibt es einen Zusammenhang zwisdchen Trinkgeldverhalten und dem Wochentag"
   ]
  },
  {
   "cell_type": "code",
   "execution_count": 100,
   "id": "f0b47bf8-3efd-401f-85df-5b1a2b712ccb",
   "metadata": {},
   "outputs": [],
   "source": [
    "# Anzahl der Bestellungen pro Wochentag\n",
    "weekday_counts = df_orders_tips.groupby([\"order_dow\", \"tip\"]).size().reset_index(name=\"count\")\n",
    "total_per_weekday = weekday_counts.groupby(\"order_dow\")[\"count\"].transform(\"sum\")\n",
    "weekday_counts[\"relative\"] = weekday_counts[\"count\"] / total_per_weekday\n",
    "# rename days\n",
    "weekday_counts[\"order_dow\"] = weekday_counts[\"order_dow\"].replace({0: \"Samstag\", 1: \"Sonntag\", 2: \"Montag\", 3: \"Dienstag\", 4: \"Mittwoch\", 5: \"Donnerstag\", 6: \"Freitag\"})\n",
    "#weekday_counts.head(20)"
   ]
  },
  {
   "cell_type": "code",
   "execution_count": 105,
   "id": "12df9b13-744d-4312-bf7d-43ff9873da20",
   "metadata": {},
   "outputs": [
    {
     "data": {
      "application/vnd.plotly.v1+json": {
       "config": {
        "plotlyServerURL": "https://plot.ly"
       },
       "data": [
        {
         "alignmentgroup": "True",
         "hovertemplate": "<b>Trinkgeld gegeben:</b>  <br><b>Wochentag der Bestellung:</b> %{x} <br><b>Relativer Anteil:</b> %{y:.2%}",
         "legendgroup": "True",
         "marker": {
          "color": "green",
          "line": {
           "color": "black",
           "width": 1.5
          },
          "pattern": {
           "shape": ""
          }
         },
         "name": "True",
         "offsetgroup": "True",
         "orientation": "v",
         "showlegend": true,
         "textposition": "auto",
         "type": "bar",
         "x": [
          "Samstag",
          "Sonntag",
          "Montag",
          "Dienstag",
          "Mittwoch",
          "Donnerstag",
          "Freitag"
         ],
         "xaxis": "x",
         "y": [
          0.5275512818323114,
          0.5368215706456728,
          0.3832958945537501,
          0.3800576341869128,
          0.38844761881935624,
          0.3924852161546701,
          0.3835010243569315
         ],
         "yaxis": "y"
        },
        {
         "alignmentgroup": "True",
         "hovertemplate": "<b>Trinkgeld gegeben:</b>  <br><b>Wochentag der Bestellung:</b> %{x} <br><b>Relativer Anteil:</b> %{y:.2%}",
         "legendgroup": "False",
         "marker": {
          "color": "red",
          "line": {
           "color": "black",
           "width": 1.5
          },
          "pattern": {
           "shape": ""
          }
         },
         "name": "False",
         "offsetgroup": "False",
         "orientation": "v",
         "showlegend": true,
         "textposition": "auto",
         "type": "bar",
         "x": [
          "Samstag",
          "Sonntag",
          "Montag",
          "Dienstag",
          "Mittwoch",
          "Donnerstag",
          "Freitag"
         ],
         "xaxis": "x",
         "y": [
          0.4724487181676886,
          0.4631784293543272,
          0.6167041054462499,
          0.6199423658130871,
          0.6115523811806438,
          0.60751478384533,
          0.6164989756430685
         ],
         "yaxis": "y"
        }
       ],
       "layout": {
        "barmode": "stack",
        "legend": {
         "title": {
          "text": "Trinkgeld gegeben"
         },
         "tracegroupgap": 0
        },
        "template": {
         "data": {
          "bar": [
           {
            "error_x": {
             "color": "#2a3f5f"
            },
            "error_y": {
             "color": "#2a3f5f"
            },
            "marker": {
             "line": {
              "color": "#E5ECF6",
              "width": 0.5
             },
             "pattern": {
              "fillmode": "overlay",
              "size": 10,
              "solidity": 0.2
             }
            },
            "type": "bar"
           }
          ],
          "barpolar": [
           {
            "marker": {
             "line": {
              "color": "#E5ECF6",
              "width": 0.5
             },
             "pattern": {
              "fillmode": "overlay",
              "size": 10,
              "solidity": 0.2
             }
            },
            "type": "barpolar"
           }
          ],
          "carpet": [
           {
            "aaxis": {
             "endlinecolor": "#2a3f5f",
             "gridcolor": "white",
             "linecolor": "white",
             "minorgridcolor": "white",
             "startlinecolor": "#2a3f5f"
            },
            "baxis": {
             "endlinecolor": "#2a3f5f",
             "gridcolor": "white",
             "linecolor": "white",
             "minorgridcolor": "white",
             "startlinecolor": "#2a3f5f"
            },
            "type": "carpet"
           }
          ],
          "choropleth": [
           {
            "colorbar": {
             "outlinewidth": 0,
             "ticks": ""
            },
            "type": "choropleth"
           }
          ],
          "contour": [
           {
            "colorbar": {
             "outlinewidth": 0,
             "ticks": ""
            },
            "colorscale": [
             [
              0,
              "#0d0887"
             ],
             [
              0.1111111111111111,
              "#46039f"
             ],
             [
              0.2222222222222222,
              "#7201a8"
             ],
             [
              0.3333333333333333,
              "#9c179e"
             ],
             [
              0.4444444444444444,
              "#bd3786"
             ],
             [
              0.5555555555555556,
              "#d8576b"
             ],
             [
              0.6666666666666666,
              "#ed7953"
             ],
             [
              0.7777777777777778,
              "#fb9f3a"
             ],
             [
              0.8888888888888888,
              "#fdca26"
             ],
             [
              1,
              "#f0f921"
             ]
            ],
            "type": "contour"
           }
          ],
          "contourcarpet": [
           {
            "colorbar": {
             "outlinewidth": 0,
             "ticks": ""
            },
            "type": "contourcarpet"
           }
          ],
          "heatmap": [
           {
            "colorbar": {
             "outlinewidth": 0,
             "ticks": ""
            },
            "colorscale": [
             [
              0,
              "#0d0887"
             ],
             [
              0.1111111111111111,
              "#46039f"
             ],
             [
              0.2222222222222222,
              "#7201a8"
             ],
             [
              0.3333333333333333,
              "#9c179e"
             ],
             [
              0.4444444444444444,
              "#bd3786"
             ],
             [
              0.5555555555555556,
              "#d8576b"
             ],
             [
              0.6666666666666666,
              "#ed7953"
             ],
             [
              0.7777777777777778,
              "#fb9f3a"
             ],
             [
              0.8888888888888888,
              "#fdca26"
             ],
             [
              1,
              "#f0f921"
             ]
            ],
            "type": "heatmap"
           }
          ],
          "heatmapgl": [
           {
            "colorbar": {
             "outlinewidth": 0,
             "ticks": ""
            },
            "colorscale": [
             [
              0,
              "#0d0887"
             ],
             [
              0.1111111111111111,
              "#46039f"
             ],
             [
              0.2222222222222222,
              "#7201a8"
             ],
             [
              0.3333333333333333,
              "#9c179e"
             ],
             [
              0.4444444444444444,
              "#bd3786"
             ],
             [
              0.5555555555555556,
              "#d8576b"
             ],
             [
              0.6666666666666666,
              "#ed7953"
             ],
             [
              0.7777777777777778,
              "#fb9f3a"
             ],
             [
              0.8888888888888888,
              "#fdca26"
             ],
             [
              1,
              "#f0f921"
             ]
            ],
            "type": "heatmapgl"
           }
          ],
          "histogram": [
           {
            "marker": {
             "pattern": {
              "fillmode": "overlay",
              "size": 10,
              "solidity": 0.2
             }
            },
            "type": "histogram"
           }
          ],
          "histogram2d": [
           {
            "colorbar": {
             "outlinewidth": 0,
             "ticks": ""
            },
            "colorscale": [
             [
              0,
              "#0d0887"
             ],
             [
              0.1111111111111111,
              "#46039f"
             ],
             [
              0.2222222222222222,
              "#7201a8"
             ],
             [
              0.3333333333333333,
              "#9c179e"
             ],
             [
              0.4444444444444444,
              "#bd3786"
             ],
             [
              0.5555555555555556,
              "#d8576b"
             ],
             [
              0.6666666666666666,
              "#ed7953"
             ],
             [
              0.7777777777777778,
              "#fb9f3a"
             ],
             [
              0.8888888888888888,
              "#fdca26"
             ],
             [
              1,
              "#f0f921"
             ]
            ],
            "type": "histogram2d"
           }
          ],
          "histogram2dcontour": [
           {
            "colorbar": {
             "outlinewidth": 0,
             "ticks": ""
            },
            "colorscale": [
             [
              0,
              "#0d0887"
             ],
             [
              0.1111111111111111,
              "#46039f"
             ],
             [
              0.2222222222222222,
              "#7201a8"
             ],
             [
              0.3333333333333333,
              "#9c179e"
             ],
             [
              0.4444444444444444,
              "#bd3786"
             ],
             [
              0.5555555555555556,
              "#d8576b"
             ],
             [
              0.6666666666666666,
              "#ed7953"
             ],
             [
              0.7777777777777778,
              "#fb9f3a"
             ],
             [
              0.8888888888888888,
              "#fdca26"
             ],
             [
              1,
              "#f0f921"
             ]
            ],
            "type": "histogram2dcontour"
           }
          ],
          "mesh3d": [
           {
            "colorbar": {
             "outlinewidth": 0,
             "ticks": ""
            },
            "type": "mesh3d"
           }
          ],
          "parcoords": [
           {
            "line": {
             "colorbar": {
              "outlinewidth": 0,
              "ticks": ""
             }
            },
            "type": "parcoords"
           }
          ],
          "pie": [
           {
            "automargin": true,
            "type": "pie"
           }
          ],
          "scatter": [
           {
            "fillpattern": {
             "fillmode": "overlay",
             "size": 10,
             "solidity": 0.2
            },
            "type": "scatter"
           }
          ],
          "scatter3d": [
           {
            "line": {
             "colorbar": {
              "outlinewidth": 0,
              "ticks": ""
             }
            },
            "marker": {
             "colorbar": {
              "outlinewidth": 0,
              "ticks": ""
             }
            },
            "type": "scatter3d"
           }
          ],
          "scattercarpet": [
           {
            "marker": {
             "colorbar": {
              "outlinewidth": 0,
              "ticks": ""
             }
            },
            "type": "scattercarpet"
           }
          ],
          "scattergeo": [
           {
            "marker": {
             "colorbar": {
              "outlinewidth": 0,
              "ticks": ""
             }
            },
            "type": "scattergeo"
           }
          ],
          "scattergl": [
           {
            "marker": {
             "colorbar": {
              "outlinewidth": 0,
              "ticks": ""
             }
            },
            "type": "scattergl"
           }
          ],
          "scattermapbox": [
           {
            "marker": {
             "colorbar": {
              "outlinewidth": 0,
              "ticks": ""
             }
            },
            "type": "scattermapbox"
           }
          ],
          "scatterpolar": [
           {
            "marker": {
             "colorbar": {
              "outlinewidth": 0,
              "ticks": ""
             }
            },
            "type": "scatterpolar"
           }
          ],
          "scatterpolargl": [
           {
            "marker": {
             "colorbar": {
              "outlinewidth": 0,
              "ticks": ""
             }
            },
            "type": "scatterpolargl"
           }
          ],
          "scatterternary": [
           {
            "marker": {
             "colorbar": {
              "outlinewidth": 0,
              "ticks": ""
             }
            },
            "type": "scatterternary"
           }
          ],
          "surface": [
           {
            "colorbar": {
             "outlinewidth": 0,
             "ticks": ""
            },
            "colorscale": [
             [
              0,
              "#0d0887"
             ],
             [
              0.1111111111111111,
              "#46039f"
             ],
             [
              0.2222222222222222,
              "#7201a8"
             ],
             [
              0.3333333333333333,
              "#9c179e"
             ],
             [
              0.4444444444444444,
              "#bd3786"
             ],
             [
              0.5555555555555556,
              "#d8576b"
             ],
             [
              0.6666666666666666,
              "#ed7953"
             ],
             [
              0.7777777777777778,
              "#fb9f3a"
             ],
             [
              0.8888888888888888,
              "#fdca26"
             ],
             [
              1,
              "#f0f921"
             ]
            ],
            "type": "surface"
           }
          ],
          "table": [
           {
            "cells": {
             "fill": {
              "color": "#EBF0F8"
             },
             "line": {
              "color": "white"
             }
            },
            "header": {
             "fill": {
              "color": "#C8D4E3"
             },
             "line": {
              "color": "white"
             }
            },
            "type": "table"
           }
          ]
         },
         "layout": {
          "annotationdefaults": {
           "arrowcolor": "#2a3f5f",
           "arrowhead": 0,
           "arrowwidth": 1
          },
          "autotypenumbers": "strict",
          "coloraxis": {
           "colorbar": {
            "outlinewidth": 0,
            "ticks": ""
           }
          },
          "colorscale": {
           "diverging": [
            [
             0,
             "#8e0152"
            ],
            [
             0.1,
             "#c51b7d"
            ],
            [
             0.2,
             "#de77ae"
            ],
            [
             0.3,
             "#f1b6da"
            ],
            [
             0.4,
             "#fde0ef"
            ],
            [
             0.5,
             "#f7f7f7"
            ],
            [
             0.6,
             "#e6f5d0"
            ],
            [
             0.7,
             "#b8e186"
            ],
            [
             0.8,
             "#7fbc41"
            ],
            [
             0.9,
             "#4d9221"
            ],
            [
             1,
             "#276419"
            ]
           ],
           "sequential": [
            [
             0,
             "#0d0887"
            ],
            [
             0.1111111111111111,
             "#46039f"
            ],
            [
             0.2222222222222222,
             "#7201a8"
            ],
            [
             0.3333333333333333,
             "#9c179e"
            ],
            [
             0.4444444444444444,
             "#bd3786"
            ],
            [
             0.5555555555555556,
             "#d8576b"
            ],
            [
             0.6666666666666666,
             "#ed7953"
            ],
            [
             0.7777777777777778,
             "#fb9f3a"
            ],
            [
             0.8888888888888888,
             "#fdca26"
            ],
            [
             1,
             "#f0f921"
            ]
           ],
           "sequentialminus": [
            [
             0,
             "#0d0887"
            ],
            [
             0.1111111111111111,
             "#46039f"
            ],
            [
             0.2222222222222222,
             "#7201a8"
            ],
            [
             0.3333333333333333,
             "#9c179e"
            ],
            [
             0.4444444444444444,
             "#bd3786"
            ],
            [
             0.5555555555555556,
             "#d8576b"
            ],
            [
             0.6666666666666666,
             "#ed7953"
            ],
            [
             0.7777777777777778,
             "#fb9f3a"
            ],
            [
             0.8888888888888888,
             "#fdca26"
            ],
            [
             1,
             "#f0f921"
            ]
           ]
          },
          "colorway": [
           "#636efa",
           "#EF553B",
           "#00cc96",
           "#ab63fa",
           "#FFA15A",
           "#19d3f3",
           "#FF6692",
           "#B6E880",
           "#FF97FF",
           "#FECB52"
          ],
          "font": {
           "color": "#2a3f5f"
          },
          "geo": {
           "bgcolor": "white",
           "lakecolor": "white",
           "landcolor": "#E5ECF6",
           "showlakes": true,
           "showland": true,
           "subunitcolor": "white"
          },
          "hoverlabel": {
           "align": "left"
          },
          "hovermode": "closest",
          "mapbox": {
           "style": "light"
          },
          "paper_bgcolor": "white",
          "plot_bgcolor": "#E5ECF6",
          "polar": {
           "angularaxis": {
            "gridcolor": "white",
            "linecolor": "white",
            "ticks": ""
           },
           "bgcolor": "#E5ECF6",
           "radialaxis": {
            "gridcolor": "white",
            "linecolor": "white",
            "ticks": ""
           }
          },
          "scene": {
           "xaxis": {
            "backgroundcolor": "#E5ECF6",
            "gridcolor": "white",
            "gridwidth": 2,
            "linecolor": "white",
            "showbackground": true,
            "ticks": "",
            "zerolinecolor": "white"
           },
           "yaxis": {
            "backgroundcolor": "#E5ECF6",
            "gridcolor": "white",
            "gridwidth": 2,
            "linecolor": "white",
            "showbackground": true,
            "ticks": "",
            "zerolinecolor": "white"
           },
           "zaxis": {
            "backgroundcolor": "#E5ECF6",
            "gridcolor": "white",
            "gridwidth": 2,
            "linecolor": "white",
            "showbackground": true,
            "ticks": "",
            "zerolinecolor": "white"
           }
          },
          "shapedefaults": {
           "line": {
            "color": "#2a3f5f"
           }
          },
          "ternary": {
           "aaxis": {
            "gridcolor": "white",
            "linecolor": "white",
            "ticks": ""
           },
           "baxis": {
            "gridcolor": "white",
            "linecolor": "white",
            "ticks": ""
           },
           "bgcolor": "#E5ECF6",
           "caxis": {
            "gridcolor": "white",
            "linecolor": "white",
            "ticks": ""
           }
          },
          "title": {
           "x": 0.05
          },
          "xaxis": {
           "automargin": true,
           "gridcolor": "white",
           "linecolor": "white",
           "ticks": "",
           "title": {
            "standoff": 15
           },
           "zerolinecolor": "white",
           "zerolinewidth": 2
          },
          "yaxis": {
           "automargin": true,
           "gridcolor": "white",
           "linecolor": "white",
           "ticks": "",
           "title": {
            "standoff": 15
           },
           "zerolinecolor": "white",
           "zerolinewidth": 2
          }
         }
        },
        "title": {
         "font": {
          "size": 18
         },
         "text": "Relativer Anteil von Trinkgeld (True/False) pro Wochentag der Bestellung",
         "x": 0.5
        },
        "xaxis": {
         "anchor": "y",
         "categoryarray": [
          "Montag",
          "Dienstag",
          "Mittwoch",
          "Donnerstag",
          "Freitag",
          "Samstag",
          "Sonntag"
         ],
         "categoryorder": "array",
         "domain": [
          0,
          1
         ],
         "title": {
          "text": "Wochentag der Bestellung"
         }
        },
        "yaxis": {
         "anchor": "x",
         "domain": [
          0,
          1
         ],
         "tickformat": ".0%",
         "title": {
          "text": "Relativer Anteil (%)"
         }
        }
       }
      }
     },
     "metadata": {},
     "output_type": "display_data"
    }
   ],
   "source": [
    "# Plotly gestapeltes Balkendiagramm\n",
    "fig_order_dow = px.bar(\n",
    "    weekday_counts,\n",
    "    x=\"order_dow\", \n",
    "    y=\"relative\",\n",
    "    color=\"tip\",\n",
    "    barmode=\"stack\",\n",
    "    labels={\"order_dow\": \"Wochentag der Bestellung\", \"relative\": \"Relativer Anteil (%)\", \"tip\": \"Trinkgeld gegeben\"},\n",
    "    title=\"Relativer Anteil von Trinkgeld (True/False) pro Wochentag der Bestellung\",\n",
    "    color_discrete_map={True: \"green\", False: \"red\"},\n",
    "    category_orders={\"order_dow\": [\"Montag\", \"Dienstag\", \"Mittwoch\", \"Donnerstag\", \"Freitag\", \"Samstag\", \"Sonntag\"], \"tip\": [True, False]}  # Reihenfolge hier festlegen\n",
    "    \n",
    ")\n",
    "\n",
    "# Achsentitel und Layout anpassen\n",
    "fig_order_dow.update_layout(\n",
    "    title_font=dict(size=18),  # Schriftgröße des Titels erhöhen\n",
    "    title_x=0.5,               # Titel horizontal zentrieren\n",
    "    yaxis_tickformat=\".0%\",    # Format der Y-Achsen-Werte als Prozent ohne Nachkommastellen\n",
    ")\n",
    "\n",
    "# Stil der Balken und Hover-Informationen anpassen\n",
    "fig_order_dow.update_traces(\n",
    "    marker_line_width=1.5,                           \n",
    "    marker_line_color=\"black\",\n",
    "    hovertemplate=\"<b>Trinkgeld gegeben:</b>  <br>\" +\n",
    "                  \"<b>Wochentag der Bestellung:</b> %{x} <br>\" +\n",
    "                  \"<b>Relativer Anteil:</b> %{y:.2%}\" # Zeigt den relativen Anteil mit 2 Dezimalstellen\n",
    ")\n",
    "    \n",
    "# Diagramm anzeigen\n",
    "fig_order_dow.show()"
   ]
  },
  {
   "cell_type": "markdown",
   "id": "72c61479-7ce1-4cf2-9c3c-0dba69eed29c",
   "metadata": {},
   "source": [
    "##### Erste Interpretation:"
   ]
  },
  {
   "cell_type": "markdown",
   "id": "c6f553bf-b00d-403a-b917-8e21bcbb9368",
   "metadata": {},
   "source": [
    "=> Es lässt sich eine Tendenz ablesen, dass am Wochenende etwa 14% mehr Trinkgeld gegeben wird als unter der Woche"
   ]
  },
  {
   "cell_type": "code",
   "execution_count": 89,
   "id": "a9b62ae9-9d75-4982-a41d-904320d6ede2",
   "metadata": {},
   "outputs": [
    {
     "name": "stdout",
     "output_type": "stream",
     "text": [
      "Freiheitsgrad: 6\n",
      "Kritischer Wert: 12.59\n"
     ]
    }
   ],
   "source": [
    "weekday_ct = pd.crosstab(df_orders_tips[\"order_dow\"], df_orders_tips[\"tip\"])\n",
    "freiheitsgrad = berechnung_freiheitsgrad(weekday_ct)\n",
    "signifikanz = 0.05\n",
    "critical_value = chi2.ppf(1 - signifikanz, freiheitsgrad)\n",
    "print(f\"Freiheitsgrad: {freiheitsgrad}\")\n",
    "print(f\"Kritischer Wert: {round(critical_value,2)}\")"
   ]
  },
  {
   "cell_type": "code",
   "execution_count": 90,
   "id": "2b6e1adc-6e2c-44e5-9948-f3caaf7376aa",
   "metadata": {},
   "outputs": [
    {
     "name": "stdout",
     "output_type": "stream",
     "text": [
      "Chi-Quadrat-Test: 33249.76\n",
      "p-Wert: 0.0\n",
      "Chi-Quadrat-Test: 33249.76 > 12.59\n",
      "Es besteht ein signifikanter Zusammenhang zwischen den Variablen.\n"
     ]
    }
   ],
   "source": [
    "chisquare, p, _, _ = chi2_contingency(weekday_ct)\n",
    "print(f\"Chi-Quadrat-Test: {round(chisquare,2)}\")\n",
    "print(f\"p-Wert: {round(p, 4)}\")\n",
    "\n",
    "if chisquare > critical_value:\n",
    "    print(f\"Chi-Quadrat-Test: {round(chisquare,2)} > {round(critical_value,2)}\")\n",
    "    print(\"Es besteht ein signifikanter Zusammenhang zwischen den Variablen.\")\n",
    "else:\n",
    "    print(f\"Chi-Quadrat-Test: {round(chisquare,2)} < {round(critical_value,2)}\")\n",
    "    print(\"Es besteht kein signifikanter Zusammenhang zwischen den Variablen.\")"
   ]
  },
  {
   "cell_type": "markdown",
   "id": "08f85a83-f388-4765-ae8d-1181344e1cd3",
   "metadata": {},
   "source": [
    "#### **Zusammenhang zum Zeitabstand zur vorherigen Bestellung**"
   ]
  },
  {
   "cell_type": "markdown",
   "id": "e58e4c5a",
   "metadata": {},
   "source": [
    "Frage: Gibt es ein Zusammenhang zwischen dem Trinkgeldverhalten und dem Zeitabstand der vorherigen Bestellung"
   ]
  },
  {
   "cell_type": "code",
   "execution_count": 91,
   "id": "556078d0-55b5-495b-bd30-fb6423f3ad51",
   "metadata": {},
   "outputs": [],
   "source": [
    "# W\n",
    "weekday_counts = df_orders_tips.groupby([\"order_dow\", \"tip\"]).size().reset_index(name=\"count\")\n",
    "total_per_weekday = weekday_counts.groupby(\"order_dow\")[\"count\"].transform(\"sum\")\n",
    "weekday_counts[\"relative\"] = weekday_counts[\"count\"] / total_per_weekday\n",
    "# Labeling der Tage\n",
    "weekday_counts[\"order_dow\"] = weekday_counts[\"order_dow\"].replace({0: \"Sonntag\", 1: \"Montag\", 2: \"Dienstag\", 3: \"Mittwoch\", 4: \"Donnerstag\", 5: \"Freitag\", 6: \"Samstag\"})\n",
    "#weekday_counts.head(20)"
   ]
  },
  {
   "cell_type": "code",
   "execution_count": 92,
   "id": "7c1cb956-3020-4664-b6a3-d116e5bbeeca",
   "metadata": {},
   "outputs": [
    {
     "data": {
      "text/html": [
       "<div>\n",
       "<style scoped>\n",
       "    .dataframe tbody tr th:only-of-type {\n",
       "        vertical-align: middle;\n",
       "    }\n",
       "\n",
       "    .dataframe tbody tr th {\n",
       "        vertical-align: top;\n",
       "    }\n",
       "\n",
       "    .dataframe thead th {\n",
       "        text-align: right;\n",
       "    }\n",
       "</style>\n",
       "<table border=\"1\" class=\"dataframe\">\n",
       "  <thead>\n",
       "    <tr style=\"text-align: right;\">\n",
       "      <th></th>\n",
       "      <th>days_since_prior_order</th>\n",
       "      <th>tip</th>\n",
       "      <th>count</th>\n",
       "      <th>relative</th>\n",
       "    </tr>\n",
       "  </thead>\n",
       "  <tbody>\n",
       "    <tr>\n",
       "      <th>0</th>\n",
       "      <td>0.0</td>\n",
       "      <td>False</td>\n",
       "      <td>18805</td>\n",
       "      <td>0.559556</td>\n",
       "    </tr>\n",
       "    <tr>\n",
       "      <th>1</th>\n",
       "      <td>0.0</td>\n",
       "      <td>True</td>\n",
       "      <td>14802</td>\n",
       "      <td>0.440444</td>\n",
       "    </tr>\n",
       "    <tr>\n",
       "      <th>2</th>\n",
       "      <td>1.0</td>\n",
       "      <td>False</td>\n",
       "      <td>41479</td>\n",
       "      <td>0.574167</td>\n",
       "    </tr>\n",
       "    <tr>\n",
       "      <th>3</th>\n",
       "      <td>1.0</td>\n",
       "      <td>True</td>\n",
       "      <td>30763</td>\n",
       "      <td>0.425833</td>\n",
       "    </tr>\n",
       "    <tr>\n",
       "      <th>4</th>\n",
       "      <td>2.0</td>\n",
       "      <td>False</td>\n",
       "      <td>52721</td>\n",
       "      <td>0.552278</td>\n",
       "    </tr>\n",
       "    <tr>\n",
       "      <th>5</th>\n",
       "      <td>2.0</td>\n",
       "      <td>True</td>\n",
       "      <td>42740</td>\n",
       "      <td>0.447722</td>\n",
       "    </tr>\n",
       "    <tr>\n",
       "      <th>6</th>\n",
       "      <td>3.0</td>\n",
       "      <td>False</td>\n",
       "      <td>56292</td>\n",
       "      <td>0.525465</td>\n",
       "    </tr>\n",
       "    <tr>\n",
       "      <th>7</th>\n",
       "      <td>3.0</td>\n",
       "      <td>True</td>\n",
       "      <td>50836</td>\n",
       "      <td>0.474535</td>\n",
       "    </tr>\n",
       "    <tr>\n",
       "      <th>8</th>\n",
       "      <td>4.0</td>\n",
       "      <td>False</td>\n",
       "      <td>55926</td>\n",
       "      <td>0.510539</td>\n",
       "    </tr>\n",
       "    <tr>\n",
       "      <th>9</th>\n",
       "      <td>4.0</td>\n",
       "      <td>True</td>\n",
       "      <td>53617</td>\n",
       "      <td>0.489461</td>\n",
       "    </tr>\n",
       "  </tbody>\n",
       "</table>\n",
       "</div>"
      ],
      "text/plain": [
       "   days_since_prior_order    tip  count  relative\n",
       "0                     0.0  False  18805  0.559556\n",
       "1                     0.0   True  14802  0.440444\n",
       "2                     1.0  False  41479  0.574167\n",
       "3                     1.0   True  30763  0.425833\n",
       "4                     2.0  False  52721  0.552278\n",
       "5                     2.0   True  42740  0.447722\n",
       "6                     3.0  False  56292  0.525465\n",
       "7                     3.0   True  50836  0.474535\n",
       "8                     4.0  False  55926  0.510539\n",
       "9                     4.0   True  53617  0.489461"
      ]
     },
     "execution_count": 92,
     "metadata": {},
     "output_type": "execute_result"
    }
   ],
   "source": [
    "timediff_counts = df_orders_tips.groupby([\"days_since_prior_order\", \"tip\"]).size().reset_index(name=\"count\")\n",
    "total_per_timediff = timediff_counts.groupby(\"days_since_prior_order\")[\"count\"].transform(\"sum\")\n",
    "timediff_counts[\"relative\"] = timediff_counts[\"count\"] / total_per_timediff\n",
    "timediff_counts.head(10)"
   ]
  },
  {
   "cell_type": "code",
   "execution_count": 93,
   "id": "2a795f4c-bd4e-4311-80a8-6c6411fd09e5",
   "metadata": {},
   "outputs": [
    {
     "data": {
      "application/vnd.plotly.v1+json": {
       "config": {
        "plotlyServerURL": "https://plot.ly"
       },
       "data": [
        {
         "alignmentgroup": "True",
         "hovertemplate": "<b>Trinkgeld gegeben:</b>  <br><b>Tage seit letzter Bestellung:</b> %{x} <br><b>Relativer Anteil:</b> %{y:.2%}",
         "legendgroup": "True",
         "marker": {
          "color": "green",
          "line": {
           "color": "black",
           "width": 1.5
          },
          "pattern": {
           "shape": ""
          }
         },
         "name": "True",
         "offsetgroup": "True",
         "orientation": "v",
         "showlegend": true,
         "textposition": "auto",
         "type": "bar",
         "x": [
          0,
          1,
          2,
          3,
          4,
          5,
          6,
          7,
          8,
          9,
          10,
          11,
          12,
          13,
          14,
          15,
          16,
          17,
          18,
          19,
          20,
          21,
          22,
          23,
          24,
          25,
          26,
          27,
          28,
          29,
          30
         ],
         "xaxis": "x",
         "y": [
          0.44044395512839585,
          0.42583261814456963,
          0.44772210640994753,
          0.47453513553879473,
          0.4894607597016697,
          0.4931648108379138,
          0.5154402772115777,
          0.5698808507948547,
          0.5119477990307453,
          0.46748491568253314,
          0.45893461225538473,
          0.44390059291030654,
          0.43801832077619385,
          0.43301329394387,
          0.4553887289181407,
          0.41564242368234605,
          0.3874706954936181,
          0.3783490785194363,
          0.37448299632352944,
          0.35663286734265315,
          0.3665779670037254,
          0.3966086159486709,
          0.35770485511418154,
          0.3383751080380294,
          0.3188607847042422,
          0.30435722780841173,
          0.30880908197795,
          0.2950048030739673,
          0.3304409005628518,
          0.30062220281628643,
          0.24848014636914206
         ],
         "yaxis": "y"
        },
        {
         "alignmentgroup": "True",
         "hovertemplate": "<b>Trinkgeld gegeben:</b>  <br><b>Tage seit letzter Bestellung:</b> %{x} <br><b>Relativer Anteil:</b> %{y:.2%}",
         "legendgroup": "False",
         "marker": {
          "color": "red",
          "line": {
           "color": "black",
           "width": 1.5
          },
          "pattern": {
           "shape": ""
          }
         },
         "name": "False",
         "offsetgroup": "False",
         "orientation": "v",
         "showlegend": true,
         "textposition": "auto",
         "type": "bar",
         "x": [
          0,
          1,
          2,
          3,
          4,
          5,
          6,
          7,
          8,
          9,
          10,
          11,
          12,
          13,
          14,
          15,
          16,
          17,
          18,
          19,
          20,
          21,
          22,
          23,
          24,
          25,
          26,
          27,
          28,
          29,
          30
         ],
         "xaxis": "x",
         "y": [
          0.5595560448716042,
          0.5741673818554304,
          0.5522778935900525,
          0.5254648644612053,
          0.5105392402983303,
          0.5068351891620863,
          0.48455972278842235,
          0.4301191492051452,
          0.4880522009692547,
          0.5325150843174669,
          0.5410653877446152,
          0.5560994070896934,
          0.5619816792238062,
          0.56698670605613,
          0.5446112710818594,
          0.584357576317654,
          0.6125293045063819,
          0.6216509214805638,
          0.6255170036764706,
          0.6433671326573469,
          0.6334220329962746,
          0.6033913840513291,
          0.6422951448858185,
          0.6616248919619706,
          0.6811392152957578,
          0.6956427721915883,
          0.69119091802205,
          0.7049951969260326,
          0.6695590994371482,
          0.6993777971837136,
          0.7515198536308579
         ],
         "yaxis": "y"
        }
       ],
       "layout": {
        "barmode": "relative",
        "legend": {
         "title": {
          "text": "Trinkgeld gegeben"
         },
         "tracegroupgap": 0
        },
        "template": {
         "data": {
          "bar": [
           {
            "error_x": {
             "color": "#2a3f5f"
            },
            "error_y": {
             "color": "#2a3f5f"
            },
            "marker": {
             "line": {
              "color": "#E5ECF6",
              "width": 0.5
             },
             "pattern": {
              "fillmode": "overlay",
              "size": 10,
              "solidity": 0.2
             }
            },
            "type": "bar"
           }
          ],
          "barpolar": [
           {
            "marker": {
             "line": {
              "color": "#E5ECF6",
              "width": 0.5
             },
             "pattern": {
              "fillmode": "overlay",
              "size": 10,
              "solidity": 0.2
             }
            },
            "type": "barpolar"
           }
          ],
          "carpet": [
           {
            "aaxis": {
             "endlinecolor": "#2a3f5f",
             "gridcolor": "white",
             "linecolor": "white",
             "minorgridcolor": "white",
             "startlinecolor": "#2a3f5f"
            },
            "baxis": {
             "endlinecolor": "#2a3f5f",
             "gridcolor": "white",
             "linecolor": "white",
             "minorgridcolor": "white",
             "startlinecolor": "#2a3f5f"
            },
            "type": "carpet"
           }
          ],
          "choropleth": [
           {
            "colorbar": {
             "outlinewidth": 0,
             "ticks": ""
            },
            "type": "choropleth"
           }
          ],
          "contour": [
           {
            "colorbar": {
             "outlinewidth": 0,
             "ticks": ""
            },
            "colorscale": [
             [
              0,
              "#0d0887"
             ],
             [
              0.1111111111111111,
              "#46039f"
             ],
             [
              0.2222222222222222,
              "#7201a8"
             ],
             [
              0.3333333333333333,
              "#9c179e"
             ],
             [
              0.4444444444444444,
              "#bd3786"
             ],
             [
              0.5555555555555556,
              "#d8576b"
             ],
             [
              0.6666666666666666,
              "#ed7953"
             ],
             [
              0.7777777777777778,
              "#fb9f3a"
             ],
             [
              0.8888888888888888,
              "#fdca26"
             ],
             [
              1,
              "#f0f921"
             ]
            ],
            "type": "contour"
           }
          ],
          "contourcarpet": [
           {
            "colorbar": {
             "outlinewidth": 0,
             "ticks": ""
            },
            "type": "contourcarpet"
           }
          ],
          "heatmap": [
           {
            "colorbar": {
             "outlinewidth": 0,
             "ticks": ""
            },
            "colorscale": [
             [
              0,
              "#0d0887"
             ],
             [
              0.1111111111111111,
              "#46039f"
             ],
             [
              0.2222222222222222,
              "#7201a8"
             ],
             [
              0.3333333333333333,
              "#9c179e"
             ],
             [
              0.4444444444444444,
              "#bd3786"
             ],
             [
              0.5555555555555556,
              "#d8576b"
             ],
             [
              0.6666666666666666,
              "#ed7953"
             ],
             [
              0.7777777777777778,
              "#fb9f3a"
             ],
             [
              0.8888888888888888,
              "#fdca26"
             ],
             [
              1,
              "#f0f921"
             ]
            ],
            "type": "heatmap"
           }
          ],
          "heatmapgl": [
           {
            "colorbar": {
             "outlinewidth": 0,
             "ticks": ""
            },
            "colorscale": [
             [
              0,
              "#0d0887"
             ],
             [
              0.1111111111111111,
              "#46039f"
             ],
             [
              0.2222222222222222,
              "#7201a8"
             ],
             [
              0.3333333333333333,
              "#9c179e"
             ],
             [
              0.4444444444444444,
              "#bd3786"
             ],
             [
              0.5555555555555556,
              "#d8576b"
             ],
             [
              0.6666666666666666,
              "#ed7953"
             ],
             [
              0.7777777777777778,
              "#fb9f3a"
             ],
             [
              0.8888888888888888,
              "#fdca26"
             ],
             [
              1,
              "#f0f921"
             ]
            ],
            "type": "heatmapgl"
           }
          ],
          "histogram": [
           {
            "marker": {
             "pattern": {
              "fillmode": "overlay",
              "size": 10,
              "solidity": 0.2
             }
            },
            "type": "histogram"
           }
          ],
          "histogram2d": [
           {
            "colorbar": {
             "outlinewidth": 0,
             "ticks": ""
            },
            "colorscale": [
             [
              0,
              "#0d0887"
             ],
             [
              0.1111111111111111,
              "#46039f"
             ],
             [
              0.2222222222222222,
              "#7201a8"
             ],
             [
              0.3333333333333333,
              "#9c179e"
             ],
             [
              0.4444444444444444,
              "#bd3786"
             ],
             [
              0.5555555555555556,
              "#d8576b"
             ],
             [
              0.6666666666666666,
              "#ed7953"
             ],
             [
              0.7777777777777778,
              "#fb9f3a"
             ],
             [
              0.8888888888888888,
              "#fdca26"
             ],
             [
              1,
              "#f0f921"
             ]
            ],
            "type": "histogram2d"
           }
          ],
          "histogram2dcontour": [
           {
            "colorbar": {
             "outlinewidth": 0,
             "ticks": ""
            },
            "colorscale": [
             [
              0,
              "#0d0887"
             ],
             [
              0.1111111111111111,
              "#46039f"
             ],
             [
              0.2222222222222222,
              "#7201a8"
             ],
             [
              0.3333333333333333,
              "#9c179e"
             ],
             [
              0.4444444444444444,
              "#bd3786"
             ],
             [
              0.5555555555555556,
              "#d8576b"
             ],
             [
              0.6666666666666666,
              "#ed7953"
             ],
             [
              0.7777777777777778,
              "#fb9f3a"
             ],
             [
              0.8888888888888888,
              "#fdca26"
             ],
             [
              1,
              "#f0f921"
             ]
            ],
            "type": "histogram2dcontour"
           }
          ],
          "mesh3d": [
           {
            "colorbar": {
             "outlinewidth": 0,
             "ticks": ""
            },
            "type": "mesh3d"
           }
          ],
          "parcoords": [
           {
            "line": {
             "colorbar": {
              "outlinewidth": 0,
              "ticks": ""
             }
            },
            "type": "parcoords"
           }
          ],
          "pie": [
           {
            "automargin": true,
            "type": "pie"
           }
          ],
          "scatter": [
           {
            "fillpattern": {
             "fillmode": "overlay",
             "size": 10,
             "solidity": 0.2
            },
            "type": "scatter"
           }
          ],
          "scatter3d": [
           {
            "line": {
             "colorbar": {
              "outlinewidth": 0,
              "ticks": ""
             }
            },
            "marker": {
             "colorbar": {
              "outlinewidth": 0,
              "ticks": ""
             }
            },
            "type": "scatter3d"
           }
          ],
          "scattercarpet": [
           {
            "marker": {
             "colorbar": {
              "outlinewidth": 0,
              "ticks": ""
             }
            },
            "type": "scattercarpet"
           }
          ],
          "scattergeo": [
           {
            "marker": {
             "colorbar": {
              "outlinewidth": 0,
              "ticks": ""
             }
            },
            "type": "scattergeo"
           }
          ],
          "scattergl": [
           {
            "marker": {
             "colorbar": {
              "outlinewidth": 0,
              "ticks": ""
             }
            },
            "type": "scattergl"
           }
          ],
          "scattermapbox": [
           {
            "marker": {
             "colorbar": {
              "outlinewidth": 0,
              "ticks": ""
             }
            },
            "type": "scattermapbox"
           }
          ],
          "scatterpolar": [
           {
            "marker": {
             "colorbar": {
              "outlinewidth": 0,
              "ticks": ""
             }
            },
            "type": "scatterpolar"
           }
          ],
          "scatterpolargl": [
           {
            "marker": {
             "colorbar": {
              "outlinewidth": 0,
              "ticks": ""
             }
            },
            "type": "scatterpolargl"
           }
          ],
          "scatterternary": [
           {
            "marker": {
             "colorbar": {
              "outlinewidth": 0,
              "ticks": ""
             }
            },
            "type": "scatterternary"
           }
          ],
          "surface": [
           {
            "colorbar": {
             "outlinewidth": 0,
             "ticks": ""
            },
            "colorscale": [
             [
              0,
              "#0d0887"
             ],
             [
              0.1111111111111111,
              "#46039f"
             ],
             [
              0.2222222222222222,
              "#7201a8"
             ],
             [
              0.3333333333333333,
              "#9c179e"
             ],
             [
              0.4444444444444444,
              "#bd3786"
             ],
             [
              0.5555555555555556,
              "#d8576b"
             ],
             [
              0.6666666666666666,
              "#ed7953"
             ],
             [
              0.7777777777777778,
              "#fb9f3a"
             ],
             [
              0.8888888888888888,
              "#fdca26"
             ],
             [
              1,
              "#f0f921"
             ]
            ],
            "type": "surface"
           }
          ],
          "table": [
           {
            "cells": {
             "fill": {
              "color": "#EBF0F8"
             },
             "line": {
              "color": "white"
             }
            },
            "header": {
             "fill": {
              "color": "#C8D4E3"
             },
             "line": {
              "color": "white"
             }
            },
            "type": "table"
           }
          ]
         },
         "layout": {
          "annotationdefaults": {
           "arrowcolor": "#2a3f5f",
           "arrowhead": 0,
           "arrowwidth": 1
          },
          "autotypenumbers": "strict",
          "coloraxis": {
           "colorbar": {
            "outlinewidth": 0,
            "ticks": ""
           }
          },
          "colorscale": {
           "diverging": [
            [
             0,
             "#8e0152"
            ],
            [
             0.1,
             "#c51b7d"
            ],
            [
             0.2,
             "#de77ae"
            ],
            [
             0.3,
             "#f1b6da"
            ],
            [
             0.4,
             "#fde0ef"
            ],
            [
             0.5,
             "#f7f7f7"
            ],
            [
             0.6,
             "#e6f5d0"
            ],
            [
             0.7,
             "#b8e186"
            ],
            [
             0.8,
             "#7fbc41"
            ],
            [
             0.9,
             "#4d9221"
            ],
            [
             1,
             "#276419"
            ]
           ],
           "sequential": [
            [
             0,
             "#0d0887"
            ],
            [
             0.1111111111111111,
             "#46039f"
            ],
            [
             0.2222222222222222,
             "#7201a8"
            ],
            [
             0.3333333333333333,
             "#9c179e"
            ],
            [
             0.4444444444444444,
             "#bd3786"
            ],
            [
             0.5555555555555556,
             "#d8576b"
            ],
            [
             0.6666666666666666,
             "#ed7953"
            ],
            [
             0.7777777777777778,
             "#fb9f3a"
            ],
            [
             0.8888888888888888,
             "#fdca26"
            ],
            [
             1,
             "#f0f921"
            ]
           ],
           "sequentialminus": [
            [
             0,
             "#0d0887"
            ],
            [
             0.1111111111111111,
             "#46039f"
            ],
            [
             0.2222222222222222,
             "#7201a8"
            ],
            [
             0.3333333333333333,
             "#9c179e"
            ],
            [
             0.4444444444444444,
             "#bd3786"
            ],
            [
             0.5555555555555556,
             "#d8576b"
            ],
            [
             0.6666666666666666,
             "#ed7953"
            ],
            [
             0.7777777777777778,
             "#fb9f3a"
            ],
            [
             0.8888888888888888,
             "#fdca26"
            ],
            [
             1,
             "#f0f921"
            ]
           ]
          },
          "colorway": [
           "#636efa",
           "#EF553B",
           "#00cc96",
           "#ab63fa",
           "#FFA15A",
           "#19d3f3",
           "#FF6692",
           "#B6E880",
           "#FF97FF",
           "#FECB52"
          ],
          "font": {
           "color": "#2a3f5f"
          },
          "geo": {
           "bgcolor": "white",
           "lakecolor": "white",
           "landcolor": "#E5ECF6",
           "showlakes": true,
           "showland": true,
           "subunitcolor": "white"
          },
          "hoverlabel": {
           "align": "left"
          },
          "hovermode": "closest",
          "mapbox": {
           "style": "light"
          },
          "paper_bgcolor": "white",
          "plot_bgcolor": "#E5ECF6",
          "polar": {
           "angularaxis": {
            "gridcolor": "white",
            "linecolor": "white",
            "ticks": ""
           },
           "bgcolor": "#E5ECF6",
           "radialaxis": {
            "gridcolor": "white",
            "linecolor": "white",
            "ticks": ""
           }
          },
          "scene": {
           "xaxis": {
            "backgroundcolor": "#E5ECF6",
            "gridcolor": "white",
            "gridwidth": 2,
            "linecolor": "white",
            "showbackground": true,
            "ticks": "",
            "zerolinecolor": "white"
           },
           "yaxis": {
            "backgroundcolor": "#E5ECF6",
            "gridcolor": "white",
            "gridwidth": 2,
            "linecolor": "white",
            "showbackground": true,
            "ticks": "",
            "zerolinecolor": "white"
           },
           "zaxis": {
            "backgroundcolor": "#E5ECF6",
            "gridcolor": "white",
            "gridwidth": 2,
            "linecolor": "white",
            "showbackground": true,
            "ticks": "",
            "zerolinecolor": "white"
           }
          },
          "shapedefaults": {
           "line": {
            "color": "#2a3f5f"
           }
          },
          "ternary": {
           "aaxis": {
            "gridcolor": "white",
            "linecolor": "white",
            "ticks": ""
           },
           "baxis": {
            "gridcolor": "white",
            "linecolor": "white",
            "ticks": ""
           },
           "bgcolor": "#E5ECF6",
           "caxis": {
            "gridcolor": "white",
            "linecolor": "white",
            "ticks": ""
           }
          },
          "title": {
           "x": 0.05
          },
          "xaxis": {
           "automargin": true,
           "gridcolor": "white",
           "linecolor": "white",
           "ticks": "",
           "title": {
            "standoff": 15
           },
           "zerolinecolor": "white",
           "zerolinewidth": 2
          },
          "yaxis": {
           "automargin": true,
           "gridcolor": "white",
           "linecolor": "white",
           "ticks": "",
           "title": {
            "standoff": 15
           },
           "zerolinecolor": "white",
           "zerolinewidth": 2
          }
         }
        },
        "title": {
         "font": {
          "size": 18
         },
         "text": "Relativer Anteil von Trinkgeld (True/False) pro Tage seit letzter Bestellung",
         "x": 0.5
        },
        "xaxis": {
         "anchor": "y",
         "domain": [
          0,
          1
         ],
         "title": {
          "text": "Tage seit letzter Bestellung"
         }
        },
        "yaxis": {
         "anchor": "x",
         "domain": [
          0,
          1
         ],
         "tickformat": ".0%",
         "title": {
          "text": "Relativer Anteil (%)"
         }
        }
       }
      }
     },
     "metadata": {},
     "output_type": "display_data"
    }
   ],
   "source": [
    "fig_days_since_prior_order = px.bar(\n",
    "    timediff_counts,\n",
    "    x=\"days_since_prior_order\",\n",
    "    y=\"relative\",\n",
    "    color=\"tip\",\n",
    "    labels={\"days_since_prior_order\": \"Tage seit letzter Bestellung\", \"relative\": \"Relativer Anteil (%)\", \"tip\": \"Trinkgeld gegeben\"},\n",
    "    title=\"Relativer Anteil von Trinkgeld (True/False) pro Tage seit letzter Bestellung\",\n",
    "    color_discrete_map={True: \"green\", False: \"red\"},\n",
    "    category_orders={\"tip\": [True, False]}\n",
    ")\n",
    "\n",
    "# Achsentitel und Layout anpassen\n",
    "fig_days_since_prior_order.update_layout(\n",
    "    title_font=dict(size=18),  # Schriftgröße des Titels erhöhen\n",
    "    title_x=0.5,               # Titel horizontal zentrieren\n",
    "    yaxis_tickformat=\".0%\",    # Format der Y-Achsen-Werte als Prozent ohne Nachkommastellen\n",
    ")\n",
    "\n",
    "# Stil der Balken und Hover-Informationen anpassen\n",
    "fig_days_since_prior_order.update_traces(\n",
    "    marker_line_width=1.5,                           \n",
    "    marker_line_color=\"black\",\n",
    "    hovertemplate=\"<b>Trinkgeld gegeben:</b>  <br>\" +\n",
    "                  \"<b>Tage seit letzter Bestellung:</b> %{x} <br>\" +\n",
    "                  \"<b>Relativer Anteil:</b> %{y:.2%}\" # Zeigt den relativen Anteil mit 2 Dezimalstellen\n",
    ")\n",
    "    \n",
    "# Diagramm anzeigen\n",
    "fig_days_since_prior_order.show()"
   ]
  },
  {
   "cell_type": "code",
   "execution_count": 94,
   "id": "7d2e46d4-1184-4549-ab96-e0d104a74c64",
   "metadata": {},
   "outputs": [
    {
     "data": {
      "application/vnd.plotly.v1+json": {
       "config": {
        "plotlyServerURL": "https://plot.ly"
       },
       "data": [
        {
         "hovertemplate": "<b>Trinkgeld gegeben:</b>  <br><b>Tage seit letzter Bestellung:</b> %{x} <br><b>Relativer Anteil:</b> %{y:.2%}",
         "legendgroup": "False",
         "line": {
          "color": "red",
          "dash": "solid"
         },
         "marker": {
          "line": {
           "color": "black",
           "width": 1.5
          },
          "symbol": "circle"
         },
         "mode": "lines",
         "name": "False",
         "orientation": "v",
         "showlegend": true,
         "type": "scatter",
         "x": [
          0,
          1,
          2,
          3,
          4,
          5,
          6,
          7,
          8,
          9,
          10,
          11,
          12,
          13,
          14,
          15,
          16,
          17,
          18,
          19,
          20,
          21,
          22,
          23,
          24,
          25,
          26,
          27,
          28,
          29,
          30
         ],
         "xaxis": "x",
         "y": [
          0.5595560448716042,
          0.5741673818554304,
          0.5522778935900525,
          0.5254648644612053,
          0.5105392402983303,
          0.5068351891620863,
          0.48455972278842235,
          0.4301191492051452,
          0.4880522009692547,
          0.5325150843174669,
          0.5410653877446152,
          0.5560994070896934,
          0.5619816792238062,
          0.56698670605613,
          0.5446112710818594,
          0.584357576317654,
          0.6125293045063819,
          0.6216509214805638,
          0.6255170036764706,
          0.6433671326573469,
          0.6334220329962746,
          0.6033913840513291,
          0.6422951448858185,
          0.6616248919619706,
          0.6811392152957578,
          0.6956427721915883,
          0.69119091802205,
          0.7049951969260326,
          0.6695590994371482,
          0.6993777971837136,
          0.7515198536308579
         ],
         "yaxis": "y"
        },
        {
         "hovertemplate": "<b>Trinkgeld gegeben:</b>  <br><b>Tage seit letzter Bestellung:</b> %{x} <br><b>Relativer Anteil:</b> %{y:.2%}",
         "legendgroup": "True",
         "line": {
          "color": "green",
          "dash": "solid"
         },
         "marker": {
          "line": {
           "color": "black",
           "width": 1.5
          },
          "symbol": "circle"
         },
         "mode": "lines",
         "name": "True",
         "orientation": "v",
         "showlegend": true,
         "type": "scatter",
         "x": [
          0,
          1,
          2,
          3,
          4,
          5,
          6,
          7,
          8,
          9,
          10,
          11,
          12,
          13,
          14,
          15,
          16,
          17,
          18,
          19,
          20,
          21,
          22,
          23,
          24,
          25,
          26,
          27,
          28,
          29,
          30
         ],
         "xaxis": "x",
         "y": [
          0.44044395512839585,
          0.42583261814456963,
          0.44772210640994753,
          0.47453513553879473,
          0.4894607597016697,
          0.4931648108379138,
          0.5154402772115777,
          0.5698808507948547,
          0.5119477990307453,
          0.46748491568253314,
          0.45893461225538473,
          0.44390059291030654,
          0.43801832077619385,
          0.43301329394387,
          0.4553887289181407,
          0.41564242368234605,
          0.3874706954936181,
          0.3783490785194363,
          0.37448299632352944,
          0.35663286734265315,
          0.3665779670037254,
          0.3966086159486709,
          0.35770485511418154,
          0.3383751080380294,
          0.3188607847042422,
          0.30435722780841173,
          0.30880908197795,
          0.2950048030739673,
          0.3304409005628518,
          0.30062220281628643,
          0.24848014636914206
         ],
         "yaxis": "y"
        }
       ],
       "layout": {
        "legend": {
         "title": {
          "text": "Trinkgeld gegeben"
         },
         "tracegroupgap": 0
        },
        "template": {
         "data": {
          "bar": [
           {
            "error_x": {
             "color": "#2a3f5f"
            },
            "error_y": {
             "color": "#2a3f5f"
            },
            "marker": {
             "line": {
              "color": "#E5ECF6",
              "width": 0.5
             },
             "pattern": {
              "fillmode": "overlay",
              "size": 10,
              "solidity": 0.2
             }
            },
            "type": "bar"
           }
          ],
          "barpolar": [
           {
            "marker": {
             "line": {
              "color": "#E5ECF6",
              "width": 0.5
             },
             "pattern": {
              "fillmode": "overlay",
              "size": 10,
              "solidity": 0.2
             }
            },
            "type": "barpolar"
           }
          ],
          "carpet": [
           {
            "aaxis": {
             "endlinecolor": "#2a3f5f",
             "gridcolor": "white",
             "linecolor": "white",
             "minorgridcolor": "white",
             "startlinecolor": "#2a3f5f"
            },
            "baxis": {
             "endlinecolor": "#2a3f5f",
             "gridcolor": "white",
             "linecolor": "white",
             "minorgridcolor": "white",
             "startlinecolor": "#2a3f5f"
            },
            "type": "carpet"
           }
          ],
          "choropleth": [
           {
            "colorbar": {
             "outlinewidth": 0,
             "ticks": ""
            },
            "type": "choropleth"
           }
          ],
          "contour": [
           {
            "colorbar": {
             "outlinewidth": 0,
             "ticks": ""
            },
            "colorscale": [
             [
              0,
              "#0d0887"
             ],
             [
              0.1111111111111111,
              "#46039f"
             ],
             [
              0.2222222222222222,
              "#7201a8"
             ],
             [
              0.3333333333333333,
              "#9c179e"
             ],
             [
              0.4444444444444444,
              "#bd3786"
             ],
             [
              0.5555555555555556,
              "#d8576b"
             ],
             [
              0.6666666666666666,
              "#ed7953"
             ],
             [
              0.7777777777777778,
              "#fb9f3a"
             ],
             [
              0.8888888888888888,
              "#fdca26"
             ],
             [
              1,
              "#f0f921"
             ]
            ],
            "type": "contour"
           }
          ],
          "contourcarpet": [
           {
            "colorbar": {
             "outlinewidth": 0,
             "ticks": ""
            },
            "type": "contourcarpet"
           }
          ],
          "heatmap": [
           {
            "colorbar": {
             "outlinewidth": 0,
             "ticks": ""
            },
            "colorscale": [
             [
              0,
              "#0d0887"
             ],
             [
              0.1111111111111111,
              "#46039f"
             ],
             [
              0.2222222222222222,
              "#7201a8"
             ],
             [
              0.3333333333333333,
              "#9c179e"
             ],
             [
              0.4444444444444444,
              "#bd3786"
             ],
             [
              0.5555555555555556,
              "#d8576b"
             ],
             [
              0.6666666666666666,
              "#ed7953"
             ],
             [
              0.7777777777777778,
              "#fb9f3a"
             ],
             [
              0.8888888888888888,
              "#fdca26"
             ],
             [
              1,
              "#f0f921"
             ]
            ],
            "type": "heatmap"
           }
          ],
          "heatmapgl": [
           {
            "colorbar": {
             "outlinewidth": 0,
             "ticks": ""
            },
            "colorscale": [
             [
              0,
              "#0d0887"
             ],
             [
              0.1111111111111111,
              "#46039f"
             ],
             [
              0.2222222222222222,
              "#7201a8"
             ],
             [
              0.3333333333333333,
              "#9c179e"
             ],
             [
              0.4444444444444444,
              "#bd3786"
             ],
             [
              0.5555555555555556,
              "#d8576b"
             ],
             [
              0.6666666666666666,
              "#ed7953"
             ],
             [
              0.7777777777777778,
              "#fb9f3a"
             ],
             [
              0.8888888888888888,
              "#fdca26"
             ],
             [
              1,
              "#f0f921"
             ]
            ],
            "type": "heatmapgl"
           }
          ],
          "histogram": [
           {
            "marker": {
             "pattern": {
              "fillmode": "overlay",
              "size": 10,
              "solidity": 0.2
             }
            },
            "type": "histogram"
           }
          ],
          "histogram2d": [
           {
            "colorbar": {
             "outlinewidth": 0,
             "ticks": ""
            },
            "colorscale": [
             [
              0,
              "#0d0887"
             ],
             [
              0.1111111111111111,
              "#46039f"
             ],
             [
              0.2222222222222222,
              "#7201a8"
             ],
             [
              0.3333333333333333,
              "#9c179e"
             ],
             [
              0.4444444444444444,
              "#bd3786"
             ],
             [
              0.5555555555555556,
              "#d8576b"
             ],
             [
              0.6666666666666666,
              "#ed7953"
             ],
             [
              0.7777777777777778,
              "#fb9f3a"
             ],
             [
              0.8888888888888888,
              "#fdca26"
             ],
             [
              1,
              "#f0f921"
             ]
            ],
            "type": "histogram2d"
           }
          ],
          "histogram2dcontour": [
           {
            "colorbar": {
             "outlinewidth": 0,
             "ticks": ""
            },
            "colorscale": [
             [
              0,
              "#0d0887"
             ],
             [
              0.1111111111111111,
              "#46039f"
             ],
             [
              0.2222222222222222,
              "#7201a8"
             ],
             [
              0.3333333333333333,
              "#9c179e"
             ],
             [
              0.4444444444444444,
              "#bd3786"
             ],
             [
              0.5555555555555556,
              "#d8576b"
             ],
             [
              0.6666666666666666,
              "#ed7953"
             ],
             [
              0.7777777777777778,
              "#fb9f3a"
             ],
             [
              0.8888888888888888,
              "#fdca26"
             ],
             [
              1,
              "#f0f921"
             ]
            ],
            "type": "histogram2dcontour"
           }
          ],
          "mesh3d": [
           {
            "colorbar": {
             "outlinewidth": 0,
             "ticks": ""
            },
            "type": "mesh3d"
           }
          ],
          "parcoords": [
           {
            "line": {
             "colorbar": {
              "outlinewidth": 0,
              "ticks": ""
             }
            },
            "type": "parcoords"
           }
          ],
          "pie": [
           {
            "automargin": true,
            "type": "pie"
           }
          ],
          "scatter": [
           {
            "fillpattern": {
             "fillmode": "overlay",
             "size": 10,
             "solidity": 0.2
            },
            "type": "scatter"
           }
          ],
          "scatter3d": [
           {
            "line": {
             "colorbar": {
              "outlinewidth": 0,
              "ticks": ""
             }
            },
            "marker": {
             "colorbar": {
              "outlinewidth": 0,
              "ticks": ""
             }
            },
            "type": "scatter3d"
           }
          ],
          "scattercarpet": [
           {
            "marker": {
             "colorbar": {
              "outlinewidth": 0,
              "ticks": ""
             }
            },
            "type": "scattercarpet"
           }
          ],
          "scattergeo": [
           {
            "marker": {
             "colorbar": {
              "outlinewidth": 0,
              "ticks": ""
             }
            },
            "type": "scattergeo"
           }
          ],
          "scattergl": [
           {
            "marker": {
             "colorbar": {
              "outlinewidth": 0,
              "ticks": ""
             }
            },
            "type": "scattergl"
           }
          ],
          "scattermapbox": [
           {
            "marker": {
             "colorbar": {
              "outlinewidth": 0,
              "ticks": ""
             }
            },
            "type": "scattermapbox"
           }
          ],
          "scatterpolar": [
           {
            "marker": {
             "colorbar": {
              "outlinewidth": 0,
              "ticks": ""
             }
            },
            "type": "scatterpolar"
           }
          ],
          "scatterpolargl": [
           {
            "marker": {
             "colorbar": {
              "outlinewidth": 0,
              "ticks": ""
             }
            },
            "type": "scatterpolargl"
           }
          ],
          "scatterternary": [
           {
            "marker": {
             "colorbar": {
              "outlinewidth": 0,
              "ticks": ""
             }
            },
            "type": "scatterternary"
           }
          ],
          "surface": [
           {
            "colorbar": {
             "outlinewidth": 0,
             "ticks": ""
            },
            "colorscale": [
             [
              0,
              "#0d0887"
             ],
             [
              0.1111111111111111,
              "#46039f"
             ],
             [
              0.2222222222222222,
              "#7201a8"
             ],
             [
              0.3333333333333333,
              "#9c179e"
             ],
             [
              0.4444444444444444,
              "#bd3786"
             ],
             [
              0.5555555555555556,
              "#d8576b"
             ],
             [
              0.6666666666666666,
              "#ed7953"
             ],
             [
              0.7777777777777778,
              "#fb9f3a"
             ],
             [
              0.8888888888888888,
              "#fdca26"
             ],
             [
              1,
              "#f0f921"
             ]
            ],
            "type": "surface"
           }
          ],
          "table": [
           {
            "cells": {
             "fill": {
              "color": "#EBF0F8"
             },
             "line": {
              "color": "white"
             }
            },
            "header": {
             "fill": {
              "color": "#C8D4E3"
             },
             "line": {
              "color": "white"
             }
            },
            "type": "table"
           }
          ]
         },
         "layout": {
          "annotationdefaults": {
           "arrowcolor": "#2a3f5f",
           "arrowhead": 0,
           "arrowwidth": 1
          },
          "autotypenumbers": "strict",
          "coloraxis": {
           "colorbar": {
            "outlinewidth": 0,
            "ticks": ""
           }
          },
          "colorscale": {
           "diverging": [
            [
             0,
             "#8e0152"
            ],
            [
             0.1,
             "#c51b7d"
            ],
            [
             0.2,
             "#de77ae"
            ],
            [
             0.3,
             "#f1b6da"
            ],
            [
             0.4,
             "#fde0ef"
            ],
            [
             0.5,
             "#f7f7f7"
            ],
            [
             0.6,
             "#e6f5d0"
            ],
            [
             0.7,
             "#b8e186"
            ],
            [
             0.8,
             "#7fbc41"
            ],
            [
             0.9,
             "#4d9221"
            ],
            [
             1,
             "#276419"
            ]
           ],
           "sequential": [
            [
             0,
             "#0d0887"
            ],
            [
             0.1111111111111111,
             "#46039f"
            ],
            [
             0.2222222222222222,
             "#7201a8"
            ],
            [
             0.3333333333333333,
             "#9c179e"
            ],
            [
             0.4444444444444444,
             "#bd3786"
            ],
            [
             0.5555555555555556,
             "#d8576b"
            ],
            [
             0.6666666666666666,
             "#ed7953"
            ],
            [
             0.7777777777777778,
             "#fb9f3a"
            ],
            [
             0.8888888888888888,
             "#fdca26"
            ],
            [
             1,
             "#f0f921"
            ]
           ],
           "sequentialminus": [
            [
             0,
             "#0d0887"
            ],
            [
             0.1111111111111111,
             "#46039f"
            ],
            [
             0.2222222222222222,
             "#7201a8"
            ],
            [
             0.3333333333333333,
             "#9c179e"
            ],
            [
             0.4444444444444444,
             "#bd3786"
            ],
            [
             0.5555555555555556,
             "#d8576b"
            ],
            [
             0.6666666666666666,
             "#ed7953"
            ],
            [
             0.7777777777777778,
             "#fb9f3a"
            ],
            [
             0.8888888888888888,
             "#fdca26"
            ],
            [
             1,
             "#f0f921"
            ]
           ]
          },
          "colorway": [
           "#636efa",
           "#EF553B",
           "#00cc96",
           "#ab63fa",
           "#FFA15A",
           "#19d3f3",
           "#FF6692",
           "#B6E880",
           "#FF97FF",
           "#FECB52"
          ],
          "font": {
           "color": "#2a3f5f"
          },
          "geo": {
           "bgcolor": "white",
           "lakecolor": "white",
           "landcolor": "#E5ECF6",
           "showlakes": true,
           "showland": true,
           "subunitcolor": "white"
          },
          "hoverlabel": {
           "align": "left"
          },
          "hovermode": "closest",
          "mapbox": {
           "style": "light"
          },
          "paper_bgcolor": "white",
          "plot_bgcolor": "#E5ECF6",
          "polar": {
           "angularaxis": {
            "gridcolor": "white",
            "linecolor": "white",
            "ticks": ""
           },
           "bgcolor": "#E5ECF6",
           "radialaxis": {
            "gridcolor": "white",
            "linecolor": "white",
            "ticks": ""
           }
          },
          "scene": {
           "xaxis": {
            "backgroundcolor": "#E5ECF6",
            "gridcolor": "white",
            "gridwidth": 2,
            "linecolor": "white",
            "showbackground": true,
            "ticks": "",
            "zerolinecolor": "white"
           },
           "yaxis": {
            "backgroundcolor": "#E5ECF6",
            "gridcolor": "white",
            "gridwidth": 2,
            "linecolor": "white",
            "showbackground": true,
            "ticks": "",
            "zerolinecolor": "white"
           },
           "zaxis": {
            "backgroundcolor": "#E5ECF6",
            "gridcolor": "white",
            "gridwidth": 2,
            "linecolor": "white",
            "showbackground": true,
            "ticks": "",
            "zerolinecolor": "white"
           }
          },
          "shapedefaults": {
           "line": {
            "color": "#2a3f5f"
           }
          },
          "ternary": {
           "aaxis": {
            "gridcolor": "white",
            "linecolor": "white",
            "ticks": ""
           },
           "baxis": {
            "gridcolor": "white",
            "linecolor": "white",
            "ticks": ""
           },
           "bgcolor": "#E5ECF6",
           "caxis": {
            "gridcolor": "white",
            "linecolor": "white",
            "ticks": ""
           }
          },
          "title": {
           "x": 0.05
          },
          "xaxis": {
           "automargin": true,
           "gridcolor": "white",
           "linecolor": "white",
           "ticks": "",
           "title": {
            "standoff": 15
           },
           "zerolinecolor": "white",
           "zerolinewidth": 2
          },
          "yaxis": {
           "automargin": true,
           "gridcolor": "white",
           "linecolor": "white",
           "ticks": "",
           "title": {
            "standoff": 15
           },
           "zerolinecolor": "white",
           "zerolinewidth": 2
          }
         }
        },
        "title": {
         "font": {
          "size": 18
         },
         "text": "Relativer Anteil von Trinkgeld (True/False) pro Tage seit letzter Bestellung",
         "x": 0.5
        },
        "xaxis": {
         "anchor": "y",
         "domain": [
          0,
          1
         ],
         "title": {
          "text": "Tage seit letzter Bestellung"
         }
        },
        "yaxis": {
         "anchor": "x",
         "autorange": false,
         "domain": [
          0,
          1
         ],
         "dtick": 0.2,
         "range": [
          0.2,
          0.8
         ],
         "tickformat": ".0%",
         "title": {
          "text": "Trinkgeld-Wahrscheinlichkeit (%)"
         }
        }
       }
      }
     },
     "metadata": {},
     "output_type": "display_data"
    }
   ],
   "source": [
    "fig_days_since_prior_order_line = px.line(\n",
    "    timediff_counts,\n",
    "    x=\"days_since_prior_order\",\n",
    "    y=\"relative\",\n",
    "    color=\"tip\",\n",
    "    labels={\"days_since_prior_order\": \"Tage seit letzter Bestellung\", \"relative\": \"Relativer Anteil (%)\", \"tip\": \"Trinkgeld gegeben\"},\n",
    "    title=\"Relativer Anteil von Trinkgeld (True/False) pro Tage seit letzter Bestellung\",\n",
    "    color_discrete_map={True: \"green\", False: \"red\"},\n",
    ")\n",
    "\n",
    "# Achsentitel und Layout anpassen\n",
    "fig_days_since_prior_order_line.update_layout(\n",
    "    title_font=dict(size=18),  # Schriftgröße des Titels erhöhen\n",
    "    title_x=0.5,               # Titel horizontal zentrieren\n",
    "    yaxis=dict(title='Trinkgeld-Wahrscheinlichkeit (%)', tickformat=\".0%\", dtick=0.2, autorange=False, range=[0.2, 0.8]), # Prozentformat + Schritte in 10er-Intervallen\n",
    ")\n",
    "\n",
    "# Stil der Balken und Hover-Informationen anpassen\n",
    "fig_days_since_prior_order_line.update_traces(\n",
    "    marker_line_width=1.5,                           \n",
    "    marker_line_color=\"black\",\n",
    "    hovertemplate=\"<b>Trinkgeld gegeben:</b>  <br>\" +\n",
    "                  \"<b>Tage seit letzter Bestellung:</b> %{x} <br>\" +\n",
    "                  \"<b>Relativer Anteil:</b> %{y:.2%}\" # Zeigt den relativen Anteil mit 2 Dezimalstellen\n",
    ")\n",
    "\n",
    "# Diagramm anzeigen\n",
    "fig_days_since_prior_order_line "
   ]
  },
  {
   "cell_type": "markdown",
   "id": "9b98a365-6c45-47c3-a182-080171d3b250",
   "metadata": {},
   "source": [
    "##### Erste Interpretation:"
   ]
  },
  {
   "cell_type": "markdown",
   "id": "709ce1e4-7584-40bc-a025-a36a8de8fc2f",
   "metadata": {},
   "source": [
    "=> Umso länger die letzte Bestellung her ist, umso unwahrscheinlicher scheint es, dass Trinkgeld gegeben wird.\n",
    "<br>\n",
    "=> Ca. im Abstand von einer Woche wird am meisten Trinkgeld gegeben."
   ]
  },
  {
   "cell_type": "code",
   "execution_count": 95,
   "id": "55bc8e2c-dd18-4a90-9db8-4f3a7f3119db",
   "metadata": {},
   "outputs": [
    {
     "name": "stdout",
     "output_type": "stream",
     "text": [
      "Durchschnittlicher Bestellabstand bei Trinkgeld: 9.4\n",
      "Durchschnittliche Bestellabstand ohne Trinkgeld: 12.2\n"
     ]
    }
   ],
   "source": [
    "# Durschnittliche Bestellzeit pro Tag nach Tip = True/False\n",
    "mean_timediff_tip = df_orders_tips[df_orders_tips[\"tip\"] == True][\"days_since_prior_order\"].mean()\n",
    "mean_timediff_no_tip= df_orders_tips[df_orders_tips[\"tip\"] == False][\"days_since_prior_order\"].mean()\n",
    "\n",
    "print(f\"Durchschnittlicher Bestellabstand bei Trinkgeld: {round(mean_timediff_tip, 2)}\")\n",
    "print(f\"Durchschnittliche Bestellabstand ohne Trinkgeld: {round(mean_timediff_no_tip, 2)}\")"
   ]
  },
  {
   "cell_type": "code",
   "execution_count": 96,
   "id": "cc931fbe-cee2-4d35-9af0-5cce25efe421",
   "metadata": {},
   "outputs": [
    {
     "name": "stdout",
     "output_type": "stream",
     "text": [
      "Anzahl Bestellungen mit Trinkgeld: 730113\n",
      "Anzahl Bestellungen ohne Trinkgeld: 942908\n"
     ]
    }
   ],
   "source": [
    "# Anzahl Bestellungen mit und ohne Trinkgeld => Prüfen, ob n > 30\n",
    "n_tip = df_orders_tips[df_orders_tips[\"tip\"] == True].shape[0]\n",
    "n_no_tip = df_orders_tips[df_orders_tips[\"tip\"] == False].shape[0]\n",
    "\n",
    "print(f\"Anzahl Bestellungen mit Trinkgeld: {n_tip}\")\n",
    "print(f\"Anzahl Bestellungen ohne Trinkgeld: {n_no_tip}\")"
   ]
  },
  {
   "cell_type": "code",
   "execution_count": 97,
   "id": "9068dcf1-f6bc-4ab0-a0f7-160b55264e8e",
   "metadata": {},
   "outputs": [
    {
     "name": "stdout",
     "output_type": "stream",
     "text": [
      "Varianz des Bestellabstandes bei Trinkgeld: 61.06\n",
      "Varianz des Bestellabstandes ohne Trinkgeld: 97.06\n"
     ]
    }
   ],
   "source": [
    "# Varianz der Bestellzeit pro Tag nach Tip = True/False\n",
    "var_timediff_tip = df_orders_tips[df_orders_tips[\"tip\"] == True][\"days_since_prior_order\"].var()\n",
    "var_timediff_no_tip = df_orders_tips[df_orders_tips[\"tip\"] == False][\"days_since_prior_order\"].var()\n",
    "\n",
    "print(f\"Varianz des Bestellabstandes bei Trinkgeld: {round(var_timediff_tip, 2)}\")\n",
    "print(f\"Varianz des Bestellabstandes ohne Trinkgeld: {round(var_timediff_no_tip, 2)}\")"
   ]
  },
  {
   "cell_type": "code",
   "execution_count": 98,
   "id": "d8bfca60-c9c0-445a-a7a9-a12e73accde5",
   "metadata": {},
   "outputs": [
    {
     "name": "stdout",
     "output_type": "stream",
     "text": [
      "Z-Wert: -204.77\n",
      "Z-Wert: 204.77 > 1.96\n",
      "Es besteht ein signifikanter Unterschied zwischen den Mittelwerten der Bestellzeiten.\n"
     ]
    }
   ],
   "source": [
    "z0 = (mean_timediff_tip - mean_timediff_no_tip) / np.sqrt((var_timediff_tip / n_tip) + (var_timediff_no_tip / n_no_tip))\n",
    "print(f\"Z-Wert: {round(z0, 2)}\")\n",
    "\n",
    "# Betrag des Z-Werts\n",
    "z0 = np.abs(z0)\n",
    "\n",
    "# kritischer Wert für z-Test abgelesen für alpha = 0.05\n",
    "critical_value = 1.96\n",
    "\n",
    "if z0 > critical_value:\n",
    "    print(f\"Z-Wert: {round(z0,2)} > {round(critical_value,2)}\")\n",
    "    print(\"Es besteht ein signifikanter Unterschied zwischen den Mittelwerten der Bestellzeiten.\")\n",
    "else:\n",
    "    print(f\"Z-Wert: {round(z0,2)} < {round(critical_value,2)}\")\n",
    "    print(\"Es besteht kein signifikanter Unterschied zwischen den Mittelwerten der Bestellzeiten.\")"
   ]
  },
  {
   "cell_type": "markdown",
   "id": "5ae31562-df5d-4134-b718-695f29c0aa01",
   "metadata": {},
   "source": [
    "## **Zusammenfassung**"
   ]
  },
  {
   "cell_type": "markdown",
   "id": "f2b6da45",
   "metadata": {},
   "source": [
    "#### <u> Trinkgeldverhalten zu bisherigen Bestellungen der Kunden </u>\n",
    "Es konnte sowohl zur vorheriger als auch zur vor-vorheriger Bestellung ein signifikanter Zusammenhang bewiesen werden. <br>\n",
    "=> Kunden scheinen ihr Trinkgeldverhalten beizubehalten.\n",
    "\n",
    "#### <u> Trinkgeldverhalten bei Department und Produkten </u>\n",
    "Auch ein direkter Zusammenhang sowohl zu Department konnte bewiesen werden. Die Art des Produktes und des Departments sind jedenfalls ein Faktor, welcher sich aber auch aus anderen Attributen des Produktes wie beispielsweise der Preis oder die Transportanforderung ergeben kann. \n",
    "\n",
    "#### <u> Trinkgeldverhalten zum zeitlichen Einfluss </u>\n",
    "Auch der zeitliche Einfluss ist klar ersichtlich und zwar in allen drei Attributen. Hier kommt besonders zum Vorschein, dass gerade zu Zeiten außerhalb der normalen Arbeitszeit eher Trinkgeld gegeben wird. Es scheint als das gerade Nachts oder am Wochenende Lieferungen eher wertgeschätzt werden."
   ]
  }
 ],
 "metadata": {
  "kernelspec": {
   "display_name": "Python 3",
   "language": "python",
   "name": "python3"
  },
  "language_info": {
   "codemirror_mode": {
    "name": "ipython",
    "version": 3
   },
   "file_extension": ".py",
   "mimetype": "text/x-python",
   "name": "python",
   "nbconvert_exporter": "python",
   "pygments_lexer": "ipython3",
   "version": "3.12.8"
  },
  "toc-autonumbering": false,
  "toc-showmarkdowntxt": false,
  "toc-showtags": true
 },
 "nbformat": 4,
 "nbformat_minor": 5
}
